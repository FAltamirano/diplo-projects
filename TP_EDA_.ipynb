{
  "nbformat": 4,
  "nbformat_minor": 0,
  "metadata": {
    "colab": {
      "name": "TP EDA .ipynb",
      "provenance": [],
      "collapsed_sections": [
        "O943uhUbsVqJ",
        "T3LGa2Kq_zyT"
      ]
    },
    "kernelspec": {
      "display_name": "Python 3",
      "language": "python",
      "name": "python3"
    },
    "language_info": {
      "codemirror_mode": {
        "name": "ipython",
        "version": 3
      },
      "file_extension": ".py",
      "mimetype": "text/x-python",
      "name": "python",
      "nbconvert_exporter": "python",
      "pygments_lexer": "ipython3",
      "version": "3.8.5"
    }
  },
  "cells": [
    {
      "cell_type": "markdown",
      "metadata": {
        "id": "0_zzSyZq5dJ7"
      },
      "source": [
        "<h1 align=center><font size = 5>Trabajo Práctico Módulo 1: \n",
        "Exploración de Datos </font></h1> \n",
        "\n"
      ]
    },
    {
      "cell_type": "markdown",
      "metadata": {
        "id": "O943uhUbsVqJ"
      },
      "source": [
        "\n",
        "### **Tabla de contenidos**\n",
        "\n",
        "  1. [Importacion de librerias](#q1) \n",
        "  2. [Empezamos explorando el dataset para entenderlo](#q2)\n",
        "  3. [Ahora hacemos limpieza de datos](#q3)\n",
        "  4. [Análisis de Distribución Univariada de las columnas](#q4)\n",
        "  5. [Calculamos la proporción de ventas en monto de ventas (Pesos) y en unidades (Q) por categoría y brand](#q5)\n",
        "\n",
        "\n",
        "\n",
        "\n"
      ]
    },
    {
      "cell_type": "markdown",
      "metadata": {
        "id": "T3LGa2Kq_zyT"
      },
      "source": [
        "### Importación de librerías <a name=\"q1\"></a>\n"
      ]
    },
    {
      "cell_type": "code",
      "metadata": {
        "id": "RN1PiNFp5dKT"
      },
      "source": [
        "import pandas as pd\n",
        "import numpy as np\n",
        "import seaborn as sns\n",
        "import matplotlib.pyplot as plt\n",
        "from datetime import datetime\n",
        "import statistics as stat\n",
        "import pyarrow.parquet as pq #Necesaria para leer el parquet\n",
        "pd.set_option('display.float_format', lambda x: '%.3f' % x) #Para transformar la notación científica"
      ],
      "execution_count": null,
      "outputs": []
    },
    {
      "cell_type": "markdown",
      "metadata": {
        "id": "oWDUtwo65dKY"
      },
      "source": [
        "### Empezamos explorando el dataset para entenderlo <a name=\"q2\"></a>\n",
        "\n",
        "\n"
      ]
    },
    {
      "cell_type": "code",
      "metadata": {
        "id": "cGmPiNw8Bd2h",
        "colab": {
          "base_uri": "https://localhost:8080/"
        },
        "outputId": "ce6a48c4-5367-431f-eaf9-ca3d54107889"
      },
      "source": [
        "from google.colab import drive\n",
        "drive.mount('/content/drive')"
      ],
      "execution_count": null,
      "outputs": [
        {
          "output_type": "stream",
          "name": "stdout",
          "text": [
            "Mounted at /content/drive\n"
          ]
        }
      ]
    },
    {
      "cell_type": "code",
      "metadata": {
        "id": "6yNi2Wd85dKZ"
      },
      "source": [
        "df = pd.read_parquet('/content/drive/Shareddrives/Diplo DS -Grupo 01/TP1/smallersampleddf.parquet')"
      ],
      "execution_count": null,
      "outputs": []
    },
    {
      "cell_type": "code",
      "metadata": {
        "id": "PnEFRXBK5dKZ",
        "colab": {
          "base_uri": "https://localhost:8080/",
          "height": 205
        },
        "outputId": "a7aefdda-3656-419a-f804-de3cac98942f"
      },
      "source": [
        "# Vemos las primeras filas\n",
        "\n",
        "df.head()"
      ],
      "execution_count": null,
      "outputs": [
        {
          "output_type": "execute_result",
          "data": {
            "text/html": [
              "<div>\n",
              "<style scoped>\n",
              "    .dataframe tbody tr th:only-of-type {\n",
              "        vertical-align: middle;\n",
              "    }\n",
              "\n",
              "    .dataframe tbody tr th {\n",
              "        vertical-align: top;\n",
              "    }\n",
              "\n",
              "    .dataframe thead th {\n",
              "        text-align: right;\n",
              "    }\n",
              "</style>\n",
              "<table border=\"1\" class=\"dataframe\">\n",
              "  <thead>\n",
              "    <tr style=\"text-align: right;\">\n",
              "      <th></th>\n",
              "      <th>event_time</th>\n",
              "      <th>event_type</th>\n",
              "      <th>product_id</th>\n",
              "      <th>category_id</th>\n",
              "      <th>category_code</th>\n",
              "      <th>brand</th>\n",
              "      <th>price</th>\n",
              "      <th>user_id</th>\n",
              "      <th>user_session</th>\n",
              "    </tr>\n",
              "  </thead>\n",
              "  <tbody>\n",
              "    <tr>\n",
              "      <th>35424599</th>\n",
              "      <td>2019-10-26 11:31:49 UTC</td>\n",
              "      <td>view</td>\n",
              "      <td>2701884</td>\n",
              "      <td>2053013563911439225</td>\n",
              "      <td>appliances.kitchen.refrigerators</td>\n",
              "      <td>beko</td>\n",
              "      <td>539.430</td>\n",
              "      <td>545113235</td>\n",
              "      <td>a76b16f6-99e8-4568-91ba-8d0594f6dc8c</td>\n",
              "    </tr>\n",
              "    <tr>\n",
              "      <th>33954915</th>\n",
              "      <td>2019-10-25 10:47:09 UTC</td>\n",
              "      <td>view</td>\n",
              "      <td>47900002</td>\n",
              "      <td>2116907525201723525</td>\n",
              "      <td>None</td>\n",
              "      <td>tacx</td>\n",
              "      <td>154.190</td>\n",
              "      <td>546093570</td>\n",
              "      <td>4106f0e7-6464-4e7a-a96d-6942b765df15</td>\n",
              "    </tr>\n",
              "    <tr>\n",
              "      <th>3239063</th>\n",
              "      <td>2019-10-03 15:50:59 UTC</td>\n",
              "      <td>view</td>\n",
              "      <td>1003317</td>\n",
              "      <td>2053013555631882655</td>\n",
              "      <td>electronics.smartphone</td>\n",
              "      <td>apple</td>\n",
              "      <td>965.020</td>\n",
              "      <td>521171518</td>\n",
              "      <td>4069de18-c57b-4c5f-b96a-530af56e2af8</td>\n",
              "    </tr>\n",
              "    <tr>\n",
              "      <th>18744048</th>\n",
              "      <td>2019-10-14 18:05:20 UTC</td>\n",
              "      <td>view</td>\n",
              "      <td>4802233</td>\n",
              "      <td>2053013554658804075</td>\n",
              "      <td>electronics.audio.headphone</td>\n",
              "      <td>jbl</td>\n",
              "      <td>46.080</td>\n",
              "      <td>559456286</td>\n",
              "      <td>e2120413-0bbb-42cb-9205-49d92457a5cf</td>\n",
              "    </tr>\n",
              "    <tr>\n",
              "      <th>6966925</th>\n",
              "      <td>2019-10-06 11:45:33 UTC</td>\n",
              "      <td>view</td>\n",
              "      <td>1005153</td>\n",
              "      <td>2053013555631882655</td>\n",
              "      <td>electronics.smartphone</td>\n",
              "      <td>xiaomi</td>\n",
              "      <td>231.640</td>\n",
              "      <td>533559597</td>\n",
              "      <td>a6ee7e6a-8849-4c8c-8cb7-c76bd0e85e87</td>\n",
              "    </tr>\n",
              "  </tbody>\n",
              "</table>\n",
              "</div>"
            ],
            "text/plain": [
              "                       event_time  ...                          user_session\n",
              "35424599  2019-10-26 11:31:49 UTC  ...  a76b16f6-99e8-4568-91ba-8d0594f6dc8c\n",
              "33954915  2019-10-25 10:47:09 UTC  ...  4106f0e7-6464-4e7a-a96d-6942b765df15\n",
              "3239063   2019-10-03 15:50:59 UTC  ...  4069de18-c57b-4c5f-b96a-530af56e2af8\n",
              "18744048  2019-10-14 18:05:20 UTC  ...  e2120413-0bbb-42cb-9205-49d92457a5cf\n",
              "6966925   2019-10-06 11:45:33 UTC  ...  a6ee7e6a-8849-4c8c-8cb7-c76bd0e85e87\n",
              "\n",
              "[5 rows x 9 columns]"
            ]
          },
          "metadata": {},
          "execution_count": 4
        }
      ]
    },
    {
      "cell_type": "code",
      "metadata": {
        "id": "_i6i1axx5dKc",
        "colab": {
          "base_uri": "https://localhost:8080/"
        },
        "outputId": "356a8432-cecb-4490-dc9e-e66fd2f12aef"
      },
      "source": [
        "#Vemos la cantidad de filas y columnas del dataset\n",
        "\n",
        "print(\"El dataset cuenta con\", df.shape[0], \"filas y\", df.shape[1], \"columnas\")"
      ],
      "execution_count": null,
      "outputs": [
        {
          "output_type": "stream",
          "name": "stdout",
          "text": [
            "El dataset cuenta con 2020300 filas y 9 columnas\n"
          ]
        }
      ]
    },
    {
      "cell_type": "code",
      "metadata": {
        "id": "cQ5P8Faf5dKd",
        "colab": {
          "base_uri": "https://localhost:8080/"
        },
        "outputId": "88c5a78c-6a73-43a9-e726-4b1e4b77d2af"
      },
      "source": [
        "# Vemos Información del DataSet en general\n",
        "\n",
        "df.info()"
      ],
      "execution_count": null,
      "outputs": [
        {
          "output_type": "stream",
          "name": "stdout",
          "text": [
            "<class 'pandas.core.frame.DataFrame'>\n",
            "Int64Index: 2020300 entries, 35424599 to 42448734\n",
            "Data columns (total 9 columns):\n",
            " #   Column         Dtype  \n",
            "---  ------         -----  \n",
            " 0   event_time     object \n",
            " 1   event_type     object \n",
            " 2   product_id     int64  \n",
            " 3   category_id    int64  \n",
            " 4   category_code  object \n",
            " 5   brand          object \n",
            " 6   price          float64\n",
            " 7   user_id        int64  \n",
            " 8   user_session   object \n",
            "dtypes: float64(1), int64(3), object(5)\n",
            "memory usage: 154.1+ MB\n"
          ]
        }
      ]
    },
    {
      "cell_type": "markdown",
      "metadata": {
        "id": "Jm4AVt7T5dKe"
      },
      "source": [
        "### Ahora hacemos limpieza de datos <a name=\"q3\"></a>"
      ]
    },
    {
      "cell_type": "code",
      "metadata": {
        "id": "vzn5qe_S5dKe"
      },
      "source": [
        "# Vemos que la columna event_time es un objeto por lo tanto la cambiamos a columa tipo datatime\n",
        "\n",
        "df['event_time']=pd.to_datetime(df['event_time'],format='%Y-%m-%d %H:%M:%S UTC')"
      ],
      "execution_count": null,
      "outputs": []
    },
    {
      "cell_type": "code",
      "metadata": {
        "id": "HkNzBdf25dKf",
        "colab": {
          "base_uri": "https://localhost:8080/"
        },
        "outputId": "68186ae3-7b9c-4c99-9048-fe90e21e3d06"
      },
      "source": [
        "#Vemos si hay filas completas duplicadas y las eliminamos\n",
        "\n",
        "print(df.duplicated().sum())\n",
        "cleaned_df = df.drop_duplicates().copy()"
      ],
      "execution_count": null,
      "outputs": [
        {
          "output_type": "stream",
          "name": "stdout",
          "text": [
            "1844\n"
          ]
        }
      ]
    },
    {
      "cell_type": "code",
      "metadata": {
        "id": "OIXMan5jCq12",
        "colab": {
          "base_uri": "https://localhost:8080/"
        },
        "outputId": "7136db3e-27a6-4e77-b548-f46e09a40b76"
      },
      "source": [
        "cleaned_df.info()"
      ],
      "execution_count": null,
      "outputs": [
        {
          "output_type": "stream",
          "name": "stdout",
          "text": [
            "<class 'pandas.core.frame.DataFrame'>\n",
            "Int64Index: 2018456 entries, 35424599 to 42448734\n",
            "Data columns (total 9 columns):\n",
            " #   Column         Dtype         \n",
            "---  ------         -----         \n",
            " 0   event_time     datetime64[ns]\n",
            " 1   event_type     object        \n",
            " 2   product_id     int64         \n",
            " 3   category_id    int64         \n",
            " 4   category_code  object        \n",
            " 5   brand          object        \n",
            " 6   price          float64       \n",
            " 7   user_id        int64         \n",
            " 8   user_session   object        \n",
            "dtypes: datetime64[ns](1), float64(1), int64(3), object(4)\n",
            "memory usage: 154.0+ MB\n"
          ]
        }
      ]
    },
    {
      "cell_type": "code",
      "metadata": {
        "id": "lxPJMDaU5dKg",
        "colab": {
          "base_uri": "https://localhost:8080/",
          "height": 205
        },
        "outputId": "2bd4dd8d-68a8-49e2-b77a-310d5589809f"
      },
      "source": [
        "cleaned_df.head()"
      ],
      "execution_count": null,
      "outputs": [
        {
          "output_type": "execute_result",
          "data": {
            "text/html": [
              "<div>\n",
              "<style scoped>\n",
              "    .dataframe tbody tr th:only-of-type {\n",
              "        vertical-align: middle;\n",
              "    }\n",
              "\n",
              "    .dataframe tbody tr th {\n",
              "        vertical-align: top;\n",
              "    }\n",
              "\n",
              "    .dataframe thead th {\n",
              "        text-align: right;\n",
              "    }\n",
              "</style>\n",
              "<table border=\"1\" class=\"dataframe\">\n",
              "  <thead>\n",
              "    <tr style=\"text-align: right;\">\n",
              "      <th></th>\n",
              "      <th>event_time</th>\n",
              "      <th>event_type</th>\n",
              "      <th>product_id</th>\n",
              "      <th>category_id</th>\n",
              "      <th>category_code</th>\n",
              "      <th>brand</th>\n",
              "      <th>price</th>\n",
              "      <th>user_id</th>\n",
              "      <th>user_session</th>\n",
              "    </tr>\n",
              "  </thead>\n",
              "  <tbody>\n",
              "    <tr>\n",
              "      <th>35424599</th>\n",
              "      <td>2019-10-26 11:31:49</td>\n",
              "      <td>view</td>\n",
              "      <td>2701884</td>\n",
              "      <td>2053013563911439225</td>\n",
              "      <td>appliances.kitchen.refrigerators</td>\n",
              "      <td>beko</td>\n",
              "      <td>539.430</td>\n",
              "      <td>545113235</td>\n",
              "      <td>a76b16f6-99e8-4568-91ba-8d0594f6dc8c</td>\n",
              "    </tr>\n",
              "    <tr>\n",
              "      <th>33954915</th>\n",
              "      <td>2019-10-25 10:47:09</td>\n",
              "      <td>view</td>\n",
              "      <td>47900002</td>\n",
              "      <td>2116907525201723525</td>\n",
              "      <td>None</td>\n",
              "      <td>tacx</td>\n",
              "      <td>154.190</td>\n",
              "      <td>546093570</td>\n",
              "      <td>4106f0e7-6464-4e7a-a96d-6942b765df15</td>\n",
              "    </tr>\n",
              "    <tr>\n",
              "      <th>3239063</th>\n",
              "      <td>2019-10-03 15:50:59</td>\n",
              "      <td>view</td>\n",
              "      <td>1003317</td>\n",
              "      <td>2053013555631882655</td>\n",
              "      <td>electronics.smartphone</td>\n",
              "      <td>apple</td>\n",
              "      <td>965.020</td>\n",
              "      <td>521171518</td>\n",
              "      <td>4069de18-c57b-4c5f-b96a-530af56e2af8</td>\n",
              "    </tr>\n",
              "    <tr>\n",
              "      <th>18744048</th>\n",
              "      <td>2019-10-14 18:05:20</td>\n",
              "      <td>view</td>\n",
              "      <td>4802233</td>\n",
              "      <td>2053013554658804075</td>\n",
              "      <td>electronics.audio.headphone</td>\n",
              "      <td>jbl</td>\n",
              "      <td>46.080</td>\n",
              "      <td>559456286</td>\n",
              "      <td>e2120413-0bbb-42cb-9205-49d92457a5cf</td>\n",
              "    </tr>\n",
              "    <tr>\n",
              "      <th>6966925</th>\n",
              "      <td>2019-10-06 11:45:33</td>\n",
              "      <td>view</td>\n",
              "      <td>1005153</td>\n",
              "      <td>2053013555631882655</td>\n",
              "      <td>electronics.smartphone</td>\n",
              "      <td>xiaomi</td>\n",
              "      <td>231.640</td>\n",
              "      <td>533559597</td>\n",
              "      <td>a6ee7e6a-8849-4c8c-8cb7-c76bd0e85e87</td>\n",
              "    </tr>\n",
              "  </tbody>\n",
              "</table>\n",
              "</div>"
            ],
            "text/plain": [
              "                  event_time  ...                          user_session\n",
              "35424599 2019-10-26 11:31:49  ...  a76b16f6-99e8-4568-91ba-8d0594f6dc8c\n",
              "33954915 2019-10-25 10:47:09  ...  4106f0e7-6464-4e7a-a96d-6942b765df15\n",
              "3239063  2019-10-03 15:50:59  ...  4069de18-c57b-4c5f-b96a-530af56e2af8\n",
              "18744048 2019-10-14 18:05:20  ...  e2120413-0bbb-42cb-9205-49d92457a5cf\n",
              "6966925  2019-10-06 11:45:33  ...  a6ee7e6a-8849-4c8c-8cb7-c76bd0e85e87\n",
              "\n",
              "[5 rows x 9 columns]"
            ]
          },
          "metadata": {},
          "execution_count": 10
        }
      ]
    },
    {
      "cell_type": "code",
      "metadata": {
        "id": "jmQrgz1C5dKh"
      },
      "source": [
        "#Agregamos columnas con el día de la semana con el que se corresponde cada evento y la hora (sin minutos ni segundos) y día del mes"
      ],
      "execution_count": null,
      "outputs": []
    },
    {
      "cell_type": "code",
      "metadata": {
        "id": "qh0_SMLc5dKn"
      },
      "source": [
        "cleaned_df['hour'] = cleaned_df['event_time'].apply(lambda time: time.hour)"
      ],
      "execution_count": null,
      "outputs": []
    },
    {
      "cell_type": "code",
      "metadata": {
        "id": "uN7BZPtV5dKo"
      },
      "source": [
        "cleaned_df['day_of_week'] = cleaned_df['event_time'].apply(lambda time: time.dayofweek)"
      ],
      "execution_count": null,
      "outputs": []
    },
    {
      "cell_type": "code",
      "metadata": {
        "id": "QqepEx8z5dKo"
      },
      "source": [
        "cleaned_df['day'] = cleaned_df['day_of_week'].apply(lambda x: 'Lunes' if x == 0 else 'Martes' if x == 1\n",
        "                                 else 'Miercoles' if x == 2 else 'Jueves' if x == 3\n",
        "                                 else 'Viernes' if x== 4 else 'Sabado' if x == 5\n",
        "                                 else 'Domingo' )"
      ],
      "execution_count": null,
      "outputs": []
    },
    {
      "cell_type": "code",
      "metadata": {
        "id": "ip-xJMwr5dKq"
      },
      "source": [
        "cleaned_df['dayofmonth'] = cleaned_df['event_time'].apply(lambda time: time.day)"
      ],
      "execution_count": null,
      "outputs": []
    },
    {
      "cell_type": "code",
      "metadata": {
        "id": "kgCErrf-5dKq",
        "colab": {
          "base_uri": "https://localhost:8080/"
        },
        "outputId": "cbdf1826-9a4e-49bc-a6c6-dfda54229634"
      },
      "source": [
        "print(\"El dataset limpio cuenta con\", cleaned_df.shape[0], \"filas y\", cleaned_df.shape[1], \n",
        "      \"columnas, luego de haber eliminado\", df.duplicated().sum()\n",
        ", \"filas\")"
      ],
      "execution_count": null,
      "outputs": [
        {
          "output_type": "stream",
          "name": "stdout",
          "text": [
            "El dataset limpio cuenta con 2018456 filas y 13 columnas, luego de haber eliminado 1844 filas\n"
          ]
        }
      ]
    },
    {
      "cell_type": "markdown",
      "metadata": {
        "id": "rt9fJL4s5dKr"
      },
      "source": [
        "### Análisis de Distribución Univariada de las columnas <a name=\"q4\"></a>"
      ]
    },
    {
      "cell_type": "code",
      "metadata": {
        "id": "q9soxR1E5dKr",
        "colab": {
          "base_uri": "https://localhost:8080/",
          "height": 445
        },
        "outputId": "c66139ed-f823-4e57-abb6-5b30bc49da4b"
      },
      "source": [
        "# Vemos medidas descriptivas de TODOS LOS CAMPOS\n",
        "\n",
        "cleaned_df.describe(include = \"all\", datetime_is_numeric=True)"
      ],
      "execution_count": null,
      "outputs": [
        {
          "output_type": "execute_result",
          "data": {
            "text/html": [
              "<div>\n",
              "<style scoped>\n",
              "    .dataframe tbody tr th:only-of-type {\n",
              "        vertical-align: middle;\n",
              "    }\n",
              "\n",
              "    .dataframe tbody tr th {\n",
              "        vertical-align: top;\n",
              "    }\n",
              "\n",
              "    .dataframe thead th {\n",
              "        text-align: right;\n",
              "    }\n",
              "</style>\n",
              "<table border=\"1\" class=\"dataframe\">\n",
              "  <thead>\n",
              "    <tr style=\"text-align: right;\">\n",
              "      <th></th>\n",
              "      <th>event_time</th>\n",
              "      <th>event_type</th>\n",
              "      <th>product_id</th>\n",
              "      <th>category_id</th>\n",
              "      <th>category_code</th>\n",
              "      <th>brand</th>\n",
              "      <th>price</th>\n",
              "      <th>user_id</th>\n",
              "      <th>user_session</th>\n",
              "      <th>hour</th>\n",
              "      <th>day_of_week</th>\n",
              "      <th>day</th>\n",
              "      <th>dayofmonth</th>\n",
              "    </tr>\n",
              "  </thead>\n",
              "  <tbody>\n",
              "    <tr>\n",
              "      <th>count</th>\n",
              "      <td>2018456</td>\n",
              "      <td>2018456</td>\n",
              "      <td>2018456.000</td>\n",
              "      <td>2018456.000</td>\n",
              "      <td>1385939</td>\n",
              "      <td>1738614</td>\n",
              "      <td>2018456.000</td>\n",
              "      <td>2018456.000</td>\n",
              "      <td>2018456</td>\n",
              "      <td>2018456.000</td>\n",
              "      <td>2018456.000</td>\n",
              "      <td>2018456</td>\n",
              "      <td>2018456.000</td>\n",
              "    </tr>\n",
              "    <tr>\n",
              "      <th>unique</th>\n",
              "      <td>NaN</td>\n",
              "      <td>3</td>\n",
              "      <td>nan</td>\n",
              "      <td>nan</td>\n",
              "      <td>126</td>\n",
              "      <td>2883</td>\n",
              "      <td>nan</td>\n",
              "      <td>nan</td>\n",
              "      <td>926885</td>\n",
              "      <td>nan</td>\n",
              "      <td>nan</td>\n",
              "      <td>7</td>\n",
              "      <td>nan</td>\n",
              "    </tr>\n",
              "    <tr>\n",
              "      <th>top</th>\n",
              "      <td>NaN</td>\n",
              "      <td>view</td>\n",
              "      <td>nan</td>\n",
              "      <td>nan</td>\n",
              "      <td>electronics.smartphone</td>\n",
              "      <td>samsung</td>\n",
              "      <td>nan</td>\n",
              "      <td>nan</td>\n",
              "      <td>7fadc7da-51d4-4bf1-85a1-7ca42e385db5</td>\n",
              "      <td>nan</td>\n",
              "      <td>nan</td>\n",
              "      <td>Martes</td>\n",
              "      <td>nan</td>\n",
              "    </tr>\n",
              "    <tr>\n",
              "      <th>freq</th>\n",
              "      <td>NaN</td>\n",
              "      <td>1865343</td>\n",
              "      <td>nan</td>\n",
              "      <td>nan</td>\n",
              "      <td>572474</td>\n",
              "      <td>266325</td>\n",
              "      <td>nan</td>\n",
              "      <td>nan</td>\n",
              "      <td>262</td>\n",
              "      <td>nan</td>\n",
              "      <td>nan</td>\n",
              "      <td>319843</td>\n",
              "      <td>nan</td>\n",
              "    </tr>\n",
              "    <tr>\n",
              "      <th>mean</th>\n",
              "      <td>2019-10-16 08:30:23.621094400</td>\n",
              "      <td>NaN</td>\n",
              "      <td>10225655.010</td>\n",
              "      <td>2057065439129677056.000</td>\n",
              "      <td>NaN</td>\n",
              "      <td>NaN</td>\n",
              "      <td>279.637</td>\n",
              "      <td>532318759.251</td>\n",
              "      <td>NaN</td>\n",
              "      <td>11.047</td>\n",
              "      <td>2.963</td>\n",
              "      <td>NaN</td>\n",
              "      <td>15.873</td>\n",
              "    </tr>\n",
              "    <tr>\n",
              "      <th>min</th>\n",
              "      <td>2019-10-01 00:00:18</td>\n",
              "      <td>NaN</td>\n",
              "      <td>1000978.000</td>\n",
              "      <td>2053013552226107648.000</td>\n",
              "      <td>NaN</td>\n",
              "      <td>NaN</td>\n",
              "      <td>0.000</td>\n",
              "      <td>184265397.000</td>\n",
              "      <td>NaN</td>\n",
              "      <td>0.000</td>\n",
              "      <td>0.000</td>\n",
              "      <td>NaN</td>\n",
              "      <td>1.000</td>\n",
              "    </tr>\n",
              "    <tr>\n",
              "      <th>25%</th>\n",
              "      <td>2019-10-09 07:07:50</td>\n",
              "      <td>NaN</td>\n",
              "      <td>1005121.000</td>\n",
              "      <td>2053013555321504256.000</td>\n",
              "      <td>NaN</td>\n",
              "      <td>NaN</td>\n",
              "      <td>64.090</td>\n",
              "      <td>515409957.000</td>\n",
              "      <td>NaN</td>\n",
              "      <td>7.000</td>\n",
              "      <td>1.000</td>\n",
              "      <td>NaN</td>\n",
              "      <td>9.000</td>\n",
              "    </tr>\n",
              "    <tr>\n",
              "      <th>50%</th>\n",
              "      <td>2019-10-16 07:51:57</td>\n",
              "      <td>NaN</td>\n",
              "      <td>4804137.000</td>\n",
              "      <td>2053013555631882752.000</td>\n",
              "      <td>NaN</td>\n",
              "      <td>NaN</td>\n",
              "      <td>158.310</td>\n",
              "      <td>526723367.000</td>\n",
              "      <td>NaN</td>\n",
              "      <td>11.000</td>\n",
              "      <td>3.000</td>\n",
              "      <td>NaN</td>\n",
              "      <td>16.000</td>\n",
              "    </tr>\n",
              "    <tr>\n",
              "      <th>75%</th>\n",
              "      <td>2019-10-23 11:31:44.249999872</td>\n",
              "      <td>NaN</td>\n",
              "      <td>15600008.000</td>\n",
              "      <td>2053013563173241600.000</td>\n",
              "      <td>NaN</td>\n",
              "      <td>NaN</td>\n",
              "      <td>335.920</td>\n",
              "      <td>549440138.000</td>\n",
              "      <td>NaN</td>\n",
              "      <td>15.000</td>\n",
              "      <td>5.000</td>\n",
              "      <td>NaN</td>\n",
              "      <td>23.000</td>\n",
              "    </tr>\n",
              "    <tr>\n",
              "      <th>max</th>\n",
              "      <td>2019-10-31 23:59:50</td>\n",
              "      <td>NaN</td>\n",
              "      <td>60500009.000</td>\n",
              "      <td>2175419595093967616.000</td>\n",
              "      <td>NaN</td>\n",
              "      <td>NaN</td>\n",
              "      <td>2574.070</td>\n",
              "      <td>566279448.000</td>\n",
              "      <td>NaN</td>\n",
              "      <td>23.000</td>\n",
              "      <td>6.000</td>\n",
              "      <td>NaN</td>\n",
              "      <td>31.000</td>\n",
              "    </tr>\n",
              "    <tr>\n",
              "      <th>std</th>\n",
              "      <td>NaN</td>\n",
              "      <td>NaN</td>\n",
              "      <td>11655397.100</td>\n",
              "      <td>17729245287928130.000</td>\n",
              "      <td>NaN</td>\n",
              "      <td>NaN</td>\n",
              "      <td>345.926</td>\n",
              "      <td>17976587.264</td>\n",
              "      <td>NaN</td>\n",
              "      <td>5.256</td>\n",
              "      <td>1.959</td>\n",
              "      <td>NaN</td>\n",
              "      <td>8.562</td>\n",
              "    </tr>\n",
              "  </tbody>\n",
              "</table>\n",
              "</div>"
            ],
            "text/plain": [
              "                           event_time event_type  ...      day  dayofmonth\n",
              "count                         2018456    2018456  ...  2018456 2018456.000\n",
              "unique                            NaN          3  ...        7         nan\n",
              "top                               NaN       view  ...   Martes         nan\n",
              "freq                              NaN    1865343  ...   319843         nan\n",
              "mean    2019-10-16 08:30:23.621094400        NaN  ...      NaN      15.873\n",
              "min               2019-10-01 00:00:18        NaN  ...      NaN       1.000\n",
              "25%               2019-10-09 07:07:50        NaN  ...      NaN       9.000\n",
              "50%               2019-10-16 07:51:57        NaN  ...      NaN      16.000\n",
              "75%     2019-10-23 11:31:44.249999872        NaN  ...      NaN      23.000\n",
              "max               2019-10-31 23:59:50        NaN  ...      NaN      31.000\n",
              "std                               NaN        NaN  ...      NaN       8.562\n",
              "\n",
              "[11 rows x 13 columns]"
            ]
          },
          "metadata": {},
          "execution_count": 17
        }
      ]
    },
    {
      "cell_type": "markdown",
      "metadata": {
        "id": "ICvNzhDc5dKs"
      },
      "source": [
        "Algunas conclusiones iniciales, analizando las columnas:\n",
        "\n",
        "-Columna event_time: vemos que el primer valor se da el 2019-10-01 a las 00:00:18 y el último el 2019-10-31 a las 23:59:50 pudiendo concluir que se trata de un dataset que comprende datos correspondientes al mes de octubre del año 2019.\n",
        "\n",
        "-Event_type: vemos que hay 3 eventos diferentes: view, cart y purchase (unique) \n",
        "\n",
        "-En category_code tenemos 126 categorías diferentes\n",
        "\n",
        "-User_session: en este mes hubo un total de 926.885 sesiones que dieron origen a esos 2.018.456 de eventos\n",
        "\n",
        "-Hay un total de 2.018.456 registros, excepto para category_code y brand lo que significa que esas columnas tienen valores nulos, lo cual se verifica en las próximas celdas."
      ]
    },
    {
      "cell_type": "code",
      "metadata": {
        "id": "3e9IRlok5dKu",
        "colab": {
          "base_uri": "https://localhost:8080/"
        },
        "outputId": "5c430742-ca48-4a9a-d497-265fb72efa1f"
      },
      "source": [
        "#Analizamos por cuántos usuarios fueron generados esos eventos\n",
        "\n",
        "print(\"Los 2018456 eventos fueron generados por\", len(cleaned_df['user_id'].unique()), \"usuarios.\")"
      ],
      "execution_count": null,
      "outputs": [
        {
          "output_type": "stream",
          "name": "stdout",
          "text": [
            "Los 2018456 eventos fueron generados por 546792 usuarios.\n"
          ]
        }
      ]
    },
    {
      "cell_type": "code",
      "metadata": {
        "id": "yJr2ILLopzcL",
        "colab": {
          "base_uri": "https://localhost:8080/"
        },
        "outputId": "86eb55ac-6e79-4f5d-fa5b-314a71efb9a6"
      },
      "source": [
        "#Vemos la cantidad de nulos por columna\n",
        "\n",
        "cleaned_df.isnull().sum()"
      ],
      "execution_count": null,
      "outputs": [
        {
          "output_type": "execute_result",
          "data": {
            "text/plain": [
              "event_time            0\n",
              "event_type            0\n",
              "product_id            0\n",
              "category_id           0\n",
              "category_code    632517\n",
              "brand            279842\n",
              "price                 0\n",
              "user_id               0\n",
              "user_session          0\n",
              "hour                  0\n",
              "day_of_week           0\n",
              "day                   0\n",
              "dayofmonth            0\n",
              "dtype: int64"
            ]
          },
          "metadata": {},
          "execution_count": 19
        }
      ]
    },
    {
      "cell_type": "code",
      "metadata": {
        "id": "Kdsj27eDqYvE",
        "colab": {
          "base_uri": "https://localhost:8080/"
        },
        "outputId": "cff4d998-a3de-4ad5-9890-5391471e4331"
      },
      "source": [
        "#Vemos la proporción de nulos por columna\n",
        "\n",
        "percent_missing = cleaned_df.isnull().sum() / len(cleaned_df)\n",
        "percent_missing"
      ],
      "execution_count": null,
      "outputs": [
        {
          "output_type": "execute_result",
          "data": {
            "text/plain": [
              "event_time      0.000\n",
              "event_type      0.000\n",
              "product_id      0.000\n",
              "category_id     0.000\n",
              "category_code   0.313\n",
              "brand           0.139\n",
              "price           0.000\n",
              "user_id         0.000\n",
              "user_session    0.000\n",
              "hour            0.000\n",
              "day_of_week     0.000\n",
              "day             0.000\n",
              "dayofmonth      0.000\n",
              "dtype: float64"
            ]
          },
          "metadata": {},
          "execution_count": 20
        }
      ]
    },
    {
      "cell_type": "code",
      "metadata": {
        "id": "6IpSRBRn5dKv"
      },
      "source": [
        "#Creamos tres df: uno unicamente con el evento \"purchase\", otro con el evento \"cart\" y por último uno con elevento \"view\"\n",
        "\n",
        "cleaned_df_purchase = cleaned_df[cleaned_df.event_type == 'purchase']\n",
        "cleaned_df_cart = cleaned_df[cleaned_df.event_type == 'cart']\n",
        "cleaned_df_view = cleaned_df[cleaned_df.event_type == 'view']"
      ],
      "execution_count": null,
      "outputs": []
    },
    {
      "cell_type": "code",
      "metadata": {
        "id": "8T508kJ-5dKw",
        "colab": {
          "base_uri": "https://localhost:8080/",
          "height": 431
        },
        "outputId": "e4e6aa28-3e8a-46a7-d8d5-cf7176873d9c"
      },
      "source": [
        "#Analizamos la distribución de la variable precio (de las compras) mediante un boxplot\n",
        "\n",
        "plt.figure(figsize=(15,6))\n",
        "sns.boxplot(x=cleaned_df_purchase.price)\n",
        "plt.title('Distribución de la variable precio \\n')\n",
        "plt.xlabel(\"\\nPrecio\")\n",
        "plt.ylabel(\"Cantidad de compras\\n\")\n",
        "plt.show()"
      ],
      "execution_count": null,
      "outputs": [
        {
          "output_type": "display_data",
          "data": {
            "image/png": "[encoded data removed]",
            "text/plain": [
              "<Figure size 1080x432 with 1 Axes>"
            ]
          },
          "metadata": {
            "needs_background": "light"
          }
        }
      ]
    },
    {
      "cell_type": "code",
      "metadata": {
        "id": "rMsrvb2lbidV",
        "colab": {
          "base_uri": "https://localhost:8080/",
          "height": 431
        },
        "outputId": "718a7c00-36c7-40f6-84d2-a7adddf25506"
      },
      "source": [
        "#Analizamos la distribución de la variable precio (de las compras) mediante un histograma\n",
        "\n",
        "plt.figure(figsize=(10,6))\n",
        "plt.title('Distribución de la variable edad \\n')\n",
        "sns.histplot(x=cleaned_df_purchase.price, kde=False, bins= 100)\n",
        "plt.title('Distribución de la variable precio \\n')\n",
        "plt.xlabel(\"\\nPrecio\")\n",
        "plt.ylabel(\"Cantidad de compras\\n\")\n",
        "plt.show()"
      ],
      "execution_count": null,
      "outputs": [
        {
          "output_type": "display_data",
          "data": {
            "image/png": "[encoded data removed]",
            "text/plain": [
              "<Figure size 720x432 with 1 Axes>"
            ]
          },
          "metadata": {
            "needs_background": "light"
          }
        }
      ]
    },
    {
      "cell_type": "code",
      "metadata": {
        "id": "P2GjDctF5dKt",
        "colab": {
          "base_uri": "https://localhost:8080/"
        },
        "outputId": "92a5fe13-1228-42ed-ca9a-4af45696a8ad"
      },
      "source": [
        "#Analizamos qué eventos se han generado y en qué cantidad/porcentaje\n",
        "\n",
        "cleaned_df.event_type.value_counts()"
      ],
      "execution_count": null,
      "outputs": [
        {
          "output_type": "execute_result",
          "data": {
            "text/plain": [
              "view        1865343\n",
              "purchase      78232\n",
              "cart          74881\n",
              "Name: event_type, dtype: int64"
            ]
          },
          "metadata": {},
          "execution_count": 24
        }
      ]
    },
    {
      "cell_type": "code",
      "metadata": {
        "id": "Jvi7k8xG5dKt",
        "colab": {
          "base_uri": "https://localhost:8080/"
        },
        "outputId": "12e4592a-8e06-4eed-ae92-c2279db4a269"
      },
      "source": [
        "cleaned_df.event_type.value_counts(normalize = True)"
      ],
      "execution_count": null,
      "outputs": [
        {
          "output_type": "execute_result",
          "data": {
            "text/plain": [
              "view       0.924\n",
              "purchase   0.039\n",
              "cart       0.037\n",
              "Name: event_type, dtype: float64"
            ]
          },
          "metadata": {},
          "execution_count": 25
        }
      ]
    },
    {
      "cell_type": "markdown",
      "metadata": {
        "id": "EQ6JasTJGOG7"
      },
      "source": [
        " El dataset posee tres tipos de eventos: vistas (92,4%), compras (3,9%) y carrito (3,7%) del total de eventos.\n"
      ]
    },
    {
      "cell_type": "code",
      "metadata": {
        "id": "wuIkL6OOL-sH",
        "colab": {
          "base_uri": "https://localhost:8080/",
          "height": 431
        },
        "outputId": "6bf8bf46-082d-4c27-f368-976b69c6a3f8"
      },
      "source": [
        "#Vemos los eventos generados gráficamente \n",
        "\n",
        "plt.figure(figsize=(10,6))\n",
        "sns.countplot(x='event_type', data=cleaned_df)\n",
        "plt.ticklabel_format(style=\"plain\", axis=\"y\")\n",
        "plt.xlabel(\"\\nEvento\")\n",
        "plt.ylabel(\"Cantidad\\n\")\n",
        "plt.title('Cantidad de ocurrencias por evento\\n')\n",
        "plt.show()"
      ],
      "execution_count": null,
      "outputs": [
        {
          "output_type": "display_data",
          "data": {
            "image/png": "[encoded data removed]",
            "text/plain": [
              "<Figure size 720x432 with 1 Axes>"
            ]
          },
          "metadata": {
            "needs_background": "light"
          }
        }
      ]
    },
    {
      "cell_type": "markdown",
      "metadata": {
        "id": "GSLyZVu8Rjni"
      },
      "source": [
        "Acá podemos observar que hay mayor cantidad de eventos de compra, que productos agregados al carrito. Con esto podemos asumir que no es necesario pasar por \"cart\" antes de comprar, es decir, podemos ver un producto y comprarlo directamente. Para eso vamos a analizar a un usuario en particular."
      ]
    },
    {
      "cell_type": "code",
      "metadata": {
        "id": "dmi5rq7J5dK_",
        "colab": {
          "base_uri": "https://localhost:8080/",
          "height": 236
        },
        "outputId": "aad91581-5678-4b76-df3c-50a10c3ef945"
      },
      "source": [
        "#Agrupamos por usuario y vemos los que tienen más de dos compras para analizar su comportamiento\n",
        "\n",
        "df_new = cleaned_df_cart.groupby('user_id').count()\n",
        "df_new = df_new[(df_new['product_id'] > 2)]\n",
        "df_new.head()"
      ],
      "execution_count": null,
      "outputs": [
        {
          "output_type": "execute_result",
          "data": {
            "text/html": [
              "<div>\n",
              "<style scoped>\n",
              "    .dataframe tbody tr th:only-of-type {\n",
              "        vertical-align: middle;\n",
              "    }\n",
              "\n",
              "    .dataframe tbody tr th {\n",
              "        vertical-align: top;\n",
              "    }\n",
              "\n",
              "    .dataframe thead th {\n",
              "        text-align: right;\n",
              "    }\n",
              "</style>\n",
              "<table border=\"1\" class=\"dataframe\">\n",
              "  <thead>\n",
              "    <tr style=\"text-align: right;\">\n",
              "      <th></th>\n",
              "      <th>event_time</th>\n",
              "      <th>event_type</th>\n",
              "      <th>product_id</th>\n",
              "      <th>category_id</th>\n",
              "      <th>category_code</th>\n",
              "      <th>brand</th>\n",
              "      <th>price</th>\n",
              "      <th>user_session</th>\n",
              "      <th>hour</th>\n",
              "      <th>day_of_week</th>\n",
              "      <th>day</th>\n",
              "      <th>dayofmonth</th>\n",
              "    </tr>\n",
              "    <tr>\n",
              "      <th>user_id</th>\n",
              "      <th></th>\n",
              "      <th></th>\n",
              "      <th></th>\n",
              "      <th></th>\n",
              "      <th></th>\n",
              "      <th></th>\n",
              "      <th></th>\n",
              "      <th></th>\n",
              "      <th></th>\n",
              "      <th></th>\n",
              "      <th></th>\n",
              "      <th></th>\n",
              "    </tr>\n",
              "  </thead>\n",
              "  <tbody>\n",
              "    <tr>\n",
              "      <th>512363656</th>\n",
              "      <td>3</td>\n",
              "      <td>3</td>\n",
              "      <td>3</td>\n",
              "      <td>3</td>\n",
              "      <td>3</td>\n",
              "      <td>3</td>\n",
              "      <td>3</td>\n",
              "      <td>3</td>\n",
              "      <td>3</td>\n",
              "      <td>3</td>\n",
              "      <td>3</td>\n",
              "      <td>3</td>\n",
              "    </tr>\n",
              "    <tr>\n",
              "      <th>512366068</th>\n",
              "      <td>9</td>\n",
              "      <td>9</td>\n",
              "      <td>9</td>\n",
              "      <td>9</td>\n",
              "      <td>9</td>\n",
              "      <td>9</td>\n",
              "      <td>9</td>\n",
              "      <td>9</td>\n",
              "      <td>9</td>\n",
              "      <td>9</td>\n",
              "      <td>9</td>\n",
              "      <td>9</td>\n",
              "    </tr>\n",
              "    <tr>\n",
              "      <th>512367099</th>\n",
              "      <td>6</td>\n",
              "      <td>6</td>\n",
              "      <td>6</td>\n",
              "      <td>6</td>\n",
              "      <td>6</td>\n",
              "      <td>6</td>\n",
              "      <td>6</td>\n",
              "      <td>6</td>\n",
              "      <td>6</td>\n",
              "      <td>6</td>\n",
              "      <td>6</td>\n",
              "      <td>6</td>\n",
              "    </tr>\n",
              "    <tr>\n",
              "      <th>512369878</th>\n",
              "      <td>3</td>\n",
              "      <td>3</td>\n",
              "      <td>3</td>\n",
              "      <td>3</td>\n",
              "      <td>2</td>\n",
              "      <td>3</td>\n",
              "      <td>3</td>\n",
              "      <td>3</td>\n",
              "      <td>3</td>\n",
              "      <td>3</td>\n",
              "      <td>3</td>\n",
              "      <td>3</td>\n",
              "    </tr>\n",
              "    <tr>\n",
              "      <th>512369885</th>\n",
              "      <td>10</td>\n",
              "      <td>10</td>\n",
              "      <td>10</td>\n",
              "      <td>10</td>\n",
              "      <td>10</td>\n",
              "      <td>10</td>\n",
              "      <td>10</td>\n",
              "      <td>10</td>\n",
              "      <td>10</td>\n",
              "      <td>10</td>\n",
              "      <td>10</td>\n",
              "      <td>10</td>\n",
              "    </tr>\n",
              "  </tbody>\n",
              "</table>\n",
              "</div>"
            ],
            "text/plain": [
              "           event_time  event_type  product_id  ...  day_of_week  day  dayofmonth\n",
              "user_id                                        ...                              \n",
              "512363656           3           3           3  ...            3    3           3\n",
              "512366068           9           9           9  ...            9    9           9\n",
              "512367099           6           6           6  ...            6    6           6\n",
              "512369878           3           3           3  ...            3    3           3\n",
              "512369885          10          10          10  ...           10   10          10\n",
              "\n",
              "[5 rows x 12 columns]"
            ]
          },
          "metadata": {},
          "execution_count": 27
        }
      ]
    },
    {
      "cell_type": "code",
      "metadata": {
        "id": "oJf3egCzZXl3",
        "colab": {
          "base_uri": "https://localhost:8080/"
        },
        "outputId": "6ab49627-a69c-41bf-822c-0260873abfd3"
      },
      "source": [
        "#Análizamos al usuario 512369885 que tiene 12 productos comprados\n",
        "\n",
        "print(\"El usuario tiene\",len(cleaned_df_cart[cleaned_df_cart.user_id == 512369885]), \"productos agregados al carrito\")\n",
        "print(\"El usuario tiene\",len(cleaned_df_purchase[cleaned_df_purchase.user_id == 512369885]), \"productos comprados\")\n"
      ],
      "execution_count": null,
      "outputs": [
        {
          "output_type": "stream",
          "name": "stdout",
          "text": [
            "El usuario tiene 10 productos agregados al carrito\n",
            "El usuario tiene 12 productos comprados\n"
          ]
        }
      ]
    },
    {
      "cell_type": "markdown",
      "metadata": {
        "id": "Z2o6FiGobN9X"
      },
      "source": [
        "Con esto podemos concluir que no es necesario pasar por el carrito para realizar una compra. Sin embargo sabemos que el dataset real es ampliamente mayor y con el que estamos trabajando es solo una muestra y probablemente se trate de un error. \n"
      ]
    },
    {
      "cell_type": "code",
      "metadata": {
        "id": "k2HZ5hVC5dKx"
      },
      "source": [
        "#Vamos a analizar los días y momentos del día donde se generan mayor cantidad de vistas y compras.\n",
        "\n",
        "intervalo_horas_compra = pd.cut(cleaned_df_purchase['hour'], bins = [-1, 6, 11, 15, 19, 24], labels=[\"Madrugada 0 a 6\",\n",
        "\"Mañana 7 a 11\", \"Mediodía 12 a 15\", \"Tarde 16 a 19\", \"Noche 20 a 23\"])\n",
        "\n",
        "intervalo_horas_view = pd.cut(cleaned_df_view['hour'], bins = [-1, 6, 11, 15, 19, 24], labels=[\"Madrugada 0 a 6\",\n",
        "\"Mañana 7 a 11\", \"Mediodía 12 a 15\", \"Tarde 16 a 19\", \"Noche 20 a 23\"])\n",
        "\n",
        "tabla_horas_dias_compra = pd.crosstab(intervalo_horas_compra, cleaned_df_purchase['day'])\n",
        "\n",
        "tabla_horas_dias_view = pd.crosstab(intervalo_horas_view, cleaned_df_view['day'])"
      ],
      "execution_count": null,
      "outputs": []
    },
    {
      "cell_type": "code",
      "metadata": {
        "id": "0JKC7-ZGjV1t",
        "colab": {
          "base_uri": "https://localhost:8080/",
          "height": 322
        },
        "outputId": "12597683-9613-45cf-bdd2-71b09b8687ec"
      },
      "source": [
        "plt.figure(figsize=(12,4 ))\n",
        "sns.heatmap(tabla_horas_dias_view, annot = True, fmt ='g', cmap = 'Reds')\n",
        "plt.xlabel(\"\\nDías\")\n",
        "plt.ylabel(\"Momento del día\\n\")\n",
        "plt.title('Momentos del día y días donde se da la mayor cantidad de vistas\\n')\n",
        "plt.show()"
      ],
      "execution_count": null,
      "outputs": [
        {
          "output_type": "display_data",
          "data": {
            "image/png": "[encoded data removed]",
            "text/plain": [
              "<Figure size 864x288 with 2 Axes>"
            ]
          },
          "metadata": {
            "needs_background": "light"
          }
        }
      ]
    },
    {
      "cell_type": "code",
      "metadata": {
        "id": "mPJVzKQi5dKy",
        "colab": {
          "base_uri": "https://localhost:8080/",
          "height": 322
        },
        "outputId": "5be83d79-6303-4892-f93a-1dfece26045d"
      },
      "source": [
        "plt.figure(figsize=(12,4 ))\n",
        "sns.heatmap(tabla_horas_dias_compra, annot= True, fmt ='g', cmap = 'Reds')\n",
        "plt.xlabel(\"\\nDías\")\n",
        "plt.ylabel(\"Momento del día\\n\")\n",
        "plt.title('Momentos del día y días donde se da la mayor cantidad de compras\\n')\n",
        "plt.show()"
      ],
      "execution_count": null,
      "outputs": [
        {
          "output_type": "display_data",
          "data": {
            "image/png": "[encoded data removed]",
            "text/plain": [
              "<Figure size 864x288 with 2 Axes>"
            ]
          },
          "metadata": {
            "needs_background": "light"
          }
        }
      ]
    },
    {
      "cell_type": "code",
      "metadata": {
        "id": "HWFRtGib5dK1",
        "colab": {
          "base_uri": "https://localhost:8080/"
        },
        "outputId": "789e7d7f-4863-43ac-a27a-db4937c0ef78"
      },
      "source": [
        "#Calculamos la conversión de vistas a compras\n",
        "\n",
        "round(len(cleaned_df[cleaned_df.event_type =='purchase']) / len(cleaned_df[cleaned_df.event_type =='view']),4)"
      ],
      "execution_count": null,
      "outputs": [
        {
          "output_type": "execute_result",
          "data": {
            "text/plain": [
              "0.0419"
            ]
          },
          "metadata": {},
          "execution_count": 32
        }
      ]
    },
    {
      "cell_type": "markdown",
      "metadata": {
        "id": "qnXEkXFt5dK3"
      },
      "source": [
        "Esto significa que el 4,19% de las vistas se convirtieron en compras en el mes de octubre de 2019."
      ]
    },
    {
      "cell_type": "code",
      "metadata": {
        "id": "Gdbj1tZyo6JS",
        "colab": {
          "base_uri": "https://localhost:8080/",
          "height": 322
        },
        "outputId": "979f94e2-4330-4169-f3bb-bcd50fe7a36a"
      },
      "source": [
        "#Analizamos mediante un mapa de calor las conversiones por día y momentos del día\n",
        "\n",
        "tabla_conversion = tabla_horas_dias_compra/tabla_horas_dias_view\n",
        "\n",
        "plt.figure(figsize=(12,4 ))\n",
        "sns.heatmap(tabla_conversion, annot = True, fmt ='g', cmap = 'Reds')\n",
        "plt.xlabel(\"\\nDías\")\n",
        "plt.ylabel(\"Momento del día\\n\")\n",
        "plt.title('Momentos del día y días donde se da la mayor proporcion de ventas por vista\\n')\n",
        "plt.show()"
      ],
      "execution_count": null,
      "outputs": [
        {
          "output_type": "display_data",
          "data": {
            "image/png": "[encoded data removed]",
            "text/plain": [
              "<Figure size 864x288 with 2 Axes>"
            ]
          },
          "metadata": {
            "needs_background": "light"
          }
        }
      ]
    },
    {
      "cell_type": "code",
      "metadata": {
        "id": "vJasAAlW3kyi"
      },
      "source": [
        "# Serie de tiempo para el evento compras\n",
        "\n",
        "time_purchase = cleaned_df_purchase.groupby(['dayofmonth']).size().reset_index(name='counts')"
      ],
      "execution_count": null,
      "outputs": []
    },
    {
      "cell_type": "code",
      "metadata": {
        "id": "DqwqhNi-5EjO"
      },
      "source": [
        "# Serie de tiempo para el evento vistas\n",
        "\n",
        "time_view = cleaned_df_view.groupby(['dayofmonth']).size().reset_index(name='counts')"
      ],
      "execution_count": null,
      "outputs": []
    },
    {
      "cell_type": "code",
      "metadata": {
        "id": "USsyY6x43k8c",
        "colab": {
          "base_uri": "https://localhost:8080/",
          "height": 419
        },
        "outputId": "fa76cf10-af53-4a7e-f286-1109640dc577"
      },
      "source": [
        "#Gráficos con el comportamiento de las vistas y compras por día\n",
        "\n",
        "plt.figure(figsize=(15,6))\n",
        "plt.title('Cantidad de vistas por día \\n')\n",
        "sns.lineplot(data=time_view, x=\"dayofmonth\", y=\"counts\")\n",
        "plt.show()"
      ],
      "execution_count": null,
      "outputs": [
        {
          "output_type": "display_data",
          "data": {
            "image/png": "[encoded data removed]",
            "text/plain": [
              "<Figure size 1080x432 with 1 Axes>"
            ]
          },
          "metadata": {
            "needs_background": "light"
          }
        }
      ]
    },
    {
      "cell_type": "code",
      "metadata": {
        "id": "T0YX51TRCqH1",
        "colab": {
          "base_uri": "https://localhost:8080/",
          "height": 419
        },
        "outputId": "9eea50ae-3ac7-49e5-999b-86651fc51191"
      },
      "source": [
        "plt.figure(figsize=(15,6))\n",
        "plt.title('Cantidad de órdenes por día \\n')\n",
        "sns.lineplot(data=time_purchase, x=\"dayofmonth\", y=\"counts\")\n",
        "plt.show()"
      ],
      "execution_count": null,
      "outputs": [
        {
          "output_type": "display_data",
          "data": {
            "image/png": "[encoded data removed]",
            "text/plain": [
              "<Figure size 1080x432 with 1 Axes>"
            ]
          },
          "metadata": {
            "needs_background": "light"
          }
        }
      ]
    },
    {
      "cell_type": "code",
      "metadata": {
        "id": "26rm5gzq5dK0",
        "colab": {
          "base_uri": "https://localhost:8080/"
        },
        "outputId": "0de57e34-eb26-40ae-eaf6-2a2b2eb7e1d9"
      },
      "source": [
        "#Análisis del evento vistas y horarios\n",
        "\n",
        "print(stat.mode(cleaned_df_view.hour)) \n",
        "print(stat.mode(cleaned_df_view.day))"
      ],
      "execution_count": null,
      "outputs": [
        {
          "output_type": "stream",
          "name": "stdout",
          "text": [
            "16\n",
            "Martes\n"
          ]
        }
      ]
    },
    {
      "cell_type": "markdown",
      "metadata": {
        "id": "Jstrdnm15dK0"
      },
      "source": [
        "El horario en el cual se registra la mayor cantidad de vistas es a las 16 horas, mientras que el día en el que se registran la mayor cantidad es el día martes.\n"
      ]
    },
    {
      "cell_type": "code",
      "metadata": {
        "id": "cPkxd2tD0NwA",
        "colab": {
          "base_uri": "https://localhost:8080/"
        },
        "outputId": "36159e26-c6da-4e04-f90b-ccdcee5b806f"
      },
      "source": [
        "#Análisis del evento compras y horarios\n",
        "\n",
        "print(stat.mode(cleaned_df_purchase.hour)) \n",
        "print(stat.mode(cleaned_df_purchase.day))"
      ],
      "execution_count": null,
      "outputs": [
        {
          "output_type": "stream",
          "name": "stdout",
          "text": [
            "8\n",
            "Miercoles\n"
          ]
        }
      ]
    },
    {
      "cell_type": "markdown",
      "metadata": {
        "id": "pakmd20j0YG4"
      },
      "source": [
        "El horario en el cual se registra la mayor cantidad de ventas es a las 8 horas, mientras que el día en el que se registran la mayor cantidad de compras es el día miércoles."
      ]
    },
    {
      "cell_type": "markdown",
      "metadata": {
        "id": "At9fL_WLOcDy"
      },
      "source": [
        "Como celulares es la categoria que mas ingresos le genera al negocio, hacemos un estudio en profunidad de la misma\n"
      ]
    },
    {
      "cell_type": "code",
      "metadata": {
        "id": "P_aPbLwjOy2w"
      },
      "source": [
        "compras_celulares = cleaned_df[(cleaned_df['category_code']=='electronics.smartphone') & (cleaned_df['event_type'] == 'purchase')].brand.value_counts(normalize=True)"
      ],
      "execution_count": null,
      "outputs": []
    },
    {
      "cell_type": "code",
      "metadata": {
        "id": "EMC_6msMOf4K"
      },
      "source": [
        "df_telefonos = cleaned_df[cleaned_df[\"category_code\"]==\"electronics.smartphone\"].copy()"
      ],
      "execution_count": null,
      "outputs": []
    },
    {
      "cell_type": "markdown",
      "metadata": {
        "id": "azF5y1O-LU3L"
      },
      "source": [
        "### Calculamos la proporción de ventas en monto de ventas (Pesos) y en unidades (Q) por categoría y marca <a name=\"q5\"></a>\n",
        "\n",
        " \n",
        "Vamos a analizar las categorías y marcas que mayor cantidad de ingresos generan y mayor cantidad de productos vendidos poseen.\n",
        "\n",
        "Para esto creamos una función que agrupe las ventas y cantidades vendidas por categoría y brand. Luego calculamos la proporción de ventas por categoría.\n"
      ]
    },
    {
      "cell_type": "code",
      "metadata": {
        "id": "SCraF_ae5dLQ",
        "colab": {
          "base_uri": "https://localhost:8080/"
        },
        "outputId": "2b0ca3a7-1196-4791-cc9f-864404d5d11c"
      },
      "source": [
        "print(\"El monto total de ventas fue de: $\", round(sum(cleaned_df_purchase.price),2))"
      ],
      "execution_count": null,
      "outputs": [
        {
          "output_type": "stream",
          "name": "stdout",
          "text": [
            "El monto total de ventas fue de: $ 24144140.88\n"
          ]
        }
      ]
    },
    {
      "cell_type": "code",
      "metadata": {
        "id": "-2GscBIZyeQJ"
      },
      "source": [
        "def valores(df, valor1='brand'):\n",
        "    return df.groupby(['brand'])['price'].sum().sort_values(ascending=False), cleaned_df_purchase['brand'].value_counts()"
      ],
      "execution_count": null,
      "outputs": []
    },
    {
      "cell_type": "code",
      "metadata": {
        "id": "GNjpKyKxyk6V"
      },
      "source": [
        "a,b = valores(cleaned_df_purchase, 'brand')"
      ],
      "execution_count": null,
      "outputs": []
    },
    {
      "cell_type": "code",
      "metadata": {
        "id": "c0QuhvuGypI3"
      },
      "source": [
        "df_new = pd.merge(left=a, right=b,\n",
        "how='outer', left_index=True,\n",
        "right_index=True)"
      ],
      "execution_count": null,
      "outputs": []
    },
    {
      "cell_type": "code",
      "metadata": {
        "id": "hWvO6A-bQDfB"
      },
      "source": [
        "brand_vtas = df_new.sort_values('price',ascending=False)"
      ],
      "execution_count": null,
      "outputs": []
    },
    {
      "cell_type": "code",
      "metadata": {
        "id": "HH6lP8rZ5dLW",
        "colab": {
          "base_uri": "https://localhost:8080/",
          "height": 422
        },
        "outputId": "3658bb04-c27d-4042-bdb0-5a9c946c7363"
      },
      "source": [
        "brand_vtas['proporcion_vta_$'] = brand_vtas['price']/round(sum(cleaned_df_purchase.price),2)\n",
        "brand_vtas['proporcion_vta_unidades'] = brand_vtas['brand']/len(cleaned_df_purchase)\n",
        "brand_vtas"
      ],
      "execution_count": null,
      "outputs": [
        {
          "output_type": "execute_result",
          "data": {
            "text/html": [
              "<div>\n",
              "<style scoped>\n",
              "    .dataframe tbody tr th:only-of-type {\n",
              "        vertical-align: middle;\n",
              "    }\n",
              "\n",
              "    .dataframe tbody tr th {\n",
              "        vertical-align: top;\n",
              "    }\n",
              "\n",
              "    .dataframe thead th {\n",
              "        text-align: right;\n",
              "    }\n",
              "</style>\n",
              "<table border=\"1\" class=\"dataframe\">\n",
              "  <thead>\n",
              "    <tr style=\"text-align: right;\">\n",
              "      <th></th>\n",
              "      <th>price</th>\n",
              "      <th>brand</th>\n",
              "      <th>proporcion_vta_$</th>\n",
              "      <th>proporcion_vta_unidades</th>\n",
              "    </tr>\n",
              "  </thead>\n",
              "  <tbody>\n",
              "    <tr>\n",
              "      <th>apple</th>\n",
              "      <td>11522826.350</td>\n",
              "      <td>15013</td>\n",
              "      <td>0.477</td>\n",
              "      <td>0.192</td>\n",
              "    </tr>\n",
              "    <tr>\n",
              "      <th>samsung</th>\n",
              "      <td>4946155.600</td>\n",
              "      <td>18540</td>\n",
              "      <td>0.205</td>\n",
              "      <td>0.237</td>\n",
              "    </tr>\n",
              "    <tr>\n",
              "      <th>xiaomi</th>\n",
              "      <td>968891.920</td>\n",
              "      <td>5900</td>\n",
              "      <td>0.040</td>\n",
              "      <td>0.075</td>\n",
              "    </tr>\n",
              "    <tr>\n",
              "      <th>huawei</th>\n",
              "      <td>520163.940</td>\n",
              "      <td>2470</td>\n",
              "      <td>0.022</td>\n",
              "      <td>0.032</td>\n",
              "    </tr>\n",
              "    <tr>\n",
              "      <th>acer</th>\n",
              "      <td>356417.370</td>\n",
              "      <td>701</td>\n",
              "      <td>0.015</td>\n",
              "      <td>0.009</td>\n",
              "    </tr>\n",
              "    <tr>\n",
              "      <th>...</th>\n",
              "      <td>...</td>\n",
              "      <td>...</td>\n",
              "      <td>...</td>\n",
              "      <td>...</td>\n",
              "    </tr>\n",
              "    <tr>\n",
              "      <th>boyscout</th>\n",
              "      <td>2.550</td>\n",
              "      <td>1</td>\n",
              "      <td>0.000</td>\n",
              "      <td>0.000</td>\n",
              "    </tr>\n",
              "    <tr>\n",
              "      <th>purederm</th>\n",
              "      <td>2.180</td>\n",
              "      <td>1</td>\n",
              "      <td>0.000</td>\n",
              "      <td>0.000</td>\n",
              "    </tr>\n",
              "    <tr>\n",
              "      <th>heinz</th>\n",
              "      <td>2.160</td>\n",
              "      <td>2</td>\n",
              "      <td>0.000</td>\n",
              "      <td>0.000</td>\n",
              "    </tr>\n",
              "    <tr>\n",
              "      <th>feron</th>\n",
              "      <td>1.930</td>\n",
              "      <td>1</td>\n",
              "      <td>0.000</td>\n",
              "      <td>0.000</td>\n",
              "    </tr>\n",
              "    <tr>\n",
              "      <th>viviennesabo</th>\n",
              "      <td>1.650</td>\n",
              "      <td>1</td>\n",
              "      <td>0.000</td>\n",
              "      <td>0.000</td>\n",
              "    </tr>\n",
              "  </tbody>\n",
              "</table>\n",
              "<p>1113 rows × 4 columns</p>\n",
              "</div>"
            ],
            "text/plain": [
              "                    price  brand  proporcion_vta_$  proporcion_vta_unidades\n",
              "apple        11522826.350  15013             0.477                    0.192\n",
              "samsung       4946155.600  18540             0.205                    0.237\n",
              "xiaomi         968891.920   5900             0.040                    0.075\n",
              "huawei         520163.940   2470             0.022                    0.032\n",
              "acer           356417.370    701             0.015                    0.009\n",
              "...                   ...    ...               ...                      ...\n",
              "boyscout            2.550      1             0.000                    0.000\n",
              "purederm            2.180      1             0.000                    0.000\n",
              "heinz               2.160      2             0.000                    0.000\n",
              "feron               1.930      1             0.000                    0.000\n",
              "viviennesabo        1.650      1             0.000                    0.000\n",
              "\n",
              "[1113 rows x 4 columns]"
            ]
          },
          "metadata": {},
          "execution_count": 47
        }
      ]
    },
    {
      "cell_type": "code",
      "metadata": {
        "id": "f_jbuT15mJ4U"
      },
      "source": [
        "brand_vta_p=brand_vtas[0:5].copy()"
      ],
      "execution_count": null,
      "outputs": []
    },
    {
      "cell_type": "code",
      "metadata": {
        "id": "OtL6fL5kmUjJ"
      },
      "source": [
        "brand_vta_p.reset_index(inplace=True)"
      ],
      "execution_count": null,
      "outputs": []
    },
    {
      "cell_type": "code",
      "metadata": {
        "id": "sTFq8fEymXbU"
      },
      "source": [
        "brand_vta_p.rename(columns={'index':'brands','price':'amount','brand':'units'},\n",
        "               inplace=True)"
      ],
      "execution_count": null,
      "outputs": []
    },
    {
      "cell_type": "code",
      "metadata": {
        "id": "cHt8IMLOmmgo",
        "colab": {
          "base_uri": "https://localhost:8080/",
          "height": 205
        },
        "outputId": "1994a13d-2244-421d-d11e-606ea08299c4"
      },
      "source": [
        "brand_vta_p"
      ],
      "execution_count": null,
      "outputs": [
        {
          "output_type": "execute_result",
          "data": {
            "text/html": [
              "<div>\n",
              "<style scoped>\n",
              "    .dataframe tbody tr th:only-of-type {\n",
              "        vertical-align: middle;\n",
              "    }\n",
              "\n",
              "    .dataframe tbody tr th {\n",
              "        vertical-align: top;\n",
              "    }\n",
              "\n",
              "    .dataframe thead th {\n",
              "        text-align: right;\n",
              "    }\n",
              "</style>\n",
              "<table border=\"1\" class=\"dataframe\">\n",
              "  <thead>\n",
              "    <tr style=\"text-align: right;\">\n",
              "      <th></th>\n",
              "      <th>brands</th>\n",
              "      <th>amount</th>\n",
              "      <th>units</th>\n",
              "      <th>proporcion_vta_$</th>\n",
              "      <th>proporcion_vta_unidades</th>\n",
              "    </tr>\n",
              "  </thead>\n",
              "  <tbody>\n",
              "    <tr>\n",
              "      <th>0</th>\n",
              "      <td>apple</td>\n",
              "      <td>11522826.350</td>\n",
              "      <td>15013</td>\n",
              "      <td>0.477</td>\n",
              "      <td>0.192</td>\n",
              "    </tr>\n",
              "    <tr>\n",
              "      <th>1</th>\n",
              "      <td>samsung</td>\n",
              "      <td>4946155.600</td>\n",
              "      <td>18540</td>\n",
              "      <td>0.205</td>\n",
              "      <td>0.237</td>\n",
              "    </tr>\n",
              "    <tr>\n",
              "      <th>2</th>\n",
              "      <td>xiaomi</td>\n",
              "      <td>968891.920</td>\n",
              "      <td>5900</td>\n",
              "      <td>0.040</td>\n",
              "      <td>0.075</td>\n",
              "    </tr>\n",
              "    <tr>\n",
              "      <th>3</th>\n",
              "      <td>huawei</td>\n",
              "      <td>520163.940</td>\n",
              "      <td>2470</td>\n",
              "      <td>0.022</td>\n",
              "      <td>0.032</td>\n",
              "    </tr>\n",
              "    <tr>\n",
              "      <th>4</th>\n",
              "      <td>acer</td>\n",
              "      <td>356417.370</td>\n",
              "      <td>701</td>\n",
              "      <td>0.015</td>\n",
              "      <td>0.009</td>\n",
              "    </tr>\n",
              "  </tbody>\n",
              "</table>\n",
              "</div>"
            ],
            "text/plain": [
              "    brands       amount  units  proporcion_vta_$  proporcion_vta_unidades\n",
              "0    apple 11522826.350  15013             0.477                    0.192\n",
              "1  samsung  4946155.600  18540             0.205                    0.237\n",
              "2   xiaomi   968891.920   5900             0.040                    0.075\n",
              "3   huawei   520163.940   2470             0.022                    0.032\n",
              "4     acer   356417.370    701             0.015                    0.009"
            ]
          },
          "metadata": {},
          "execution_count": 51
        }
      ]
    },
    {
      "cell_type": "code",
      "metadata": {
        "id": "pzpDqACzmZuT",
        "colab": {
          "base_uri": "https://localhost:8080/",
          "height": 431
        },
        "outputId": "62951810-12b7-447a-c62a-b0c2b00b63db"
      },
      "source": [
        "plt.figure(figsize=(10,6))\n",
        "sns.barplot(x=\"brands\", y=\"amount\", data=brand_vta_p)\n",
        "plt.ticklabel_format(style=\"plain\", axis=\"y\")\n",
        "plt.xlabel(\"\\nMarcas\")\n",
        "plt.ylabel(\"Monto\")\n",
        "plt.title('Monto de ventas por marca\\n')\n",
        "plt.show()"
      ],
      "execution_count": null,
      "outputs": [
        {
          "output_type": "display_data",
          "data": {
            "image/png": "[encoded data removed]",
            "text/plain": [
              "<Figure size 720x432 with 1 Axes>"
            ]
          },
          "metadata": {
            "needs_background": "light"
          }
        }
      ]
    },
    {
      "cell_type": "code",
      "metadata": {
        "id": "E-SqqvgznJ06",
        "colab": {
          "base_uri": "https://localhost:8080/",
          "height": 467
        },
        "outputId": "6f82771c-d283-4d54-c307-8dd07a6db503"
      },
      "source": [
        "plt.figure(figsize=(10,6))\n",
        "sns.barplot(x=\"brands\", y=\"units\", data=brand_vta_p)\n",
        "plt.ticklabel_format(style=\"plain\", axis=\"y\")\n",
        "plt.xlabel(\"\\nMarcas\")\n",
        "plt.ylabel(\"Unidades vendidas\")\n",
        "plt.title('Unidades vendidas por marca\\n')\n",
        "plt.show()\n",
        "plt.figure(figsize=(10,6))"
      ],
      "execution_count": null,
      "outputs": [
        {
          "output_type": "display_data",
          "data": {
            "image/png": "[encoded data removed]",
            "text/plain": [
              "<Figure size 720x432 with 1 Axes>"
            ]
          },
          "metadata": {
            "needs_background": "light"
          }
        },
        {
          "output_type": "execute_result",
          "data": {
            "text/plain": [
              "<Figure size 720x432 with 0 Axes>"
            ]
          },
          "metadata": {},
          "execution_count": 53
        },
        {
          "output_type": "display_data",
          "data": {
            "text/plain": [
              "<Figure size 720x432 with 0 Axes>"
            ]
          },
          "metadata": {}
        }
      ]
    },
    {
      "cell_type": "code",
      "metadata": {
        "id": "RduQSoOiwtjP"
      },
      "source": [
        "def valores2(df, valor1='category_code'):\n",
        "    return df.groupby(['category_code'])['price'].sum().sort_values(ascending=False), cleaned_df_purchase['category_code'].value_counts()"
      ],
      "execution_count": null,
      "outputs": []
    },
    {
      "cell_type": "code",
      "metadata": {
        "id": "6lynO6Arwwoq"
      },
      "source": [
        "e,f = valores2(cleaned_df_purchase, 'category_code')"
      ],
      "execution_count": null,
      "outputs": []
    },
    {
      "cell_type": "code",
      "metadata": {
        "id": "YtV9fFWg5dLY"
      },
      "source": [
        "df_new_cat = pd.merge(left=e, right=f,\n",
        "how='outer', left_index=True,\n",
        "right_index=True)"
      ],
      "execution_count": null,
      "outputs": []
    },
    {
      "cell_type": "code",
      "metadata": {
        "id": "xN6eo0ITQIkl"
      },
      "source": [
        "category_vtas = df_new_cat.sort_values('price',ascending=False)"
      ],
      "execution_count": null,
      "outputs": []
    },
    {
      "cell_type": "code",
      "metadata": {
        "id": "Qo3iaCfU5dLa",
        "colab": {
          "base_uri": "https://localhost:8080/",
          "height": 422
        },
        "outputId": "2c6fbc86-7380-4c2f-f7f4-3dd2393ebd36"
      },
      "source": [
        "category_vtas['proporcion_vta_p'] = category_vtas['price']/round(sum(cleaned_df_purchase.price),2)\n",
        "category_vtas['proporcion_vta_unidades'] = category_vtas['category_code']/len(cleaned_df_purchase)\n",
        "category_vtas"
      ],
      "execution_count": null,
      "outputs": [
        {
          "output_type": "execute_result",
          "data": {
            "text/html": [
              "<div>\n",
              "<style scoped>\n",
              "    .dataframe tbody tr th:only-of-type {\n",
              "        vertical-align: middle;\n",
              "    }\n",
              "\n",
              "    .dataframe tbody tr th {\n",
              "        vertical-align: top;\n",
              "    }\n",
              "\n",
              "    .dataframe thead th {\n",
              "        text-align: right;\n",
              "    }\n",
              "</style>\n",
              "<table border=\"1\" class=\"dataframe\">\n",
              "  <thead>\n",
              "    <tr style=\"text-align: right;\">\n",
              "      <th></th>\n",
              "      <th>price</th>\n",
              "      <th>category_code</th>\n",
              "      <th>proporcion_vta_p</th>\n",
              "      <th>proporcion_vta_unidades</th>\n",
              "    </tr>\n",
              "  </thead>\n",
              "  <tbody>\n",
              "    <tr>\n",
              "      <th>electronics.smartphone</th>\n",
              "      <td>16503311.320</td>\n",
              "      <td>35988</td>\n",
              "      <td>0.684</td>\n",
              "      <td>0.460</td>\n",
              "    </tr>\n",
              "    <tr>\n",
              "      <th>computers.notebook</th>\n",
              "      <td>903253.820</td>\n",
              "      <td>1570</td>\n",
              "      <td>0.037</td>\n",
              "      <td>0.020</td>\n",
              "    </tr>\n",
              "    <tr>\n",
              "      <th>electronics.video.tv</th>\n",
              "      <td>874852.690</td>\n",
              "      <td>2283</td>\n",
              "      <td>0.036</td>\n",
              "      <td>0.029</td>\n",
              "    </tr>\n",
              "    <tr>\n",
              "      <th>electronics.clocks</th>\n",
              "      <td>485147.480</td>\n",
              "      <td>1822</td>\n",
              "      <td>0.020</td>\n",
              "      <td>0.023</td>\n",
              "    </tr>\n",
              "    <tr>\n",
              "      <th>appliances.kitchen.washer</th>\n",
              "      <td>464798.070</td>\n",
              "      <td>1605</td>\n",
              "      <td>0.019</td>\n",
              "      <td>0.021</td>\n",
              "    </tr>\n",
              "    <tr>\n",
              "      <th>...</th>\n",
              "      <td>...</td>\n",
              "      <td>...</td>\n",
              "      <td>...</td>\n",
              "      <td>...</td>\n",
              "    </tr>\n",
              "    <tr>\n",
              "      <th>apparel.sock</th>\n",
              "      <td>55.310</td>\n",
              "      <td>2</td>\n",
              "      <td>0.000</td>\n",
              "      <td>0.000</td>\n",
              "    </tr>\n",
              "    <tr>\n",
              "      <th>apparel.belt</th>\n",
              "      <td>51.480</td>\n",
              "      <td>2</td>\n",
              "      <td>0.000</td>\n",
              "      <td>0.000</td>\n",
              "    </tr>\n",
              "    <tr>\n",
              "      <th>apparel.scarf</th>\n",
              "      <td>50.960</td>\n",
              "      <td>2</td>\n",
              "      <td>0.000</td>\n",
              "      <td>0.000</td>\n",
              "    </tr>\n",
              "    <tr>\n",
              "      <th>apparel.shoes.ballet_shoes</th>\n",
              "      <td>23.170</td>\n",
              "      <td>1</td>\n",
              "      <td>0.000</td>\n",
              "      <td>0.000</td>\n",
              "    </tr>\n",
              "    <tr>\n",
              "      <th>construction.tools.soldering</th>\n",
              "      <td>12.140</td>\n",
              "      <td>1</td>\n",
              "      <td>0.000</td>\n",
              "      <td>0.000</td>\n",
              "    </tr>\n",
              "  </tbody>\n",
              "</table>\n",
              "<p>115 rows × 4 columns</p>\n",
              "</div>"
            ],
            "text/plain": [
              "                                    price  ...  proporcion_vta_unidades\n",
              "electronics.smartphone       16503311.320  ...                    0.460\n",
              "computers.notebook             903253.820  ...                    0.020\n",
              "electronics.video.tv           874852.690  ...                    0.029\n",
              "electronics.clocks             485147.480  ...                    0.023\n",
              "appliances.kitchen.washer      464798.070  ...                    0.021\n",
              "...                                   ...  ...                      ...\n",
              "apparel.sock                       55.310  ...                    0.000\n",
              "apparel.belt                       51.480  ...                    0.000\n",
              "apparel.scarf                      50.960  ...                    0.000\n",
              "apparel.shoes.ballet_shoes         23.170  ...                    0.000\n",
              "construction.tools.soldering       12.140  ...                    0.000\n",
              "\n",
              "[115 rows x 4 columns]"
            ]
          },
          "metadata": {},
          "execution_count": 58
        }
      ]
    },
    {
      "cell_type": "code",
      "metadata": {
        "id": "ewycbBlWnuHi"
      },
      "source": [
        "category_vtas_p=category_vtas[0:5].copy()"
      ],
      "execution_count": null,
      "outputs": []
    },
    {
      "cell_type": "code",
      "metadata": {
        "id": "qTaTKK37nuHj"
      },
      "source": [
        "category_vtas_p.reset_index(inplace=True)"
      ],
      "execution_count": null,
      "outputs": []
    },
    {
      "cell_type": "code",
      "metadata": {
        "id": "PIW7hy-WnuHk"
      },
      "source": [
        "category_vtas_p.rename(columns={'index':'category','price':'amount','category_code':'units'},\n",
        "               inplace=True)"
      ],
      "execution_count": null,
      "outputs": []
    },
    {
      "cell_type": "code",
      "metadata": {
        "id": "ga8UE4aZp7EN",
        "colab": {
          "base_uri": "https://localhost:8080/",
          "height": 205
        },
        "outputId": "49c13bd0-9e4a-4e71-ba75-441e1a713d61"
      },
      "source": [
        "category_vtas_p"
      ],
      "execution_count": null,
      "outputs": [
        {
          "output_type": "execute_result",
          "data": {
            "text/html": [
              "<div>\n",
              "<style scoped>\n",
              "    .dataframe tbody tr th:only-of-type {\n",
              "        vertical-align: middle;\n",
              "    }\n",
              "\n",
              "    .dataframe tbody tr th {\n",
              "        vertical-align: top;\n",
              "    }\n",
              "\n",
              "    .dataframe thead th {\n",
              "        text-align: right;\n",
              "    }\n",
              "</style>\n",
              "<table border=\"1\" class=\"dataframe\">\n",
              "  <thead>\n",
              "    <tr style=\"text-align: right;\">\n",
              "      <th></th>\n",
              "      <th>category</th>\n",
              "      <th>amount</th>\n",
              "      <th>units</th>\n",
              "      <th>proporcion_vta_p</th>\n",
              "      <th>proporcion_vta_unidades</th>\n",
              "    </tr>\n",
              "  </thead>\n",
              "  <tbody>\n",
              "    <tr>\n",
              "      <th>0</th>\n",
              "      <td>electronics.smartphone</td>\n",
              "      <td>16503311.320</td>\n",
              "      <td>35988</td>\n",
              "      <td>0.684</td>\n",
              "      <td>0.460</td>\n",
              "    </tr>\n",
              "    <tr>\n",
              "      <th>1</th>\n",
              "      <td>computers.notebook</td>\n",
              "      <td>903253.820</td>\n",
              "      <td>1570</td>\n",
              "      <td>0.037</td>\n",
              "      <td>0.020</td>\n",
              "    </tr>\n",
              "    <tr>\n",
              "      <th>2</th>\n",
              "      <td>electronics.video.tv</td>\n",
              "      <td>874852.690</td>\n",
              "      <td>2283</td>\n",
              "      <td>0.036</td>\n",
              "      <td>0.029</td>\n",
              "    </tr>\n",
              "    <tr>\n",
              "      <th>3</th>\n",
              "      <td>electronics.clocks</td>\n",
              "      <td>485147.480</td>\n",
              "      <td>1822</td>\n",
              "      <td>0.020</td>\n",
              "      <td>0.023</td>\n",
              "    </tr>\n",
              "    <tr>\n",
              "      <th>4</th>\n",
              "      <td>appliances.kitchen.washer</td>\n",
              "      <td>464798.070</td>\n",
              "      <td>1605</td>\n",
              "      <td>0.019</td>\n",
              "      <td>0.021</td>\n",
              "    </tr>\n",
              "  </tbody>\n",
              "</table>\n",
              "</div>"
            ],
            "text/plain": [
              "                    category  ...  proporcion_vta_unidades\n",
              "0     electronics.smartphone  ...                    0.460\n",
              "1         computers.notebook  ...                    0.020\n",
              "2       electronics.video.tv  ...                    0.029\n",
              "3         electronics.clocks  ...                    0.023\n",
              "4  appliances.kitchen.washer  ...                    0.021\n",
              "\n",
              "[5 rows x 5 columns]"
            ]
          },
          "metadata": {},
          "execution_count": 62
        }
      ]
    },
    {
      "cell_type": "code",
      "metadata": {
        "id": "_ruWkNgBoFx-",
        "colab": {
          "base_uri": "https://localhost:8080/",
          "height": 431
        },
        "outputId": "45f3b3d3-82e6-4d78-dfe2-8da2d666d667"
      },
      "source": [
        "plt.figure(figsize=(12,6))\n",
        "sns.barplot(x=\"category\", y=\"amount\", data=category_vtas_p)\n",
        "plt.ticklabel_format(style=\"plain\", axis=\"y\")\n",
        "plt.xlabel(\"\\nCategorías\")\n",
        "plt.ylabel(\"Monto\")\n",
        "plt.title('Monto de ventas por categoría\\n')\n",
        "plt.show()"
      ],
      "execution_count": null,
      "outputs": [
        {
          "output_type": "display_data",
          "data": {
            "image/png": "[encoded data removed]",
            "text/plain": [
              "<Figure size 864x432 with 1 Axes>"
            ]
          },
          "metadata": {
            "needs_background": "light"
          }
        }
      ]
    },
    {
      "cell_type": "code",
      "metadata": {
        "id": "5QqQ9Zf5oGK5",
        "colab": {
          "base_uri": "https://localhost:8080/",
          "height": 431
        },
        "outputId": "c92e5a6a-6521-43a3-8513-a898fbb5ee8e"
      },
      "source": [
        "plt.figure(figsize=(12,6))\n",
        "sns.barplot(x=\"category\", y=\"units\", data=category_vtas_p)\n",
        "plt.ticklabel_format(style=\"plain\", axis=\"y\")\n",
        "plt.xlabel(\"\\nCategorías\")\n",
        "plt.ylabel(\"Unidades vendidas\")\n",
        "plt.title('Unidades vendidas por categoría\\n')\n",
        "plt.show()"
      ],
      "execution_count": null,
      "outputs": [
        {
          "output_type": "display_data",
          "data": {
            "image/png": "[encoded data removed]",
            "text/plain": [
              "<Figure size 864x432 with 1 Axes>"
            ]
          },
          "metadata": {
            "needs_background": "light"
          }
        }
      ]
    },
    {
      "cell_type": "markdown",
      "metadata": {
        "id": "6CdV9s0O8LvK"
      },
      "source": [
        "A raiz de que la categoria que más ingresos le significan al negocio es \"electronics.smartphone\", hacemos un análisis particular, en funcion de las marcas que estan incluidas en la misma.\n"
      ]
    },
    {
      "cell_type": "code",
      "metadata": {
        "id": "k-wvH-yGTD50",
        "colab": {
          "base_uri": "https://localhost:8080/",
          "height": 205
        },
        "outputId": "41581618-370a-44d1-e5cb-5e0555b4e087"
      },
      "source": [
        "cleaned_df.head()"
      ],
      "execution_count": null,
      "outputs": [
        {
          "output_type": "execute_result",
          "data": {
            "text/html": [
              "<div>\n",
              "<style scoped>\n",
              "    .dataframe tbody tr th:only-of-type {\n",
              "        vertical-align: middle;\n",
              "    }\n",
              "\n",
              "    .dataframe tbody tr th {\n",
              "        vertical-align: top;\n",
              "    }\n",
              "\n",
              "    .dataframe thead th {\n",
              "        text-align: right;\n",
              "    }\n",
              "</style>\n",
              "<table border=\"1\" class=\"dataframe\">\n",
              "  <thead>\n",
              "    <tr style=\"text-align: right;\">\n",
              "      <th></th>\n",
              "      <th>event_time</th>\n",
              "      <th>event_type</th>\n",
              "      <th>product_id</th>\n",
              "      <th>category_id</th>\n",
              "      <th>category_code</th>\n",
              "      <th>brand</th>\n",
              "      <th>price</th>\n",
              "      <th>user_id</th>\n",
              "      <th>user_session</th>\n",
              "      <th>hour</th>\n",
              "      <th>day_of_week</th>\n",
              "      <th>day</th>\n",
              "      <th>dayofmonth</th>\n",
              "    </tr>\n",
              "  </thead>\n",
              "  <tbody>\n",
              "    <tr>\n",
              "      <th>35424599</th>\n",
              "      <td>2019-10-26 11:31:49</td>\n",
              "      <td>view</td>\n",
              "      <td>2701884</td>\n",
              "      <td>2053013563911439225</td>\n",
              "      <td>appliances.kitchen.refrigerators</td>\n",
              "      <td>beko</td>\n",
              "      <td>539.430</td>\n",
              "      <td>545113235</td>\n",
              "      <td>a76b16f6-99e8-4568-91ba-8d0594f6dc8c</td>\n",
              "      <td>11</td>\n",
              "      <td>5</td>\n",
              "      <td>Sabado</td>\n",
              "      <td>26</td>\n",
              "    </tr>\n",
              "    <tr>\n",
              "      <th>33954915</th>\n",
              "      <td>2019-10-25 10:47:09</td>\n",
              "      <td>view</td>\n",
              "      <td>47900002</td>\n",
              "      <td>2116907525201723525</td>\n",
              "      <td>None</td>\n",
              "      <td>tacx</td>\n",
              "      <td>154.190</td>\n",
              "      <td>546093570</td>\n",
              "      <td>4106f0e7-6464-4e7a-a96d-6942b765df15</td>\n",
              "      <td>10</td>\n",
              "      <td>4</td>\n",
              "      <td>Viernes</td>\n",
              "      <td>25</td>\n",
              "    </tr>\n",
              "    <tr>\n",
              "      <th>3239063</th>\n",
              "      <td>2019-10-03 15:50:59</td>\n",
              "      <td>view</td>\n",
              "      <td>1003317</td>\n",
              "      <td>2053013555631882655</td>\n",
              "      <td>electronics.smartphone</td>\n",
              "      <td>apple</td>\n",
              "      <td>965.020</td>\n",
              "      <td>521171518</td>\n",
              "      <td>4069de18-c57b-4c5f-b96a-530af56e2af8</td>\n",
              "      <td>15</td>\n",
              "      <td>3</td>\n",
              "      <td>Jueves</td>\n",
              "      <td>3</td>\n",
              "    </tr>\n",
              "    <tr>\n",
              "      <th>18744048</th>\n",
              "      <td>2019-10-14 18:05:20</td>\n",
              "      <td>view</td>\n",
              "      <td>4802233</td>\n",
              "      <td>2053013554658804075</td>\n",
              "      <td>electronics.audio.headphone</td>\n",
              "      <td>jbl</td>\n",
              "      <td>46.080</td>\n",
              "      <td>559456286</td>\n",
              "      <td>e2120413-0bbb-42cb-9205-49d92457a5cf</td>\n",
              "      <td>18</td>\n",
              "      <td>0</td>\n",
              "      <td>Lunes</td>\n",
              "      <td>14</td>\n",
              "    </tr>\n",
              "    <tr>\n",
              "      <th>6966925</th>\n",
              "      <td>2019-10-06 11:45:33</td>\n",
              "      <td>view</td>\n",
              "      <td>1005153</td>\n",
              "      <td>2053013555631882655</td>\n",
              "      <td>electronics.smartphone</td>\n",
              "      <td>xiaomi</td>\n",
              "      <td>231.640</td>\n",
              "      <td>533559597</td>\n",
              "      <td>a6ee7e6a-8849-4c8c-8cb7-c76bd0e85e87</td>\n",
              "      <td>11</td>\n",
              "      <td>6</td>\n",
              "      <td>Domingo</td>\n",
              "      <td>6</td>\n",
              "    </tr>\n",
              "  </tbody>\n",
              "</table>\n",
              "</div>"
            ],
            "text/plain": [
              "                  event_time event_type  ...      day  dayofmonth\n",
              "35424599 2019-10-26 11:31:49       view  ...   Sabado          26\n",
              "33954915 2019-10-25 10:47:09       view  ...  Viernes          25\n",
              "3239063  2019-10-03 15:50:59       view  ...   Jueves           3\n",
              "18744048 2019-10-14 18:05:20       view  ...    Lunes          14\n",
              "6966925  2019-10-06 11:45:33       view  ...  Domingo           6\n",
              "\n",
              "[5 rows x 13 columns]"
            ]
          },
          "metadata": {},
          "execution_count": 65
        }
      ]
    },
    {
      "cell_type": "code",
      "metadata": {
        "id": "kAXa0XXyRUMt"
      },
      "source": [
        "cleaned_df_smartphone = cleaned_df[(cleaned_df['category_code']=='electronics.smartphone')].copy()"
      ],
      "execution_count": null,
      "outputs": []
    },
    {
      "cell_type": "code",
      "metadata": {
        "id": "cQQrxZheYs6b"
      },
      "source": [
        "freq_smartphone = cleaned_df_smartphone['brand'].value_counts(normalize = True)"
      ],
      "execution_count": null,
      "outputs": []
    },
    {
      "cell_type": "code",
      "metadata": {
        "id": "qIV3NnlaZy7d"
      },
      "source": [
        "smartphone_less_sold = freq_smartphone.loc[freq_smartphone<0.041].index"
      ],
      "execution_count": null,
      "outputs": []
    },
    {
      "cell_type": "code",
      "metadata": {
        "id": "00YhVC34dTU_",
        "colab": {
          "base_uri": "https://localhost:8080/"
        },
        "outputId": "48348dbc-c9de-4113-99a0-194d391e9534"
      },
      "source": [
        "cleaned_df_smartphone.brand.value_counts(normalize=True)"
      ],
      "execution_count": null,
      "outputs": [
        {
          "output_type": "execute_result",
          "data": {
            "text/plain": [
              "samsung      0.345\n",
              "apple        0.286\n",
              "xiaomi       0.187\n",
              "huawei       0.083\n",
              "oppo         0.039\n",
              "meizu        0.013\n",
              "vivo         0.010\n",
              "nokia        0.006\n",
              "honor        0.006\n",
              "sony         0.005\n",
              "oneplus      0.005\n",
              "lg           0.002\n",
              "bq           0.002\n",
              "doogee       0.002\n",
              "tp-link      0.002\n",
              "inoi         0.001\n",
              "prestigio    0.001\n",
              "google       0.001\n",
              "zte          0.001\n",
              "haier        0.001\n",
              "asus         0.000\n",
              "tecno        0.000\n",
              "jinga        0.000\n",
              "umi          0.000\n",
              "gionee       0.000\n",
              "irbis        0.000\n",
              "htc          0.000\n",
              "fly          0.000\n",
              "blackberry   0.000\n",
              "nubia        0.000\n",
              "texet        0.000\n",
              "leeco        0.000\n",
              "philips      0.000\n",
              "vertex       0.000\n",
              "micromax     0.000\n",
              "oukitel      0.000\n",
              "hiper        0.000\n",
              "leagoo       0.000\n",
              "motorola     0.000\n",
              "Name: brand, dtype: float64"
            ]
          },
          "metadata": {},
          "execution_count": 69
        }
      ]
    },
    {
      "cell_type": "code",
      "metadata": {
        "id": "eoWY32a1grW5"
      },
      "source": [
        "cleaned_df_smartphone.loc[cleaned_df_smartphone.brand.isin(smartphone_less_sold),\"brand\"] = \"Other\""
      ],
      "execution_count": null,
      "outputs": []
    },
    {
      "cell_type": "markdown",
      "metadata": {
        "id": "y0LyO6lXkEQH"
      },
      "source": [
        "Ahora calcularemos la distribucion de las cantidades vendidas, vistas y de carritos por marcas de smartphones"
      ]
    },
    {
      "cell_type": "code",
      "metadata": {
        "id": "G_dsZhGwfhWr",
        "colab": {
          "base_uri": "https://localhost:8080/",
          "height": 520
        },
        "outputId": "37d3f67e-f60e-4d9a-c670-08013211bf09"
      },
      "source": [
        "df_summary= cleaned_df_smartphone.groupby('event_type')['brand'].value_counts(normalize=True)\n",
        "\n",
        "df_summary['view'].plot(kind='bar',position=2, color='skyblue',figsize=(10,7),width=.25,label = 'vistas')\n",
        "df_summary['purchase'].plot(kind='bar',position=0, width=.25,color='orange', label = 'compras')\n",
        "df_summary['cart'].plot(kind='bar',position=1, width=.25,color='green', label = 'carrito')\n",
        "plt.xlabel(\"\\nBrand\")\n",
        "plt.ylabel(\"Proporción por marca\\n\")\n",
        "plt.title('Eventos generados por marca de Smartphone\\n')\n",
        "plt.show()\n",
        "plt.legend=True\n",
        "\n"
      ],
      "execution_count": null,
      "outputs": [
        {
          "output_type": "display_data",
          "data": {
            "image/png": "[encoded data removed]",
            "text/plain": [
              "<Figure size 720x504 with 1 Axes>"
            ]
          },
          "metadata": {
            "needs_background": "light"
          }
        }
      ]
    },
    {
      "cell_type": "markdown",
      "metadata": {
        "id": "FZl9pKvnkiWz"
      },
      "source": [
        "Notamos que las 2 primeras marcas mas compradas(samsung, apple) tienen una proporcion de ventas mayor a la proporcion de vistas totales. es decir, tiene un ratio de conversion mucho mayor que las segundas marcas."
      ]
    }
  ]
}
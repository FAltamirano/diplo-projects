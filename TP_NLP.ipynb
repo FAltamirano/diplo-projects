{
  "nbformat": 4,
  "nbformat_minor": 0,
  "metadata": {
    "colab": {
      "name": "TP5: Altamirano, Fluxa",
      "provenance": [],
      "collapsed_sections": []
    },
    "kernelspec": {
      "display_name": "Python 3",
      "name": "python3"
    },
    "language_info": {
      "name": "python"
    }
  },
  "cells": [
    {
      "cell_type": "markdown",
      "metadata": {
        "id": "vIjqIJO8JU1v"
      },
      "source": [
        "**Consigna:**  <a name=\"q1\"></a>\n",
        " \n",
        "*Objetivos*\n",
        "\n",
        "Deberán generar un modelo de machine learning el cual pueda clasificar review en inglés para la plataforma Yelp. Es decir, nuestro modelo recibirá una review de un usuario, y deberá ser capaz de determinar si esta es positiva o negativa.\n",
        "\n",
        "*Dataset*\n",
        "\n",
        "Las features que contiene este dataset son las siguientes:\n",
        "\t\t\t\t\n",
        "●  business_id: identificador del negocio al que se está realizando la review.\n",
        "\n",
        "●  cool: cantidad de votos por haber sido una review “cool”.\n",
        "\n",
        "●  date: fecha de realización de la revisión.\n",
        "\n",
        "●  funny: cantidad de votos para una revisión “divertida”.\n",
        "\n",
        "●  review_id: identificador único de revisión (ofuscado).\n",
        "\n",
        "●  stars: cantidad de estrellas otorgadas por el usuario en referencia a la review.\n",
        "\n",
        "●  text: revisión realizada por el usuario sobre un determinado negocio.\n",
        "\n",
        "●  useful: cantidad de votos recibido por los usuarios a los cuales le resultó útil la revisión.\n",
        "\n",
        "● user_id: id del usuario en la plataforma (ofuscado).\n",
        "\n",
        "*Consideraciones*\n",
        "\n",
        "●  No contamos con una variable target como pasa en problemas de la vida real. Por ello, un desafío extra que se presenta es cómo definir un target, basado en las features del dataset.\n",
        " \t\t\t\t\n",
        "●  Muchas veces cuando importamos un dataset pandas infiere que valor podría ser, de no encontrar un valor conocido pone uno por defecto.Validar que los tipos de datos de las features después de importarse correspondan con su valor intrínseco es una buena práctica.\n",
        "\n",
        "●  Haga una rápida exploración de valores atípicos (outliers) del conjunto de datos. Realice los gráficos que considere pertinente para entender la naturaleza del problema.\n",
        "\n",
        "\n",
        "*Evaluación*\n",
        " \t\t\t\t\t\t\t\t\n",
        "Para la evaluación de los modelos vamos a utilizar las siguientes métricas:\n",
        " \t\t\t\t\t\t\t\n",
        "●  Precision.\n",
        "\n",
        "●  Recall.\n",
        "\n",
        "●  F1-score.\n",
        "\n",
        "●  Análisis de AUC ROC.\n",
        "\n",
        "\n",
        "\n",
        "\n",
        "\n",
        "\n",
        "\n"
      ]
    },
    {
      "cell_type": "markdown",
      "metadata": {
        "id": "gqQwGN3iC_Ut"
      },
      "source": [
        "# IMPORTS"
      ]
    },
    {
      "cell_type": "code",
      "metadata": {
        "id": "Rwzy6pZf4pSy"
      },
      "source": [
        "%%capture\n",
        "import pandas as pd\n",
        "import numpy as np\n",
        "pd.set_option('display.float_format', lambda x: '%.3f' % x)\n",
        "import matplotlib.pyplot as plt\n",
        "import seaborn as sns\n",
        "! pip install langdetect\n",
        "from sklearn.pipeline import make_pipeline\n",
        "from sklearn.preprocessing import LabelEncoder\n",
        "from sklearn.model_selection import train_test_split\n",
        "from sklearn.naive_bayes import MultinomialNB\n",
        "from sklearn.neighbors import KNeighborsClassifier\n",
        "from sklearn.model_selection import GridSearchCV\n",
        "from sklearn.feature_extraction.text import CountVectorizer, TfidfVectorizer\n",
        "from sklearn.linear_model import LogisticRegression # Clasificador\n",
        "from sklearn.metrics import classification_report # Metricas para valoracion del modelo\n",
        "from sklearn.metrics import f1_score, confusion_matrix # Metricas para valoracion del modelo\n",
        "from sklearn.metrics import accuracy_score, precision_score, recall_score\n",
        "from sklearn.metrics import roc_curve, auc, roc_auc_score # Metricas para valoracion del modelo\n",
        "from sklearn.metrics import plot_confusion_matrix \n",
        "import re, string, unicodedata\n",
        "import nltk\n",
        "import pickle\n",
        "from nltk import word_tokenize\n",
        "nltk.download(\"stopwords\") \n",
        "from nltk.corpus import stopwords\n",
        "from wordcloud import WordCloud, STOPWORDS,ImageColorGenerator\n",
        "from nltk.tokenize import WhitespaceTokenizer \n",
        "from wordcloud import WordCloud\n",
        "from scipy import sparse\n",
        "import xgboost\n",
        "from xgboost import XGBClassifier\n",
        "#from nltk import pos_tag \n",
        "#nltk.download('averaged_perceptron_tagger')\n",
        "import keras\n",
        "#from keras.models import Sequential\n",
        "#from keras.layers import Dense\n",
        "#from keras_visualizer import visualizer\n",
        "#from langdetect import detect\n",
        "from keras.preprocessing.text import Tokenizer                    \n",
        "#from keras.preprocessing.sequence import pad_sequences\n",
        "#from keras import layers"
      ],
      "execution_count": null,
      "outputs": []
    },
    {
      "cell_type": "markdown",
      "metadata": {
        "id": "k-xIx6K7D7_j"
      },
      "source": [
        "# CARGA DEL SET"
      ]
    },
    {
      "cell_type": "code",
      "metadata": {
        "colab": {
          "base_uri": "https://localhost:8080/"
        },
        "id": "tnJPJ6mJXxa7",
        "outputId": "755b3f30-af7e-411f-97bf-25fc49b709da"
      },
      "source": [
        "from google.colab import drive\n",
        "drive.mount('/content/drive')\n"
      ],
      "execution_count": null,
      "outputs": [
        {
          "name": "stdout",
          "output_type": "stream",
          "text": [
            "Drive already mounted at /content/drive; to attempt to forcibly remount, call drive.mount(\"/content/drive\", force_remount=True).\n"
          ]
        }
      ]
    },
    {
      "cell_type": "code",
      "metadata": {
        "colab": {
          "base_uri": "https://localhost:8080/"
        },
        "id": "eWGrK2EgLzg7",
        "outputId": "4495788e-db55-4567-d278-ce32c6d81976"
      },
      "source": [
        "df = pd.read_csv('/content/drive/Shareddrives/Diplo DS -Grupo 01/TP5/reviews_yelp_nn.csv',sep='\\t', error_bad_lines=False )"
      ],
      "execution_count": null,
      "outputs": [
        {
          "name": "stderr",
          "output_type": "stream",
          "text": [
            "/usr/local/lib/python3.7/dist-packages/IPython/core/interactiveshell.py:2718: DtypeWarning: Columns (1) have mixed types.Specify dtype option on import or set low_memory=False.\n",
            "  interactivity=interactivity, compiler=compiler, result=result)\n"
          ]
        }
      ]
    },
    {
      "cell_type": "code",
      "metadata": {
        "colab": {
          "base_uri": "https://localhost:8080/",
          "height": 206
        },
        "id": "8kLWUByRfWPf",
        "outputId": "c70d8f69-ee9c-4cd6-832e-ff5cd8f95a2f"
      },
      "source": [
        "#Vemos las primeras 5 filas del dataset y podemos apreciar las columnas.\n",
        "#Podemos ver que hay diferentes reseñas para diferentes lugares...nomenclados con un id, no se sabe que tipo de negocio es. podriamos ver cuantos negocios poseen reseñas. como tambien la diferencia entre las mismas\n",
        "#Tenemos la columna \"cool\" que describe la percepcion de los lectores de las reseñas a la reseña en particular, con \"cool\" vamos a entender sensacional|muy bueno y podriamos decir que es un apoyo a la reseña por parte del lector\n",
        "#Con la columna date, sabemos que tenemos la fecha de la realizacion de la reseña...podemos ver si participa o no en la calidad del servicio\n",
        "#Con review id tenemos el identificador unico de la reseña\n",
        "#Con stars tenemos la puntuacion que le dieron al servicio que se brindò\n",
        "#Text hace referencia a la reseña en si.\n",
        "#La columna Useful, se refiere a cuan util se encontró la reseña para el lector.\n",
        "#User_id referencia a el usuario que realizó la reseña.\n",
        "df.head()\n"
      ],
      "execution_count": null,
      "outputs": [
        {
          "data": {
            "text/html": [
              "<div>\n",
              "<style scoped>\n",
              "    .dataframe tbody tr th:only-of-type {\n",
              "        vertical-align: middle;\n",
              "    }\n",
              "\n",
              "    .dataframe tbody tr th {\n",
              "        vertical-align: top;\n",
              "    }\n",
              "\n",
              "    .dataframe thead th {\n",
              "        text-align: right;\n",
              "    }\n",
              "</style>\n",
              "<table border=\"1\" class=\"dataframe\">\n",
              "  <thead>\n",
              "    <tr style=\"text-align: right;\">\n",
              "      <th></th>\n",
              "      <th>business_id</th>\n",
              "      <th>cool</th>\n",
              "      <th>date</th>\n",
              "      <th>funny</th>\n",
              "      <th>review_id</th>\n",
              "      <th>stars</th>\n",
              "      <th>text</th>\n",
              "      <th>useful</th>\n",
              "      <th>user_id</th>\n",
              "    </tr>\n",
              "  </thead>\n",
              "  <tbody>\n",
              "    <tr>\n",
              "      <th>0</th>\n",
              "      <td>EhGPj8iJDIdaHnWg9d5BgA</td>\n",
              "      <td>0</td>\n",
              "      <td>2016-04-20 14:30:53</td>\n",
              "      <td>0.000</td>\n",
              "      <td>uJRdHLz4XNmDK5pOkWbZNA</td>\n",
              "      <td>5.000</td>\n",
              "      <td>Best Dim Sum in the city, their cart service i...</td>\n",
              "      <td>0.000</td>\n",
              "      <td>POETn3fQcZ8ngLAARCATSg</td>\n",
              "    </tr>\n",
              "    <tr>\n",
              "      <th>1</th>\n",
              "      <td>VPcFNI-6HICR5SJM--KjNA</td>\n",
              "      <td>5</td>\n",
              "      <td>2013-05-14 03:08:12</td>\n",
              "      <td>2.000</td>\n",
              "      <td>TlPh8jy8bt_TSGfjEw-pvA</td>\n",
              "      <td>5.000</td>\n",
              "      <td>How... HOW did I not head down here sooner? Fo...</td>\n",
              "      <td>7.000</td>\n",
              "      <td>oUK6Xs5dPPnP4whFeZExGg</td>\n",
              "    </tr>\n",
              "    <tr>\n",
              "      <th>2</th>\n",
              "      <td>ugdUuApH3pYXggW5qpbALg</td>\n",
              "      <td>0</td>\n",
              "      <td>2016-08-26 16:51:37</td>\n",
              "      <td>0.000</td>\n",
              "      <td>GmoBAVE1pTo0kjmeKrXmLQ</td>\n",
              "      <td>4.000</td>\n",
              "      <td>Carnitas were wonderful. First time there and ...</td>\n",
              "      <td>0.000</td>\n",
              "      <td>SiaSUNlKQK7f57WBPmyyNw</td>\n",
              "    </tr>\n",
              "    <tr>\n",
              "      <th>3</th>\n",
              "      <td>3fCxmmg8nHGaE5upJWQUrw</td>\n",
              "      <td>0</td>\n",
              "      <td>2016-03-24 17:23:19</td>\n",
              "      <td>0.000</td>\n",
              "      <td>ZHuM9P81zfuNuFZ5ThXNRg</td>\n",
              "      <td>5.000</td>\n",
              "      <td>Great staff who are always willing to help. I ...</td>\n",
              "      <td>0.000</td>\n",
              "      <td>PsH5Qi8R69WAlhNv8mXWRA</td>\n",
              "    </tr>\n",
              "    <tr>\n",
              "      <th>4</th>\n",
              "      <td>LAqbIi2TDn8BDvPB0nLVhQ</td>\n",
              "      <td>1</td>\n",
              "      <td>2012-10-25 15:02:48</td>\n",
              "      <td>0.000</td>\n",
              "      <td>-2Ce00mfWYP20yt7k6kARg</td>\n",
              "      <td>3.000</td>\n",
              "      <td>This place is bigger, brighter, new so it's cl...</td>\n",
              "      <td>3.000</td>\n",
              "      <td>r-zUIQPaHzvIyL93wQaoiQ</td>\n",
              "    </tr>\n",
              "  </tbody>\n",
              "</table>\n",
              "</div>"
            ],
            "text/plain": [
              "              business_id cool  ... useful                 user_id\n",
              "0  EhGPj8iJDIdaHnWg9d5BgA    0  ...  0.000  POETn3fQcZ8ngLAARCATSg\n",
              "1  VPcFNI-6HICR5SJM--KjNA    5  ...  7.000  oUK6Xs5dPPnP4whFeZExGg\n",
              "2  ugdUuApH3pYXggW5qpbALg    0  ...  0.000  SiaSUNlKQK7f57WBPmyyNw\n",
              "3  3fCxmmg8nHGaE5upJWQUrw    0  ...  0.000  PsH5Qi8R69WAlhNv8mXWRA\n",
              "4  LAqbIi2TDn8BDvPB0nLVhQ    1  ...  3.000  r-zUIQPaHzvIyL93wQaoiQ\n",
              "\n",
              "[5 rows x 9 columns]"
            ]
          },
          "execution_count": 4,
          "metadata": {},
          "output_type": "execute_result"
        }
      ]
    },
    {
      "cell_type": "code",
      "metadata": {
        "colab": {
          "base_uri": "https://localhost:8080/"
        },
        "id": "k_F6zZa3fWPh",
        "outputId": "3cfeb4c9-8777-4bb2-e065-e0917fa21e85"
      },
      "source": [
        "#Vemos la cantidad de columnas y filas del set de datos.\n",
        "df.shape"
      ],
      "execution_count": null,
      "outputs": [
        {
          "data": {
            "text/plain": [
              "(3342958, 9)"
            ]
          },
          "execution_count": 5,
          "metadata": {},
          "output_type": "execute_result"
        }
      ]
    },
    {
      "cell_type": "markdown",
      "metadata": {
        "id": "yd9SgfQ5c4cS"
      },
      "source": [
        "Tenemos como minimo 3342958 Reseñas en el set de datos."
      ]
    },
    {
      "cell_type": "code",
      "metadata": {
        "colab": {
          "base_uri": "https://localhost:8080/"
        },
        "id": "D-YZ4OW6fWPh",
        "outputId": "0204b3d3-f9e0-4c62-a304-9f4b095ad211"
      },
      "source": [
        "#Vemos la informacion general del dataset, tipo de datos, cantidad de columnas y entradas.\n",
        "df.info()"
      ],
      "execution_count": null,
      "outputs": [
        {
          "name": "stdout",
          "output_type": "stream",
          "text": [
            "<class 'pandas.core.frame.DataFrame'>\n",
            "RangeIndex: 3342958 entries, 0 to 3342957\n",
            "Data columns (total 9 columns):\n",
            " #   Column       Dtype  \n",
            "---  ------       -----  \n",
            " 0   business_id  object \n",
            " 1   cool         object \n",
            " 2   date         object \n",
            " 3   funny        float64\n",
            " 4   review_id    object \n",
            " 5   stars        float64\n",
            " 6   text         object \n",
            " 7   useful       float64\n",
            " 8   user_id      object \n",
            "dtypes: float64(3), object(6)\n",
            "memory usage: 229.5+ MB\n"
          ]
        }
      ]
    },
    {
      "cell_type": "markdown",
      "metadata": {
        "id": "SDwSxpVwDDT0"
      },
      "source": [
        "# LIMPIEZA\n"
      ]
    },
    {
      "cell_type": "markdown",
      "metadata": {
        "id": "4ll1dtCFPG3r"
      },
      "source": [
        "##Duplicados e información de las variables"
      ]
    },
    {
      "cell_type": "code",
      "metadata": {
        "colab": {
          "base_uri": "https://localhost:8080/"
        },
        "id": "ZHBkWXvWFdNn",
        "outputId": "09f46fa5-c553-48e6-d87b-c7dfb1fc5929"
      },
      "source": [
        "#Vemos si hay duplicados\n",
        "df.duplicated().sum()"
      ],
      "execution_count": null,
      "outputs": [
        {
          "data": {
            "text/plain": [
              "0"
            ]
          },
          "execution_count": 7,
          "metadata": {},
          "output_type": "execute_result"
        }
      ]
    },
    {
      "cell_type": "markdown",
      "metadata": {
        "id": "zxLLj8ufFrUF"
      },
      "source": [
        "No hay filas completamente duplicadas."
      ]
    },
    {
      "cell_type": "code",
      "metadata": {
        "colab": {
          "base_uri": "https://localhost:8080/"
        },
        "id": "BcBWwjvUE5pW",
        "outputId": "5fbf74c3-210d-49a5-924f-3cb4249cff2e"
      },
      "source": [
        "df.duplicated(subset=['review_id']).sum()"
      ],
      "execution_count": null,
      "outputs": [
        {
          "data": {
            "text/plain": [
              "8"
            ]
          },
          "execution_count": 8,
          "metadata": {},
          "output_type": "execute_result"
        }
      ]
    },
    {
      "cell_type": "markdown",
      "metadata": {
        "id": "Ewq-eT_OFzBU"
      },
      "source": [
        "Hay 8 filas que comparten el id de la review, esto no deberia ser asi."
      ]
    },
    {
      "cell_type": "code",
      "metadata": {
        "colab": {
          "base_uri": "https://localhost:8080/",
          "height": 300
        },
        "id": "GNnemRvfFI8-",
        "outputId": "c8d5d196-2624-4e55-849a-849428e31b1e"
      },
      "source": [
        "df[df.duplicated(subset=['review_id'])]"
      ],
      "execution_count": null,
      "outputs": [
        {
          "data": {
            "text/html": [
              "<div>\n",
              "<style scoped>\n",
              "    .dataframe tbody tr th:only-of-type {\n",
              "        vertical-align: middle;\n",
              "    }\n",
              "\n",
              "    .dataframe tbody tr th {\n",
              "        vertical-align: top;\n",
              "    }\n",
              "\n",
              "    .dataframe thead th {\n",
              "        text-align: right;\n",
              "    }\n",
              "</style>\n",
              "<table border=\"1\" class=\"dataframe\">\n",
              "  <thead>\n",
              "    <tr style=\"text-align: right;\">\n",
              "      <th></th>\n",
              "      <th>business_id</th>\n",
              "      <th>cool</th>\n",
              "      <th>date</th>\n",
              "      <th>funny</th>\n",
              "      <th>review_id</th>\n",
              "      <th>stars</th>\n",
              "      <th>text</th>\n",
              "      <th>useful</th>\n",
              "      <th>user_id</th>\n",
              "    </tr>\n",
              "  </thead>\n",
              "  <tbody>\n",
              "    <tr>\n",
              "      <th>555832</th>\n",
              "      <td>shaved carrot, radish, black sesame, scallion,...</td>\n",
              "      <td>NaN</td>\n",
              "      <td>NaN</td>\n",
              "      <td>nan</td>\n",
              "      <td>NaN</td>\n",
              "      <td>nan</td>\n",
              "      <td>NaN</td>\n",
              "      <td>nan</td>\n",
              "      <td>NaN</td>\n",
              "    </tr>\n",
              "    <tr>\n",
              "      <th>555833</th>\n",
              "      <td>(sancho, honey, five spice, leek, arugula), an...</td>\n",
              "      <td>0.000</td>\n",
              "      <td>4Mbri1GnqEPj6ZTDB9u-Wg</td>\n",
              "      <td>nan</td>\n",
              "      <td>NaN</td>\n",
              "      <td>nan</td>\n",
              "      <td>NaN</td>\n",
              "      <td>nan</td>\n",
              "      <td>NaN</td>\n",
              "    </tr>\n",
              "    <tr>\n",
              "      <th>793151</th>\n",
              "      <td>0</td>\n",
              "      <td>QRn8ELZmvP8S4evnSRU9bQ</td>\n",
              "      <td>NaN</td>\n",
              "      <td>nan</td>\n",
              "      <td>NaN</td>\n",
              "      <td>nan</td>\n",
              "      <td>NaN</td>\n",
              "      <td>nan</td>\n",
              "      <td>NaN</td>\n",
              "    </tr>\n",
              "    <tr>\n",
              "      <th>1412576</th>\n",
              "      <td>Frites de Yuca, Sauce, Fromage en grain, Mojo ...</td>\n",
              "      <td>NaN</td>\n",
              "      <td>NaN</td>\n",
              "      <td>nan</td>\n",
              "      <td>NaN</td>\n",
              "      <td>nan</td>\n",
              "      <td>NaN</td>\n",
              "      <td>nan</td>\n",
              "      <td>NaN</td>\n",
              "    </tr>\n",
              "    <tr>\n",
              "      <th>1412577</th>\n",
              "      <td>Vaca Frita (boeuf), Salade de Coriande.  And I...</td>\n",
              "      <td>0.000</td>\n",
              "      <td>oW9PoxLCSMwZ6EEjKuPNjw</td>\n",
              "      <td>nan</td>\n",
              "      <td>NaN</td>\n",
              "      <td>nan</td>\n",
              "      <td>NaN</td>\n",
              "      <td>nan</td>\n",
              "      <td>NaN</td>\n",
              "    </tr>\n",
              "    <tr>\n",
              "      <th>1650901</th>\n",
              "      <td>1</td>\n",
              "      <td>aZs_IrhA7rvuLBumVhJjCw</td>\n",
              "      <td>NaN</td>\n",
              "      <td>nan</td>\n",
              "      <td>NaN</td>\n",
              "      <td>nan</td>\n",
              "      <td>NaN</td>\n",
              "      <td>nan</td>\n",
              "      <td>NaN</td>\n",
              "    </tr>\n",
              "    <tr>\n",
              "      <th>2476993</th>\n",
              "      <td>wagyu beef, chili mayo, fried egg, furikake ca...</td>\n",
              "      <td>2.000</td>\n",
              "      <td>0QfV3xDQ87R8mBqa1W7xlQ</td>\n",
              "      <td>nan</td>\n",
              "      <td>NaN</td>\n",
              "      <td>nan</td>\n",
              "      <td>NaN</td>\n",
              "      <td>nan</td>\n",
              "      <td>NaN</td>\n",
              "    </tr>\n",
              "    <tr>\n",
              "      <th>2910902</th>\n",
              "      <td>Deep fried marinated squid, shrimp, white fish...</td>\n",
              "      <td>2.000</td>\n",
              "      <td>8Dvr-U6jCZTVGD52LwC2qA</td>\n",
              "      <td>nan</td>\n",
              "      <td>NaN</td>\n",
              "      <td>nan</td>\n",
              "      <td>NaN</td>\n",
              "      <td>nan</td>\n",
              "      <td>NaN</td>\n",
              "    </tr>\n",
              "  </tbody>\n",
              "</table>\n",
              "</div>"
            ],
            "text/plain": [
              "                                               business_id  ... user_id\n",
              "555832   shaved carrot, radish, black sesame, scallion,...  ...     NaN\n",
              "555833   (sancho, honey, five spice, leek, arugula), an...  ...     NaN\n",
              "793151                                                   0  ...     NaN\n",
              "1412576  Frites de Yuca, Sauce, Fromage en grain, Mojo ...  ...     NaN\n",
              "1412577  Vaca Frita (boeuf), Salade de Coriande.  And I...  ...     NaN\n",
              "1650901                                                  1  ...     NaN\n",
              "2476993  wagyu beef, chili mayo, fried egg, furikake ca...  ...     NaN\n",
              "2910902  Deep fried marinated squid, shrimp, white fish...  ...     NaN\n",
              "\n",
              "[8 rows x 9 columns]"
            ]
          },
          "execution_count": 9,
          "metadata": {},
          "output_type": "execute_result"
        }
      ]
    },
    {
      "cell_type": "markdown",
      "metadata": {
        "id": "PlBRI5UiGBE0"
      },
      "source": [
        "Vemos que las filas que comparten el id_review tienen coomo valor Nan en múltiples columnas, por lo tanto, las borramos ya que no aportan nada."
      ]
    },
    {
      "cell_type": "code",
      "metadata": {
        "id": "MBUYGsPTGxQk"
      },
      "source": [
        "df=df.drop_duplicates(subset=\"review_id\", keep=False)"
      ],
      "execution_count": null,
      "outputs": []
    },
    {
      "cell_type": "markdown",
      "metadata": {
        "id": "Exgl1OLxIXlY"
      },
      "source": [
        "Ahora pasaremos a corroborar si hay textos de reviews repetidos para un mismo usuario, esto es importante ya que a la hora de trabajar con los modelos, si hay textos repetidos, se obtendran mas frecuencias de palabras de textos que son iguales, que no agregan variabilidad al modelo ya que son registros duplicados"
      ]
    },
    {
      "cell_type": "code",
      "metadata": {
        "colab": {
          "base_uri": "https://localhost:8080/"
        },
        "id": "gZ61FCdcHjty",
        "outputId": "017a042d-65a4-4ef0-bf8b-5b471a680189"
      },
      "source": [
        "df.duplicated(subset=['text',\"user_id\"]).sum()"
      ],
      "execution_count": null,
      "outputs": [
        {
          "data": {
            "text/plain": [
              "4311"
            ]
          },
          "execution_count": 11,
          "metadata": {},
          "output_type": "execute_result"
        }
      ]
    },
    {
      "cell_type": "markdown",
      "metadata": {
        "id": "f29CmtvbIth5"
      },
      "source": [
        "Vemos que hay 4311 filas que comparten el texto entre si y usuario...procedemos a ver estas filas para hacer un analisis minuscioso."
      ]
    },
    {
      "cell_type": "code",
      "metadata": {
        "colab": {
          "base_uri": "https://localhost:8080/",
          "height": 424
        },
        "id": "566ejdwkHuUC",
        "outputId": "dee8b0e1-0b7f-4fac-bcdc-d8ce77ecad1a"
      },
      "source": [
        "df[df.duplicated(subset=['text',\"user_id\"])]"
      ],
      "execution_count": null,
      "outputs": [
        {
          "data": {
            "text/html": [
              "<div>\n",
              "<style scoped>\n",
              "    .dataframe tbody tr th:only-of-type {\n",
              "        vertical-align: middle;\n",
              "    }\n",
              "\n",
              "    .dataframe tbody tr th {\n",
              "        vertical-align: top;\n",
              "    }\n",
              "\n",
              "    .dataframe thead th {\n",
              "        text-align: right;\n",
              "    }\n",
              "</style>\n",
              "<table border=\"1\" class=\"dataframe\">\n",
              "  <thead>\n",
              "    <tr style=\"text-align: right;\">\n",
              "      <th></th>\n",
              "      <th>business_id</th>\n",
              "      <th>cool</th>\n",
              "      <th>date</th>\n",
              "      <th>funny</th>\n",
              "      <th>review_id</th>\n",
              "      <th>stars</th>\n",
              "      <th>text</th>\n",
              "      <th>useful</th>\n",
              "      <th>user_id</th>\n",
              "    </tr>\n",
              "  </thead>\n",
              "  <tbody>\n",
              "    <tr>\n",
              "      <th>57659</th>\n",
              "      <td>M-lS6AzGfoVB76at4c0Z7A</td>\n",
              "      <td>0</td>\n",
              "      <td>2018-10-28 06:49:10</td>\n",
              "      <td>0.000</td>\n",
              "      <td>vF3fYI9nN0kZfiEiseiisw</td>\n",
              "      <td>5.000</td>\n",
              "      <td>Been in here many times and the food and servi...</td>\n",
              "      <td>0.000</td>\n",
              "      <td>OTbv0flbnTGjyFrbV30jXQ</td>\n",
              "    </tr>\n",
              "    <tr>\n",
              "      <th>62080</th>\n",
              "      <td>1V10_YvvDWkH3EPc1W0Ceg</td>\n",
              "      <td>0</td>\n",
              "      <td>2014-09-02 17:18:07</td>\n",
              "      <td>0.000</td>\n",
              "      <td>lpbaCkDqg46kWkjilowQCw</td>\n",
              "      <td>1.000</td>\n",
              "      <td>Do not trust T-Mobile! Their salespeople and C...</td>\n",
              "      <td>0.000</td>\n",
              "      <td>uIpUqhx9uXizgkRiWHJRVA</td>\n",
              "    </tr>\n",
              "    <tr>\n",
              "      <th>66976</th>\n",
              "      <td>b3TMNEZJBnzP3naW-Z2OSw</td>\n",
              "      <td>1</td>\n",
              "      <td>2016-10-25 03:49:30</td>\n",
              "      <td>1.000</td>\n",
              "      <td>MlklQa2mBPi8xUpJlSbkRg</td>\n",
              "      <td>1.000</td>\n",
              "      <td>This goes for both locations and for Dr Randel...</td>\n",
              "      <td>7.000</td>\n",
              "      <td>ZbPEjjdIiMgwdXpAPWSMGQ</td>\n",
              "    </tr>\n",
              "    <tr>\n",
              "      <th>74728</th>\n",
              "      <td>L6RxkP8dneVGelDLUhjCug</td>\n",
              "      <td>0</td>\n",
              "      <td>2016-06-21 17:55:23</td>\n",
              "      <td>0.000</td>\n",
              "      <td>kQzLu5pILZkLXamELfaLpQ</td>\n",
              "      <td>5.000</td>\n",
              "      <td>Cute place, found through searching on Yelp, o...</td>\n",
              "      <td>0.000</td>\n",
              "      <td>4YG3CmhBFYajaxa1L2mIRA</td>\n",
              "    </tr>\n",
              "    <tr>\n",
              "      <th>77333</th>\n",
              "      <td>0SCHQdFVdfnF8AN_xjsozA</td>\n",
              "      <td>1</td>\n",
              "      <td>2017-10-09 19:09:09</td>\n",
              "      <td>0.000</td>\n",
              "      <td>hPmmGcLZTBycPiXR4Xjpvw</td>\n",
              "      <td>5.000</td>\n",
              "      <td>BEST EVER! I won't go anywhere else. This plac...</td>\n",
              "      <td>1.000</td>\n",
              "      <td>4x_wS2IeOLz9M1fAS-5REw</td>\n",
              "    </tr>\n",
              "    <tr>\n",
              "      <th>...</th>\n",
              "      <td>...</td>\n",
              "      <td>...</td>\n",
              "      <td>...</td>\n",
              "      <td>...</td>\n",
              "      <td>...</td>\n",
              "      <td>...</td>\n",
              "      <td>...</td>\n",
              "      <td>...</td>\n",
              "      <td>...</td>\n",
              "    </tr>\n",
              "    <tr>\n",
              "      <th>3341276</th>\n",
              "      <td>GIJ3or4N77EjXIqEk9ZNww</td>\n",
              "      <td>0</td>\n",
              "      <td>2017-09-11 21:28:49</td>\n",
              "      <td>0.000</td>\n",
              "      <td>rDdxCqUIUWjPSNPtyaA8CQ</td>\n",
              "      <td>5.000</td>\n",
              "      <td>My 92 year old mom just had her hair done at t...</td>\n",
              "      <td>0.000</td>\n",
              "      <td>aqw4LOeWk7QnAPQeRBJqig</td>\n",
              "    </tr>\n",
              "    <tr>\n",
              "      <th>3342058</th>\n",
              "      <td>mny2GDCiv3HKr8xMr6fafQ</td>\n",
              "      <td>2</td>\n",
              "      <td>2013-04-30 04:06:20</td>\n",
              "      <td>0.000</td>\n",
              "      <td>zjPxLtyIbl_ft014OHK67A</td>\n",
              "      <td>1.000</td>\n",
              "      <td>I've been with them for 15+ years and never ha...</td>\n",
              "      <td>3.000</td>\n",
              "      <td>wNOmsbvx91wqDKt_B3MHdg</td>\n",
              "    </tr>\n",
              "    <tr>\n",
              "      <th>3342273</th>\n",
              "      <td>5f0X-QHUIX-ASUpHZTrN3Q</td>\n",
              "      <td>0</td>\n",
              "      <td>2015-08-03 19:17:25</td>\n",
              "      <td>0.000</td>\n",
              "      <td>IexJWpP0jnw02bWvkgT3tA</td>\n",
              "      <td>1.000</td>\n",
              "      <td>Went in to pay off a loan via shared branching...</td>\n",
              "      <td>2.000</td>\n",
              "      <td>e0Avp460-NyP8_CPqJbmsg</td>\n",
              "    </tr>\n",
              "    <tr>\n",
              "      <th>3342619</th>\n",
              "      <td>ORqZyyZafJyZcgTGNrJ_oA</td>\n",
              "      <td>0</td>\n",
              "      <td>2016-08-16 06:55:06</td>\n",
              "      <td>0.000</td>\n",
              "      <td>VjRoCw57SquaauA0hCaw5w</td>\n",
              "      <td>5.000</td>\n",
              "      <td>Wifey came here on a dessert adventure with he...</td>\n",
              "      <td>0.000</td>\n",
              "      <td>5Uu4PjuVsD8HYvgfakjaIw</td>\n",
              "    </tr>\n",
              "    <tr>\n",
              "      <th>3342811</th>\n",
              "      <td>U4jgxAolsM7BPgrrKllnVA</td>\n",
              "      <td>0</td>\n",
              "      <td>2016-04-04 02:35:05</td>\n",
              "      <td>0.000</td>\n",
              "      <td>ozxFk5Ge3kHNqB-2LKKcqw</td>\n",
              "      <td>5.000</td>\n",
              "      <td>I absolutely love this place!!! They have me a...</td>\n",
              "      <td>0.000</td>\n",
              "      <td>_TnCNutq5Xhzq0nn_jYcMA</td>\n",
              "    </tr>\n",
              "  </tbody>\n",
              "</table>\n",
              "<p>4311 rows × 9 columns</p>\n",
              "</div>"
            ],
            "text/plain": [
              "                    business_id cool  ... useful                 user_id\n",
              "57659    M-lS6AzGfoVB76at4c0Z7A    0  ...  0.000  OTbv0flbnTGjyFrbV30jXQ\n",
              "62080    1V10_YvvDWkH3EPc1W0Ceg    0  ...  0.000  uIpUqhx9uXizgkRiWHJRVA\n",
              "66976    b3TMNEZJBnzP3naW-Z2OSw    1  ...  7.000  ZbPEjjdIiMgwdXpAPWSMGQ\n",
              "74728    L6RxkP8dneVGelDLUhjCug    0  ...  0.000  4YG3CmhBFYajaxa1L2mIRA\n",
              "77333    0SCHQdFVdfnF8AN_xjsozA    1  ...  1.000  4x_wS2IeOLz9M1fAS-5REw\n",
              "...                         ...  ...  ...    ...                     ...\n",
              "3341276  GIJ3or4N77EjXIqEk9ZNww    0  ...  0.000  aqw4LOeWk7QnAPQeRBJqig\n",
              "3342058  mny2GDCiv3HKr8xMr6fafQ    2  ...  3.000  wNOmsbvx91wqDKt_B3MHdg\n",
              "3342273  5f0X-QHUIX-ASUpHZTrN3Q    0  ...  2.000  e0Avp460-NyP8_CPqJbmsg\n",
              "3342619  ORqZyyZafJyZcgTGNrJ_oA    0  ...  0.000  5Uu4PjuVsD8HYvgfakjaIw\n",
              "3342811  U4jgxAolsM7BPgrrKllnVA    0  ...  0.000  _TnCNutq5Xhzq0nn_jYcMA\n",
              "\n",
              "[4311 rows x 9 columns]"
            ]
          },
          "execution_count": 12,
          "metadata": {},
          "output_type": "execute_result"
        }
      ]
    },
    {
      "cell_type": "markdown",
      "metadata": {
        "id": "WNWvZ4mfI_xf"
      },
      "source": [
        "Pasamos a observar un ejemplo de duplicado el texto, para ver cual es el o los campos que lo diferencian entre si ya que podria darse el caso de que sean personas distintas(user_id) que escribieron reseñas chicas...como \"Very Good\""
      ]
    },
    {
      "cell_type": "code",
      "metadata": {
        "colab": {
          "base_uri": "https://localhost:8080/",
          "height": 112
        },
        "id": "3mVV5U7NH92B",
        "outputId": "745a16e9-a205-4aad-e00e-fc06636095bf"
      },
      "source": [
        "df[df.text.str.contains(\"Been in here many times and the food and serv\",na=False)]"
      ],
      "execution_count": null,
      "outputs": [
        {
          "data": {
            "text/html": [
              "<div>\n",
              "<style scoped>\n",
              "    .dataframe tbody tr th:only-of-type {\n",
              "        vertical-align: middle;\n",
              "    }\n",
              "\n",
              "    .dataframe tbody tr th {\n",
              "        vertical-align: top;\n",
              "    }\n",
              "\n",
              "    .dataframe thead th {\n",
              "        text-align: right;\n",
              "    }\n",
              "</style>\n",
              "<table border=\"1\" class=\"dataframe\">\n",
              "  <thead>\n",
              "    <tr style=\"text-align: right;\">\n",
              "      <th></th>\n",
              "      <th>business_id</th>\n",
              "      <th>cool</th>\n",
              "      <th>date</th>\n",
              "      <th>funny</th>\n",
              "      <th>review_id</th>\n",
              "      <th>stars</th>\n",
              "      <th>text</th>\n",
              "      <th>useful</th>\n",
              "      <th>user_id</th>\n",
              "    </tr>\n",
              "  </thead>\n",
              "  <tbody>\n",
              "    <tr>\n",
              "      <th>19489</th>\n",
              "      <td>BjbokieOGk2CCq2t8wV6MA</td>\n",
              "      <td>0</td>\n",
              "      <td>2018-10-28 06:48:21</td>\n",
              "      <td>0.000</td>\n",
              "      <td>SUSR6QpL6CUTFGJhRZoC0g</td>\n",
              "      <td>5.000</td>\n",
              "      <td>Been in here many times and the food and servi...</td>\n",
              "      <td>0.000</td>\n",
              "      <td>OTbv0flbnTGjyFrbV30jXQ</td>\n",
              "    </tr>\n",
              "    <tr>\n",
              "      <th>57659</th>\n",
              "      <td>M-lS6AzGfoVB76at4c0Z7A</td>\n",
              "      <td>0</td>\n",
              "      <td>2018-10-28 06:49:10</td>\n",
              "      <td>0.000</td>\n",
              "      <td>vF3fYI9nN0kZfiEiseiisw</td>\n",
              "      <td>5.000</td>\n",
              "      <td>Been in here many times and the food and servi...</td>\n",
              "      <td>0.000</td>\n",
              "      <td>OTbv0flbnTGjyFrbV30jXQ</td>\n",
              "    </tr>\n",
              "  </tbody>\n",
              "</table>\n",
              "</div>"
            ],
            "text/plain": [
              "                  business_id cool  ... useful                 user_id\n",
              "19489  BjbokieOGk2CCq2t8wV6MA    0  ...  0.000  OTbv0flbnTGjyFrbV30jXQ\n",
              "57659  M-lS6AzGfoVB76at4c0Z7A    0  ...  0.000  OTbv0flbnTGjyFrbV30jXQ\n",
              "\n",
              "[2 rows x 9 columns]"
            ]
          },
          "execution_count": 13,
          "metadata": {},
          "output_type": "execute_result"
        }
      ]
    },
    {
      "cell_type": "markdown",
      "metadata": {
        "id": "KNe1n9JjJYD3"
      },
      "source": [
        "Como podemos ver, la unica diferencia es la columna date y review_id, esta hace que no aparezca este registro en el algoritmo lanzado mas arriba(\"df.duplicated().sum()\")"
      ]
    },
    {
      "cell_type": "markdown",
      "metadata": {
        "id": "qgPD4fZgKgRs"
      },
      "source": [
        "Procederemos a la eliminacion de las filas que pertenezcan a la misma persona y posean el mismo texto ya que nos resta diversidad en los registros, lo que hace que el modelo aprenda de memoria datos que no son reales...ya que las palabras que pertenecen a estos textos, tienen más peso que las de otros usuarios.\n",
        "De igual manera vamos a conservar 1 de estos registros, en este caso el primero."
      ]
    },
    {
      "cell_type": "code",
      "metadata": {
        "id": "-c2K_67cJvjH"
      },
      "source": [
        "df=df.drop_duplicates(subset=[\"text\",\"user_id\"], keep=\"first\")"
      ],
      "execution_count": null,
      "outputs": []
    },
    {
      "cell_type": "markdown",
      "metadata": {
        "id": "vcZUWZOuN662"
      },
      "source": [
        "Cambiamos el tipo de dato en la columna \"date\" a datetime, la de la columna cool a float y la columna text a string."
      ]
    },
    {
      "cell_type": "code",
      "metadata": {
        "id": "Qwf13p2pOQ6-"
      },
      "source": [
        "df['date']=pd.to_datetime(df['date'],format='%Y-%m-%d %H:%M:%S')\n",
        "df[\"cool\"] = df.cool.astype(float)\n",
        "df[\"text\"] = df.text.astype(str)"
      ],
      "execution_count": null,
      "outputs": []
    },
    {
      "cell_type": "markdown",
      "metadata": {
        "id": "AzohKxLxm-It"
      },
      "source": [
        "Observaremos los períodos en que se receptaron reviews."
      ]
    },
    {
      "cell_type": "code",
      "metadata": {
        "colab": {
          "base_uri": "https://localhost:8080/"
        },
        "id": "KyohDDOpnCls",
        "outputId": "e7f0bf68-80ec-4556-d033-4c13dcbbce48"
      },
      "source": [
        "print (\"La primer review se produjo \"+ str(df.date.min()))\n",
        "print (\"La última review se produjo \"+ str(df.date.max()))"
      ],
      "execution_count": null,
      "outputs": [
        {
          "name": "stdout",
          "output_type": "stream",
          "text": [
            "La primer review se produjo 2004-10-12 10:13:32\n",
            "La última review se produjo 2018-11-14 18:13:16\n"
          ]
        }
      ]
    },
    {
      "cell_type": "markdown",
      "metadata": {
        "id": "S9D28cI3Shsm"
      },
      "source": [
        "El dataset posee datos de aproximadamente 14 años, lo cual es interesante dado a la evolución constante que sufre el lenguaje, por lo tanto, vamos a tener mayor variabilidad en el texto de las reviews."
      ]
    },
    {
      "cell_type": "markdown",
      "metadata": {
        "id": "w_fcGFUYO_99"
      },
      "source": [
        "Ahora procedemos a ver los valores que poseen las columnas numéricas. "
      ]
    },
    {
      "cell_type": "code",
      "metadata": {
        "colab": {
          "base_uri": "https://localhost:8080/",
          "height": 300
        },
        "id": "KLN4sd5ePJ1c",
        "outputId": "83af007c-21cc-48cb-d6fd-c302f2c73dff"
      },
      "source": [
        "df.describe()"
      ],
      "execution_count": null,
      "outputs": [
        {
          "data": {
            "text/html": [
              "<div>\n",
              "<style scoped>\n",
              "    .dataframe tbody tr th:only-of-type {\n",
              "        vertical-align: middle;\n",
              "    }\n",
              "\n",
              "    .dataframe tbody tr th {\n",
              "        vertical-align: top;\n",
              "    }\n",
              "\n",
              "    .dataframe thead th {\n",
              "        text-align: right;\n",
              "    }\n",
              "</style>\n",
              "<table border=\"1\" class=\"dataframe\">\n",
              "  <thead>\n",
              "    <tr style=\"text-align: right;\">\n",
              "      <th></th>\n",
              "      <th>cool</th>\n",
              "      <th>funny</th>\n",
              "      <th>stars</th>\n",
              "      <th>useful</th>\n",
              "    </tr>\n",
              "  </thead>\n",
              "  <tbody>\n",
              "    <tr>\n",
              "      <th>count</th>\n",
              "      <td>3338638.000</td>\n",
              "      <td>3338638.000</td>\n",
              "      <td>3338638.000</td>\n",
              "      <td>3338633.000</td>\n",
              "    </tr>\n",
              "    <tr>\n",
              "      <th>mean</th>\n",
              "      <td>0.578</td>\n",
              "      <td>0.482</td>\n",
              "      <td>3.716</td>\n",
              "      <td>1.353</td>\n",
              "    </tr>\n",
              "    <tr>\n",
              "      <th>std</th>\n",
              "      <td>2.353</td>\n",
              "      <td>2.342</td>\n",
              "      <td>1.464</td>\n",
              "      <td>3.646</td>\n",
              "    </tr>\n",
              "    <tr>\n",
              "      <th>min</th>\n",
              "      <td>-1.000</td>\n",
              "      <td>0.000</td>\n",
              "      <td>1.000</td>\n",
              "      <td>-1.000</td>\n",
              "    </tr>\n",
              "    <tr>\n",
              "      <th>25%</th>\n",
              "      <td>0.000</td>\n",
              "      <td>0.000</td>\n",
              "      <td>3.000</td>\n",
              "      <td>0.000</td>\n",
              "    </tr>\n",
              "    <tr>\n",
              "      <th>50%</th>\n",
              "      <td>0.000</td>\n",
              "      <td>0.000</td>\n",
              "      <td>4.000</td>\n",
              "      <td>0.000</td>\n",
              "    </tr>\n",
              "    <tr>\n",
              "      <th>75%</th>\n",
              "      <td>1.000</td>\n",
              "      <td>0.000</td>\n",
              "      <td>5.000</td>\n",
              "      <td>2.000</td>\n",
              "    </tr>\n",
              "    <tr>\n",
              "      <th>max</th>\n",
              "      <td>506.000</td>\n",
              "      <td>970.000</td>\n",
              "      <td>5.000</td>\n",
              "      <td>1122.000</td>\n",
              "    </tr>\n",
              "  </tbody>\n",
              "</table>\n",
              "</div>"
            ],
            "text/plain": [
              "             cool       funny       stars      useful\n",
              "count 3338638.000 3338638.000 3338638.000 3338633.000\n",
              "mean        0.578       0.482       3.716       1.353\n",
              "std         2.353       2.342       1.464       3.646\n",
              "min        -1.000       0.000       1.000      -1.000\n",
              "25%         0.000       0.000       3.000       0.000\n",
              "50%         0.000       0.000       4.000       0.000\n",
              "75%         1.000       0.000       5.000       2.000\n",
              "max       506.000     970.000       5.000    1122.000"
            ]
          },
          "execution_count": 17,
          "metadata": {},
          "output_type": "execute_result"
        }
      ]
    },
    {
      "cell_type": "markdown",
      "metadata": {
        "id": "MhZcyiSvmQFK"
      },
      "source": [
        "Existen 3338638 votos de tipo cool, cuya medria es 0.578, el maximo es 506 de votos como cool.\n",
        "Existen 3338638 votos de tipo funny, cuya medria es 0.482, el maximo es 97 de votos como funny de una review.\n",
        "Existen 3338638 reviews catalogadas con estrellas, en promedio las reviews tienen 3 estrellas y el maximo es 5 de estrellas en una review.\n",
        "Existen 3338633 votos de tipo usefull, cuya medria es 1.353, el maximo es 1122 de votos para una review como usefull."
      ]
    },
    {
      "cell_type": "markdown",
      "metadata": {
        "id": "2K2UCv3whCH2"
      },
      "source": [
        "Haciendo foco en cada una de ellas:"
      ]
    },
    {
      "cell_type": "code",
      "metadata": {
        "colab": {
          "base_uri": "https://localhost:8080/"
        },
        "id": "1dWDVtz2O8RW",
        "outputId": "ef697868-51fa-4fac-8585-35b9d43a457f"
      },
      "source": [
        "df.cool.value_counts()"
      ],
      "execution_count": null,
      "outputs": [
        {
          "data": {
            "text/plain": [
              "0.000      2503882\n",
              "1.000       505541\n",
              "2.000       156656\n",
              "3.000        64605\n",
              "4.000        33037\n",
              "            ...   \n",
              "162.000          1\n",
              "164.000          1\n",
              "169.000          1\n",
              "176.000          1\n",
              "506.000          1\n",
              "Name: cool, Length: 168, dtype: int64"
            ]
          },
          "execution_count": 18,
          "metadata": {},
          "output_type": "execute_result"
        }
      ]
    },
    {
      "cell_type": "code",
      "metadata": {
        "colab": {
          "base_uri": "https://localhost:8080/"
        },
        "id": "kcmlUJ_FhHTF",
        "outputId": "e09c30d1-cf77-4eeb-e2d7-ede57d23a862"
      },
      "source": [
        "df.funny.value_counts()"
      ],
      "execution_count": null,
      "outputs": [
        {
          "data": {
            "text/plain": [
              "0.000      2652525\n",
              "1.000       406110\n",
              "2.000       128212\n",
              "3.000        55846\n",
              "4.000        29848\n",
              "            ...   \n",
              "176.000          1\n",
              "177.000          1\n",
              "89.000           1\n",
              "183.000          1\n",
              "256.000          1\n",
              "Name: funny, Length: 187, dtype: int64"
            ]
          },
          "execution_count": 19,
          "metadata": {},
          "output_type": "execute_result"
        }
      ]
    },
    {
      "cell_type": "code",
      "metadata": {
        "colab": {
          "base_uri": "https://localhost:8080/"
        },
        "id": "b_wzBdkMhjB9",
        "outputId": "96014261-e84b-466d-9a34-d676c5ee1777"
      },
      "source": [
        "df.stars.value_counts(normalize=True)"
      ],
      "execution_count": null,
      "outputs": [
        {
          "data": {
            "text/plain": [
              "5.000   0.439\n",
              "4.000   0.220\n",
              "1.000   0.150\n",
              "3.000   0.111\n",
              "2.000   0.081\n",
              "Name: stars, dtype: float64"
            ]
          },
          "execution_count": 20,
          "metadata": {},
          "output_type": "execute_result"
        }
      ]
    },
    {
      "cell_type": "markdown",
      "metadata": {
        "id": "I1viDY1ShmHl"
      },
      "source": [
        "La variable stars está asociada a la calificación de la review, es decir, si la misma es positiva, neutra o negativa. \n",
        "\n",
        "A continuación, se ilustra la distribución y la clasificación según cantidad de estrellas."
      ]
    },
    {
      "cell_type": "markdown",
      "metadata": {
        "id": "owNaunFZj5yD"
      },
      "source": [
        "![Semaforo.png](data:image/png;base64,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)"
      ]
    },
    {
      "cell_type": "code",
      "metadata": {
        "colab": {
          "base_uri": "https://localhost:8080/"
        },
        "id": "KExZ1tabUILZ",
        "outputId": "252f37b2-1f17-47b2-8228-13c584a64200"
      },
      "source": [
        "df.useful.value_counts()"
      ],
      "execution_count": null,
      "outputs": [
        {
          "data": {
            "text/plain": [
              "0.000      1782410\n",
              "1.000       713974\n",
              "2.000       334860\n",
              "3.000       175082\n",
              "4.000       100971\n",
              "            ...   \n",
              "209.000          1\n",
              "220.000          1\n",
              "222.000          1\n",
              "223.000          1\n",
              "507.000          1\n",
              "Name: useful, Length: 232, dtype: int64"
            ]
          },
          "execution_count": 21,
          "metadata": {},
          "output_type": "execute_result"
        }
      ]
    },
    {
      "cell_type": "markdown",
      "metadata": {
        "id": "-jG_3C8SVn2d"
      },
      "source": [
        "Se eliminan las columnas que no aportan a la predicción"
      ]
    },
    {
      "cell_type": "code",
      "metadata": {
        "id": "YH60fgd6Vlcf"
      },
      "source": [
        "#df = df.drop(columns = ['date','business_id','review_id','user_id'], axis=1) "
      ],
      "execution_count": null,
      "outputs": []
    },
    {
      "cell_type": "markdown",
      "metadata": {
        "id": "OMgpDXMcfTcX"
      },
      "source": [
        "##Nulos "
      ]
    },
    {
      "cell_type": "markdown",
      "metadata": {
        "id": "iF9jWW-GXNAk"
      },
      "source": [
        "Se procede a analizar los valores nulos"
      ]
    },
    {
      "cell_type": "code",
      "metadata": {
        "colab": {
          "base_uri": "https://localhost:8080/"
        },
        "id": "FFJ2VEq_Jh2b",
        "outputId": "54976f57-cb04-4f1c-e9ba-61181233f025"
      },
      "source": [
        "df.isna().sum()"
      ],
      "execution_count": null,
      "outputs": [
        {
          "data": {
            "text/plain": [
              "business_id    0\n",
              "cool           0\n",
              "date           0\n",
              "funny          0\n",
              "review_id      0\n",
              "stars          0\n",
              "text           0\n",
              "useful         5\n",
              "user_id        5\n",
              "dtype: int64"
            ]
          },
          "execution_count": 23,
          "metadata": {},
          "output_type": "execute_result"
        }
      ]
    },
    {
      "cell_type": "markdown",
      "metadata": {
        "id": "1f-uWelglT8s"
      },
      "source": [
        "Vemos las filas que poseen valores nulos en el campo \"useful\""
      ]
    },
    {
      "cell_type": "code",
      "metadata": {
        "colab": {
          "base_uri": "https://localhost:8080/",
          "height": 206
        },
        "id": "yzeasoFmftkG",
        "outputId": "82239013-e45c-43f7-b2ed-7df6f1508ac1"
      },
      "source": [
        "df[df.useful.isna()]"
      ],
      "execution_count": null,
      "outputs": [
        {
          "data": {
            "text/html": [
              "<div>\n",
              "<style scoped>\n",
              "    .dataframe tbody tr th:only-of-type {\n",
              "        vertical-align: middle;\n",
              "    }\n",
              "\n",
              "    .dataframe tbody tr th {\n",
              "        vertical-align: top;\n",
              "    }\n",
              "\n",
              "    .dataframe thead th {\n",
              "        text-align: right;\n",
              "    }\n",
              "</style>\n",
              "<table border=\"1\" class=\"dataframe\">\n",
              "  <thead>\n",
              "    <tr style=\"text-align: right;\">\n",
              "      <th></th>\n",
              "      <th>business_id</th>\n",
              "      <th>cool</th>\n",
              "      <th>date</th>\n",
              "      <th>funny</th>\n",
              "      <th>review_id</th>\n",
              "      <th>stars</th>\n",
              "      <th>text</th>\n",
              "      <th>useful</th>\n",
              "      <th>user_id</th>\n",
              "    </tr>\n",
              "  </thead>\n",
              "  <tbody>\n",
              "    <tr>\n",
              "      <th>555830</th>\n",
              "      <td>ALwAlxItASeEs2vYAeLXHA</td>\n",
              "      <td>1.000</td>\n",
              "      <td>2017-11-11 03:30:10</td>\n",
              "      <td>0.000</td>\n",
              "      <td>Nb2Z_jTtDw_Rr5N_kWMF0A</td>\n",
              "      <td>5.000</td>\n",
              "      <td>A friend shared a meal with me. Fire &amp; Ice Ramen</td>\n",
              "      <td>nan</td>\n",
              "      <td>NaN</td>\n",
              "    </tr>\n",
              "    <tr>\n",
              "      <th>1412575</th>\n",
              "      <td>u3rgkk2BjR2G3l2d3d2wTA</td>\n",
              "      <td>1.000</td>\n",
              "      <td>2017-02-18 06:29:57</td>\n",
              "      <td>2.000</td>\n",
              "      <td>2tNx2n1A7DNU8LeROS6bxA</td>\n",
              "      <td>5.000</td>\n",
              "      <td>First time going to La Habanera was for Poutin...</td>\n",
              "      <td>nan</td>\n",
              "      <td>NaN</td>\n",
              "    </tr>\n",
              "    <tr>\n",
              "      <th>1662390</th>\n",
              "      <td>eO0Dsp8MBjUT16lno8gkmA</td>\n",
              "      <td>0.000</td>\n",
              "      <td>2017-02-22 01:24:23</td>\n",
              "      <td>0.000</td>\n",
              "      <td>OSdqcxyXqM-XTEgajJNUmw</td>\n",
              "      <td>5.000</td>\n",
              "      <td>Working with Tina and Marcia has been such a p...</td>\n",
              "      <td>nan</td>\n",
              "      <td>NaN</td>\n",
              "    </tr>\n",
              "    <tr>\n",
              "      <th>2476992</th>\n",
              "      <td>ZibmYdOPKLlqDM9oR6xzOA</td>\n",
              "      <td>1.000</td>\n",
              "      <td>2016-07-01 19:08:35</td>\n",
              "      <td>0.000</td>\n",
              "      <td>0sMT9NZn6K4ayWSxUuLthg</td>\n",
              "      <td>5.000</td>\n",
              "      <td>I've been here a few times. This place is grea...</td>\n",
              "      <td>nan</td>\n",
              "      <td>NaN</td>\n",
              "    </tr>\n",
              "    <tr>\n",
              "      <th>2910901</th>\n",
              "      <td>yxQsedCcjJEfqhC7u8Rl0A</td>\n",
              "      <td>0.000</td>\n",
              "      <td>2017-04-24 05:09:16</td>\n",
              "      <td>0.000</td>\n",
              "      <td>WDpeUnz4F4DaOK3-GkQxDQ</td>\n",
              "      <td>3.000</td>\n",
              "      <td>We went as a group of 4 and ordered the Frittu...</td>\n",
              "      <td>nan</td>\n",
              "      <td>NaN</td>\n",
              "    </tr>\n",
              "  </tbody>\n",
              "</table>\n",
              "</div>"
            ],
            "text/plain": [
              "                    business_id  cool  ... useful  user_id\n",
              "555830   ALwAlxItASeEs2vYAeLXHA 1.000  ...    nan      NaN\n",
              "1412575  u3rgkk2BjR2G3l2d3d2wTA 1.000  ...    nan      NaN\n",
              "1662390  eO0Dsp8MBjUT16lno8gkmA 0.000  ...    nan      NaN\n",
              "2476992  ZibmYdOPKLlqDM9oR6xzOA 1.000  ...    nan      NaN\n",
              "2910901  yxQsedCcjJEfqhC7u8Rl0A 0.000  ...    nan      NaN\n",
              "\n",
              "[5 rows x 9 columns]"
            ]
          },
          "execution_count": 24,
          "metadata": {},
          "output_type": "execute_result"
        }
      ]
    },
    {
      "cell_type": "markdown",
      "metadata": {
        "id": "nu4TbY7mleSa"
      },
      "source": [
        "Como no es una columna prioritaria, se procede a dejarlos en el set de datos."
      ]
    },
    {
      "cell_type": "markdown",
      "metadata": {
        "id": "0WRSIWkvXsSt"
      },
      "source": [
        "Eliminamos los valores nulos en text y stars dado que no permiten llevar a cabo la predicción"
      ]
    },
    {
      "cell_type": "code",
      "metadata": {
        "id": "J5HzB4TMXSUA"
      },
      "source": [
        "df = df.dropna(subset=['stars', 'text'])"
      ],
      "execution_count": null,
      "outputs": []
    },
    {
      "cell_type": "markdown",
      "metadata": {
        "id": "VUIXa1eYDJnj"
      },
      "source": [
        "# EDA"
      ]
    },
    {
      "cell_type": "markdown",
      "metadata": {
        "id": "oE8wD2qcgn66"
      },
      "source": [
        "##Variable objetivo"
      ]
    },
    {
      "cell_type": "markdown",
      "metadata": {
        "id": "Fvg4yLEfZvuE"
      },
      "source": [
        "Analizamos la variable Stars, la cual será nuestro target."
      ]
    },
    {
      "cell_type": "code",
      "metadata": {
        "colab": {
          "base_uri": "https://localhost:8080/"
        },
        "id": "dP0L7EinZs-G",
        "outputId": "c86c8678-3f37-4a4d-84a4-4a1d4f18eb5a"
      },
      "source": [
        "plt.figure(figsize=(10,6))\n",
        "sns.countplot(x='stars', data=df)\n",
        "plt.ticklabel_format(style=\"plain\", axis=\"y\")\n",
        "plt.xlabel(\"\\nStars\")\n",
        "plt.ylabel(\"Qty\\n\")\n",
        "plt.title('Cantidad de reviews por puntuación\\n')\n",
        "plt.show()"
      ],
      "execution_count": null,
      "outputs": [
        {
          "data": {
            "image/png": "[encoded data removed]",
            "text/plain": [
              "<Figure size 720x432 with 1 Axes>"
            ]
          },
          "metadata": {},
          "output_type": "display_data"
        }
      ]
    },
    {
      "cell_type": "markdown",
      "metadata": {
        "id": "J1ol8suuhLHb"
      },
      "source": [
        "Tal como observamos anteriormente en forma de porcentaje, la moyor cantidad de reviews poseen una puntaje de 5 estrellas, seguido por reviews con 4 estrellas y 1 estrella. \n",
        "\n",
        "A partir de ahora, dejaremos de considerar las reviews de 3 estrellas como neutras para poder trabajar en una clasificación binaria. \n",
        "\n",
        "\n",
        "*   1-3 -> Negativo\n",
        "*   4-5 -> Positivo\n",
        "\n"
      ]
    },
    {
      "cell_type": "code",
      "metadata": {
        "id": "qlGS7KbpifEy"
      },
      "source": [
        "#Creamos esta funcion para poder clasificar las estrellas en 2 tipos de datos, positivos y negativos\n",
        "def classification(rate):\n",
        "    if rate <= 3:\n",
        "        return 'Negativo'\n",
        "    else:\n",
        "        return 'Positivo'"
      ],
      "execution_count": null,
      "outputs": []
    },
    {
      "cell_type": "code",
      "metadata": {
        "id": "x-0NgCQ_ie9S"
      },
      "source": [
        "#Aplicamos la funcion a la columna starts\n",
        "df['ReviewLabel'] = df['stars'].apply(lambda row: classification(row))"
      ],
      "execution_count": null,
      "outputs": []
    },
    {
      "cell_type": "code",
      "metadata": {
        "id": "jIpD2e1ej1Hs"
      },
      "source": [
        "#Creamos esta funcion para poder clasificar las estrellas en 2 tipos de datos, 1 y 0\n",
        "def class_code(rate):\n",
        "    if rate <= 3:\n",
        "        return 0\n",
        "    else:\n",
        "        return 1"
      ],
      "execution_count": null,
      "outputs": []
    },
    {
      "cell_type": "code",
      "metadata": {
        "id": "rIZPxds0vWse"
      },
      "source": [
        "#Aplicamos la funcion a la columna starts\n",
        "df['ReviewCode'] = df['stars'].apply(lambda row: class_code(row))"
      ],
      "execution_count": null,
      "outputs": []
    },
    {
      "cell_type": "code",
      "metadata": {
        "colab": {
          "base_uri": "https://localhost:8080/"
        },
        "id": "nosxA9O5Kh5N",
        "outputId": "6e853351-3197-4dd7-abba-2bd6382770c3"
      },
      "source": [
        "#Visualizamos las nuevas 2 columnas\n",
        "df[['ReviewLabel','ReviewCode']]"
      ],
      "execution_count": null,
      "outputs": [
        {
          "data": {
            "text/html": [
              "<div>\n",
              "<style scoped>\n",
              "    .dataframe tbody tr th:only-of-type {\n",
              "        vertical-align: middle;\n",
              "    }\n",
              "\n",
              "    .dataframe tbody tr th {\n",
              "        vertical-align: top;\n",
              "    }\n",
              "\n",
              "    .dataframe thead th {\n",
              "        text-align: right;\n",
              "    }\n",
              "</style>\n",
              "<table border=\"1\" class=\"dataframe\">\n",
              "  <thead>\n",
              "    <tr style=\"text-align: right;\">\n",
              "      <th></th>\n",
              "      <th>ReviewLabel</th>\n",
              "      <th>ReviewCode</th>\n",
              "    </tr>\n",
              "  </thead>\n",
              "  <tbody>\n",
              "    <tr>\n",
              "      <th>0</th>\n",
              "      <td>Positivo</td>\n",
              "      <td>1</td>\n",
              "    </tr>\n",
              "    <tr>\n",
              "      <th>1</th>\n",
              "      <td>Positivo</td>\n",
              "      <td>1</td>\n",
              "    </tr>\n",
              "    <tr>\n",
              "      <th>2</th>\n",
              "      <td>Positivo</td>\n",
              "      <td>1</td>\n",
              "    </tr>\n",
              "    <tr>\n",
              "      <th>3</th>\n",
              "      <td>Positivo</td>\n",
              "      <td>1</td>\n",
              "    </tr>\n",
              "    <tr>\n",
              "      <th>4</th>\n",
              "      <td>Negativo</td>\n",
              "      <td>0</td>\n",
              "    </tr>\n",
              "    <tr>\n",
              "      <th>...</th>\n",
              "      <td>...</td>\n",
              "      <td>...</td>\n",
              "    </tr>\n",
              "    <tr>\n",
              "      <th>3342953</th>\n",
              "      <td>Negativo</td>\n",
              "      <td>0</td>\n",
              "    </tr>\n",
              "    <tr>\n",
              "      <th>3342954</th>\n",
              "      <td>Positivo</td>\n",
              "      <td>1</td>\n",
              "    </tr>\n",
              "    <tr>\n",
              "      <th>3342955</th>\n",
              "      <td>Positivo</td>\n",
              "      <td>1</td>\n",
              "    </tr>\n",
              "    <tr>\n",
              "      <th>3342956</th>\n",
              "      <td>Negativo</td>\n",
              "      <td>0</td>\n",
              "    </tr>\n",
              "    <tr>\n",
              "      <th>3342957</th>\n",
              "      <td>Negativo</td>\n",
              "      <td>0</td>\n",
              "    </tr>\n",
              "  </tbody>\n",
              "</table>\n",
              "<p>3338638 rows × 2 columns</p>\n",
              "</div>"
            ],
            "text/plain": [
              "        ReviewLabel  ReviewCode\n",
              "0          Positivo           1\n",
              "1          Positivo           1\n",
              "2          Positivo           1\n",
              "3          Positivo           1\n",
              "4          Negativo           0\n",
              "...             ...         ...\n",
              "3342953    Negativo           0\n",
              "3342954    Positivo           1\n",
              "3342955    Positivo           1\n",
              "3342956    Negativo           0\n",
              "3342957    Negativo           0\n",
              "\n",
              "[3338638 rows x 2 columns]"
            ]
          },
          "execution_count": 31,
          "metadata": {},
          "output_type": "execute_result"
        }
      ]
    },
    {
      "cell_type": "code",
      "metadata": {
        "colab": {
          "base_uri": "https://localhost:8080/"
        },
        "id": "dVoNbelYfxok",
        "outputId": "e36bcdcf-1214-4bc4-a24f-c9e08461cf48"
      },
      "source": [
        "sns.countplot(df['ReviewLabel'])   "
      ],
      "execution_count": null,
      "outputs": [
        {
          "name": "stderr",
          "output_type": "stream",
          "text": [
            "/usr/local/lib/python3.7/dist-packages/seaborn/_decorators.py:43: FutureWarning: Pass the following variable as a keyword arg: x. From version 0.12, the only valid positional argument will be `data`, and passing other arguments without an explicit keyword will result in an error or misinterpretation.\n",
            "  FutureWarning\n"
          ]
        },
        {
          "data": {
            "text/plain": [
              "<matplotlib.axes._subplots.AxesSubplot at 0x7fbd5c2c1250>"
            ]
          },
          "execution_count": 32,
          "metadata": {},
          "output_type": "execute_result"
        },
        {
          "data": {
            "image/png": "[encoded data removed]",
            "text/plain": [
              "<Figure size 432x288 with 1 Axes>"
            ]
          },
          "metadata": {},
          "output_type": "display_data"
        }
      ]
    },
    {
      "cell_type": "markdown",
      "metadata": {
        "id": "IRseGONBK4PU"
      },
      "source": [
        "Aquí podemos ver que hay un desbalance entre las clases positivas y las clases negativas...mas adelante tendremos que realizar algo para poder salvar la diferencia entre ambas clases"
      ]
    },
    {
      "cell_type": "code",
      "metadata": {
        "colab": {
          "base_uri": "https://localhost:8080/"
        },
        "id": "_Ni6ydBBfVwr",
        "outputId": "85d78b1a-8cb5-406f-eb17-21118b2a48db"
      },
      "source": [
        "df.ReviewLabel.value_counts(normalize=True)"
      ],
      "execution_count": null,
      "outputs": [
        {
          "data": {
            "text/plain": [
              "Positivo   0.658\n",
              "Negativo   0.342\n",
              "Name: ReviewLabel, dtype: float64"
            ]
          },
          "execution_count": 33,
          "metadata": {},
          "output_type": "execute_result"
        }
      ]
    },
    {
      "cell_type": "markdown",
      "metadata": {
        "id": "jxbphphkwGfz"
      },
      "source": [
        "## Relación entre puntaje y la calificación de las reviews"
      ]
    },
    {
      "cell_type": "markdown",
      "metadata": {
        "id": "N85odJUmVLDs"
      },
      "source": [
        "Cada review posee 3 variables que la califican en que tan cool, funny y useful es la misma. "
      ]
    },
    {
      "cell_type": "code",
      "metadata": {
        "id": "3cstViERPvN2"
      },
      "source": [
        "#Creamos 3 df para analizar la correlacion entre ellas.\n",
        "df_cool = df[['stars', 'cool']]\n",
        "df_funny = df[['stars', 'funny']]\n",
        "df_useful = df[['stars', 'useful']]"
      ],
      "execution_count": null,
      "outputs": []
    },
    {
      "cell_type": "code",
      "metadata": {
        "id": "BDYwMC-jTkmN"
      },
      "source": [
        "#plt.figure(figsize=(6,4))\n",
        "#ax = sns.lineplot(x=\"stars\", y=\"cool\", data=df_cool)\n",
        "#ax.set_title('Relación entre puntaje y calificación cool');\n",
        "#plt.figure(figsize=(6,4))\n",
        "#ax = sns.lineplot(x=\"stars\", y=\"funny\", data=df_funny)\n",
        "#ax.set_title('Relación entre puntaje y calificación funny');\n",
        "#plt.figure(figsize=(6,4))\n",
        "#ax = sns.lineplot(x=\"stars\", y=\"useful\", data=df_useful)\n",
        "#ax.set_title('Relación entre puntaje y calificación useful');\n"
      ],
      "execution_count": null,
      "outputs": []
    },
    {
      "cell_type": "markdown",
      "metadata": {
        "id": "i558P0XJXSps"
      },
      "source": [
        "![image.png](data:image/png;base64,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)"
      ]
    },
    {
      "cell_type": "markdown",
      "metadata": {
        "id": "47WPJKHdZ-nJ"
      },
      "source": [
        "A partir de los gráficos y haciendo ciertas suposiciones, podemos decir que:\n",
        "\n",
        "\n",
        "*   A medida que aumenta el puntaje, la review es calificada como más cool. En aquellas que poseen puntaje de 5 estrellas esto no se respeta por lo que podemos asociarlo con reviews menos elaboradas. \n",
        "\n",
        "*   Siguiendo con la teoría de que las reviews con 5 estrellas son menos elaboradas, éstas son las que menos calificación tienen como funny. Por otro lado, podríamos inferir que la gente considera graciosas o divertidas las malas experiencias.\n",
        "\n",
        "*   Por último, mientras menor sea el puntaje de la review, la misma es considerada más useful. Esto tiene sentido, ya que las personas tienen en cuenta las malas experiencias sobre las buenas a la hora de elegir un lugar. \n"
      ]
    },
    {
      "cell_type": "markdown",
      "metadata": {
        "id": "4b_aRIKdrnXu"
      },
      "source": [
        "# Empeza desde aca Fran"
      ]
    },
    {
      "cell_type": "code",
      "metadata": {
        "id": "nS7rAEOEVufW"
      },
      "source": [
        "%%capture\n",
        "import pandas as pd\n",
        "import numpy as np\n",
        "pd.set_option('display.float_format', lambda x: '%.3f' % x)\n",
        "import matplotlib.pyplot as plt\n",
        "import seaborn as sns\n",
        "! pip install langdetect\n",
        "from sklearn.pipeline import make_pipeline\n",
        "from sklearn.preprocessing import LabelEncoder\n",
        "from sklearn.model_selection import train_test_split\n",
        "from sklearn.naive_bayes import MultinomialNB\n",
        "from sklearn.neighbors import KNeighborsClassifier\n",
        "from sklearn.model_selection import GridSearchCV\n",
        "from sklearn.feature_extraction.text import CountVectorizer, TfidfVectorizer\n",
        "from sklearn.linear_model import LogisticRegression # Clasificador\n",
        "from sklearn.metrics import classification_report # Metricas para valoracion del modelo\n",
        "from sklearn.metrics import f1_score, confusion_matrix # Metricas para valoracion del modelo\n",
        "from sklearn.metrics import accuracy_score, precision_score, recall_score\n",
        "from sklearn.metrics import roc_curve, auc, roc_auc_score # Metricas para valoracion del modelo\n",
        "from sklearn.metrics import plot_confusion_matrix \n",
        "import re, string, unicodedata\n",
        "import nltk\n",
        "import pickle\n",
        "from nltk import word_tokenize\n",
        "nltk.download(\"stopwords\") \n",
        "from nltk.corpus import stopwords\n",
        "from wordcloud import WordCloud, STOPWORDS,ImageColorGenerator\n",
        "from nltk.tokenize import WhitespaceTokenizer \n",
        "from wordcloud import WordCloud \n",
        "from scipy import sparse\n",
        "import xgboost\n",
        "from xgboost import XGBClassifier\n",
        "#from nltk import pos_tag \n",
        "#nltk.download('averaged_perceptron_tagger')\n",
        "import keras\n",
        "#from keras.models import Sequential\n",
        "#from keras.layers import Dense\n",
        "#from keras_visualizer import visualizer\n",
        "#from langdetect import detect\n",
        "from keras.preprocessing.text import Tokenizer                    \n",
        "#from keras.preprocessing.sequence import pad_sequences\n",
        "#from keras import layers"
      ],
      "execution_count": null,
      "outputs": []
    },
    {
      "cell_type": "markdown",
      "metadata": {
        "id": "KOx1kqtlryuW"
      },
      "source": [
        "### 1 saltear al correr"
      ]
    },
    {
      "cell_type": "code",
      "metadata": {
        "id": "5mb4s7g8QERk"
      },
      "source": [
        "#df = pd.read_csv('/content/drive/Shareddrives/Diplo DS -Grupo 01/TP5/reviews_yelp_nn.csv',sep='\\t', error_bad_lines=False )"
      ],
      "execution_count": null,
      "outputs": []
    },
    {
      "cell_type": "code",
      "metadata": {
        "id": "1o4Oj9uFOER2"
      },
      "source": [
        "def preprocessing(texto):\n",
        "    texto = re.sub(r\"http\\S+\", \"\",str(texto))#Eliminacion de paginas webs   \n",
        "    texto = re.sub(\"@[^\\S]*\", \"\", texto)#Eliminacion de mails\n",
        "    texto = re.sub(\"#[^\\S]*\", \"\", texto)#Eliminacion de paginas webs\n",
        "    texto = texto.lower() #minúsculas\n",
        "    texto = [word.strip(string.punctuation) for word in texto.split(\" \")]  # Tokenizacion y eliminación de signos de puntuación\n",
        "    texto = [word for word in texto if not any(c.isdigit() for c in word)] # Eliminación de números\n",
        "    texto = [t for t in texto if len(t) > 0] # Eliminación de tokens vacíos\n",
        "    texto = \" \".join(texto)\n",
        "    return(texto)\n",
        "df['text'] = df['text'].apply(lambda x: preprocessing(x))"
      ],
      "execution_count": null,
      "outputs": []
    },
    {
      "cell_type": "code",
      "metadata": {
        "id": "lt9Od3KNOIlu",
        "colab": {
          "base_uri": "https://localhost:8080/",
          "height": 158
        },
        "outputId": "7049a485-8ede-4dd7-f916-e6b3bd13be6f"
      },
      "source": [
        "df.to_csv('/content/drive/Shareddrives/Diplo DS -Grupo 01/TP5/data.csv',index=False, encoding='utf-8-sig')"
      ],
      "execution_count": null,
      "outputs": [
        {
          "output_type": "error",
          "ename": "NameError",
          "evalue": "ignored",
          "traceback": [
            "\u001b[0;31m---------------------------------------------------------------------------\u001b[0m",
            "\u001b[0;31mNameError\u001b[0m                                 Traceback (most recent call last)",
            "\u001b[0;32m<ipython-input-2-5e27a66f41a3>\u001b[0m in \u001b[0;36m<module>\u001b[0;34m()\u001b[0m\n\u001b[0;32m----> 1\u001b[0;31m \u001b[0mdf\u001b[0m\u001b[0;34m.\u001b[0m\u001b[0mto_csv\u001b[0m\u001b[0;34m(\u001b[0m\u001b[0;34m'/content/drive/Shareddrives/Diplo DS -Grupo 01/TP5/data.csv'\u001b[0m\u001b[0;34m,\u001b[0m\u001b[0mindex\u001b[0m\u001b[0;34m=\u001b[0m\u001b[0;32mFalse\u001b[0m\u001b[0;34m,\u001b[0m \u001b[0mencoding\u001b[0m\u001b[0;34m=\u001b[0m\u001b[0;34m'utf-8-sig'\u001b[0m\u001b[0;34m)\u001b[0m\u001b[0;34m\u001b[0m\u001b[0;34m\u001b[0m\u001b[0m\n\u001b[0m",
            "\u001b[0;31mNameError\u001b[0m: name 'df' is not defined"
          ]
        }
      ]
    },
    {
      "cell_type": "markdown",
      "metadata": {
        "id": "KXGEQgH-r0w9"
      },
      "source": [
        "### 2"
      ]
    },
    {
      "cell_type": "code",
      "metadata": {
        "colab": {
          "base_uri": "https://localhost:8080/"
        },
        "id": "dWx0HGa6x4ps",
        "outputId": "82f3630f-f544-4bb0-c6ff-957e9b9d2178"
      },
      "source": [
        "from google.colab import drive\n",
        "drive.mount('/content/drive', force_remount=True)"
      ],
      "execution_count": null,
      "outputs": [
        {
          "output_type": "stream",
          "name": "stdout",
          "text": [
            "Mounted at /content/drive\n"
          ]
        }
      ]
    },
    {
      "cell_type": "code",
      "metadata": {
        "id": "xzvm6QpUAcE_"
      },
      "source": [
        "df = pd.read_csv(\"/content/drive/Shareddrives/Diplo DS -Grupo 01/TP5/data.csv\", error_bad_lines=False )"
      ],
      "execution_count": null,
      "outputs": []
    },
    {
      "cell_type": "markdown",
      "metadata": {
        "id": "dr-HkBc9A0iO"
      },
      "source": [
        "# 2"
      ]
    },
    {
      "cell_type": "code",
      "metadata": {
        "colab": {
          "base_uri": "https://localhost:8080/"
        },
        "id": "UHv8s9dz8eGT",
        "outputId": "6c3eed96-dc72-40a3-cf72-692370ffed5e"
      },
      "source": [
        "df.isna().sum()"
      ],
      "execution_count": null,
      "outputs": [
        {
          "output_type": "execute_result",
          "data": {
            "text/plain": [
              "business_id      0\n",
              "cool             0\n",
              "date             0\n",
              "funny            0\n",
              "review_id        0\n",
              "stars            0\n",
              "text           168\n",
              "useful           5\n",
              "user_id          5\n",
              "ReviewLabel      0\n",
              "ReviewCode       0\n",
              "dtype: int64"
            ]
          },
          "metadata": {},
          "execution_count": 4
        }
      ]
    },
    {
      "cell_type": "code",
      "metadata": {
        "id": "7e43Zr9-o6LV"
      },
      "source": [
        "df=df.dropna(subset=[\"text\"])"
      ],
      "execution_count": null,
      "outputs": []
    },
    {
      "cell_type": "markdown",
      "metadata": {
        "id": "cMcg18DrgeBw"
      },
      "source": [
        "##Nube de palabras"
      ]
    },
    {
      "cell_type": "markdown",
      "metadata": {
        "id": "fuznN8SLlfCL"
      },
      "source": [
        "La nube de palabras es utilizada para mostrar de manera gráfica las palabras de mayor utilización, en este caso, en las reviews.\n",
        "\n",
        "Previamente, se quitan las stopwords o palabras que carecen de información. Entre ellas: preposiciones, pronombres, conjunciones, etc."
      ]
    },
    {
      "cell_type": "code",
      "metadata": {
        "id": "SvotQ-uNpzyr"
      },
      "source": [
        "# Palabras mas importantes ó de mas sentido SIN stopwords \n",
        "cv = CountVectorizer(stop_words = 'english')\n",
        "words = cv.fit_transform(df.text)\n",
        "sum_words = words.sum(axis=0)\n",
        "\n",
        "\n",
        "words_freq = [(word, sum_words[0, idx]) for word, idx in cv.vocabulary_.items()]\n",
        "words_freq = sorted(words_freq, key = lambda x: x[1], reverse = True)\n",
        "frequency = pd.DataFrame(words_freq, columns=['word', 'freq'])\n",
        "\n",
        "plt.style.use('fivethirtyeight')\n",
        "color = plt.cm.ocean(np.linspace(0, 1, 20))\n",
        "frequency.head(20).plot(x='word', y='freq', kind='bar', figsize=(15, 6), color = color)\n",
        "plt.title(\"Palabras más frecuentes - Top 20\")\n",
        "plt.show()"
      ],
      "execution_count": null,
      "outputs": []
    },
    {
      "cell_type": "markdown",
      "metadata": {
        "id": "97IEmJkEm24p"
      },
      "source": [
        "Se pueden observar palabras genéricas con asociación al tipo de la review, por ejemplo: food, restaurant, place, lo que nos lleva a pensar que la mayoría de éstas corresponden a reviews gastronómicas. Por otro lado, poseen mayor relevancia las palabras ¨positivas¨, apreciación lógica debido a que exiten más de este tipo de review.\n",
        "\n",
        "Para independizarnos del desbalance de las clases, hacemos una nube de palabras para las reviews positivas y otra para las negativas."
      ]
    },
    {
      "cell_type": "code",
      "metadata": {
        "id": "UZiAfgUfpzPl"
      },
      "source": [
        "neg= df[df.ReviewCode==0] \n",
        "pos= df[df.ReviewCode==1]"
      ],
      "execution_count": null,
      "outputs": []
    },
    {
      "cell_type": "code",
      "metadata": {
        "id": "iwiQEEAZ3biy"
      },
      "source": [
        "cv = CountVectorizer(stop_words = 'english')\n",
        "words = cv.fit_transform(neg.text)\n",
        "\n",
        "\n",
        "sum_words = negtxt.sum(axis=0)\n",
        "words_freq = [(word, sum_words[0, idx]) for word, idx in cv.vocabulary_.items()]\n",
        "words_freq = sorted(words_freq, key = lambda x: x[1], reverse = True)\n",
        "frequency = pd.DataFrame(words_freq, columns=['word', 'freq'])\n",
        "wordcloud = WordCloud(max_words=50, background_color=\"white\", width = 1500, height = 1500).generate_from_frequencies(dict(words_freq))   \n",
        "plt.figure(figsize=(10, 10))\n",
        "plt.imshow(wordcloud, interpolation=\"bilinear\")\n",
        "plt.axis(\"off\")\n",
        "plt.show()"
      ],
      "execution_count": null,
      "outputs": []
    },
    {
      "cell_type": "code",
      "metadata": {
        "id": "3ZRT44Px3xWg"
      },
      "source": [
        "cv = CountVectorizer(stop_words = 'english')\n",
        "words = cv.fit_transform(pos.text)\n",
        "\n",
        "sum_words = loaded_model.sum(axis=0)\n",
        "words_freq = [(word, sum_words[0, idx]) for word, idx in cv.vocabulary_.items()]\n",
        "words_freq = sorted(words_freq, key = lambda x: x[1], reverse = True)\n",
        "frequency = pd.DataFrame(words_freq, columns=['word', 'freq'])"
      ],
      "execution_count": null,
      "outputs": []
    },
    {
      "cell_type": "code",
      "metadata": {
        "id": "SE2wWsrS5oLT"
      },
      "source": [
        "wordcloud = WordCloud(max_words=50, background_color=\"white\", width = 1500, height = 1500).generate_from_frequencies(dict(words_freq))   \n",
        "plt.figure(figsize=(10, 10))\n",
        "plt.imshow(wordcloud, interpolation=\"bilinear\")\n",
        "plt.axis(\"off\")\n",
        "plt.show()"
      ],
      "execution_count": null,
      "outputs": []
    },
    {
      "cell_type": "markdown",
      "metadata": {
        "id": "cYSmQCSFsniW"
      },
      "source": [
        "### Palabras Reviews Negativas"
      ]
    },
    {
      "cell_type": "markdown",
      "metadata": {
        "id": "6ZyHKvxmDOSb"
      },
      "source": [
        "# MODELADO"
      ]
    },
    {
      "cell_type": "markdown",
      "metadata": {
        "id": "csIwiEPaaCdU"
      },
      "source": [
        "##Preprocesamiento"
      ]
    },
    {
      "cell_type": "markdown",
      "metadata": {
        "id": "2pGBe5jtrDYc"
      },
      "source": [
        "Antes de aplicar los modelos, balancemos las clases:"
      ]
    },
    {
      "cell_type": "code",
      "metadata": {
        "id": "vupgzVurxgbj"
      },
      "source": [
        ""
      ],
      "execution_count": null,
      "outputs": []
    },
    {
      "cell_type": "markdown",
      "metadata": {
        "id": "BggvK0j3roG0"
      },
      "source": [
        "Eliminamos aquellas columnas que no aportan al aprendizaje del modelo."
      ]
    },
    {
      "cell_type": "code",
      "metadata": {
        "id": "Y7tuVz2mxhYm",
        "colab": {
          "base_uri": "https://localhost:8080/",
          "height": 310
        },
        "outputId": "677c942c-d592-4ae3-f2d9-bd47e96a8c72"
      },
      "source": [
        "df.drop(columns=[\"business_id\",\"date\",\"review_id\",\"user_id\",'cool','funny','useful'], inplace=True)"
      ],
      "execution_count": null,
      "outputs": [
        {
          "output_type": "error",
          "ename": "KeyError",
          "evalue": "ignored",
          "traceback": [
            "\u001b[0;31m---------------------------------------------------------------------------\u001b[0m",
            "\u001b[0;31mKeyError\u001b[0m                                  Traceback (most recent call last)",
            "\u001b[0;32m<ipython-input-5-ed54797968cf>\u001b[0m in \u001b[0;36m<module>\u001b[0;34m()\u001b[0m\n\u001b[0;32m----> 1\u001b[0;31m \u001b[0mdf\u001b[0m\u001b[0;34m.\u001b[0m\u001b[0mdrop\u001b[0m\u001b[0;34m(\u001b[0m\u001b[0mcolumns\u001b[0m\u001b[0;34m=\u001b[0m\u001b[0;34m[\u001b[0m\u001b[0;34m\"business_id\"\u001b[0m\u001b[0;34m,\u001b[0m\u001b[0;34m\"date\"\u001b[0m\u001b[0;34m,\u001b[0m\u001b[0;34m\"review_id\"\u001b[0m\u001b[0;34m,\u001b[0m\u001b[0;34m\"user_id\"\u001b[0m\u001b[0;34m,\u001b[0m\u001b[0;34m'cool'\u001b[0m\u001b[0;34m,\u001b[0m\u001b[0;34m'funny'\u001b[0m\u001b[0;34m,\u001b[0m\u001b[0;34m'useful'\u001b[0m\u001b[0;34m]\u001b[0m\u001b[0;34m,\u001b[0m \u001b[0minplace\u001b[0m\u001b[0;34m=\u001b[0m\u001b[0;32mTrue\u001b[0m\u001b[0;34m)\u001b[0m\u001b[0;34m\u001b[0m\u001b[0;34m\u001b[0m\u001b[0m\n\u001b[0m",
            "\u001b[0;32m/usr/local/lib/python3.7/dist-packages/pandas/core/frame.py\u001b[0m in \u001b[0;36mdrop\u001b[0;34m(self, labels, axis, index, columns, level, inplace, errors)\u001b[0m\n\u001b[1;32m   4172\u001b[0m             \u001b[0mlevel\u001b[0m\u001b[0;34m=\u001b[0m\u001b[0mlevel\u001b[0m\u001b[0;34m,\u001b[0m\u001b[0;34m\u001b[0m\u001b[0;34m\u001b[0m\u001b[0m\n\u001b[1;32m   4173\u001b[0m             \u001b[0minplace\u001b[0m\u001b[0;34m=\u001b[0m\u001b[0minplace\u001b[0m\u001b[0;34m,\u001b[0m\u001b[0;34m\u001b[0m\u001b[0;34m\u001b[0m\u001b[0m\n\u001b[0;32m-> 4174\u001b[0;31m             \u001b[0merrors\u001b[0m\u001b[0;34m=\u001b[0m\u001b[0merrors\u001b[0m\u001b[0;34m,\u001b[0m\u001b[0;34m\u001b[0m\u001b[0;34m\u001b[0m\u001b[0m\n\u001b[0m\u001b[1;32m   4175\u001b[0m         )\n\u001b[1;32m   4176\u001b[0m \u001b[0;34m\u001b[0m\u001b[0m\n",
            "\u001b[0;32m/usr/local/lib/python3.7/dist-packages/pandas/core/generic.py\u001b[0m in \u001b[0;36mdrop\u001b[0;34m(self, labels, axis, index, columns, level, inplace, errors)\u001b[0m\n\u001b[1;32m   3887\u001b[0m         \u001b[0;32mfor\u001b[0m \u001b[0maxis\u001b[0m\u001b[0;34m,\u001b[0m \u001b[0mlabels\u001b[0m \u001b[0;32min\u001b[0m \u001b[0maxes\u001b[0m\u001b[0;34m.\u001b[0m\u001b[0mitems\u001b[0m\u001b[0;34m(\u001b[0m\u001b[0;34m)\u001b[0m\u001b[0;34m:\u001b[0m\u001b[0;34m\u001b[0m\u001b[0;34m\u001b[0m\u001b[0m\n\u001b[1;32m   3888\u001b[0m             \u001b[0;32mif\u001b[0m \u001b[0mlabels\u001b[0m \u001b[0;32mis\u001b[0m \u001b[0;32mnot\u001b[0m \u001b[0;32mNone\u001b[0m\u001b[0;34m:\u001b[0m\u001b[0;34m\u001b[0m\u001b[0;34m\u001b[0m\u001b[0m\n\u001b[0;32m-> 3889\u001b[0;31m                 \u001b[0mobj\u001b[0m \u001b[0;34m=\u001b[0m \u001b[0mobj\u001b[0m\u001b[0;34m.\u001b[0m\u001b[0m_drop_axis\u001b[0m\u001b[0;34m(\u001b[0m\u001b[0mlabels\u001b[0m\u001b[0;34m,\u001b[0m \u001b[0maxis\u001b[0m\u001b[0;34m,\u001b[0m \u001b[0mlevel\u001b[0m\u001b[0;34m=\u001b[0m\u001b[0mlevel\u001b[0m\u001b[0;34m,\u001b[0m \u001b[0merrors\u001b[0m\u001b[0;34m=\u001b[0m\u001b[0merrors\u001b[0m\u001b[0;34m)\u001b[0m\u001b[0;34m\u001b[0m\u001b[0;34m\u001b[0m\u001b[0m\n\u001b[0m\u001b[1;32m   3890\u001b[0m \u001b[0;34m\u001b[0m\u001b[0m\n\u001b[1;32m   3891\u001b[0m         \u001b[0;32mif\u001b[0m \u001b[0minplace\u001b[0m\u001b[0;34m:\u001b[0m\u001b[0;34m\u001b[0m\u001b[0;34m\u001b[0m\u001b[0m\n",
            "\u001b[0;32m/usr/local/lib/python3.7/dist-packages/pandas/core/generic.py\u001b[0m in \u001b[0;36m_drop_axis\u001b[0;34m(self, labels, axis, level, errors)\u001b[0m\n\u001b[1;32m   3921\u001b[0m                 \u001b[0mnew_axis\u001b[0m \u001b[0;34m=\u001b[0m \u001b[0maxis\u001b[0m\u001b[0;34m.\u001b[0m\u001b[0mdrop\u001b[0m\u001b[0;34m(\u001b[0m\u001b[0mlabels\u001b[0m\u001b[0;34m,\u001b[0m \u001b[0mlevel\u001b[0m\u001b[0;34m=\u001b[0m\u001b[0mlevel\u001b[0m\u001b[0;34m,\u001b[0m \u001b[0merrors\u001b[0m\u001b[0;34m=\u001b[0m\u001b[0merrors\u001b[0m\u001b[0;34m)\u001b[0m\u001b[0;34m\u001b[0m\u001b[0;34m\u001b[0m\u001b[0m\n\u001b[1;32m   3922\u001b[0m             \u001b[0;32melse\u001b[0m\u001b[0;34m:\u001b[0m\u001b[0;34m\u001b[0m\u001b[0;34m\u001b[0m\u001b[0m\n\u001b[0;32m-> 3923\u001b[0;31m                 \u001b[0mnew_axis\u001b[0m \u001b[0;34m=\u001b[0m \u001b[0maxis\u001b[0m\u001b[0;34m.\u001b[0m\u001b[0mdrop\u001b[0m\u001b[0;34m(\u001b[0m\u001b[0mlabels\u001b[0m\u001b[0;34m,\u001b[0m \u001b[0merrors\u001b[0m\u001b[0;34m=\u001b[0m\u001b[0merrors\u001b[0m\u001b[0;34m)\u001b[0m\u001b[0;34m\u001b[0m\u001b[0;34m\u001b[0m\u001b[0m\n\u001b[0m\u001b[1;32m   3924\u001b[0m             \u001b[0mresult\u001b[0m \u001b[0;34m=\u001b[0m \u001b[0mself\u001b[0m\u001b[0;34m.\u001b[0m\u001b[0mreindex\u001b[0m\u001b[0;34m(\u001b[0m\u001b[0;34m**\u001b[0m\u001b[0;34m{\u001b[0m\u001b[0maxis_name\u001b[0m\u001b[0;34m:\u001b[0m \u001b[0mnew_axis\u001b[0m\u001b[0;34m}\u001b[0m\u001b[0;34m)\u001b[0m\u001b[0;34m\u001b[0m\u001b[0;34m\u001b[0m\u001b[0m\n\u001b[1;32m   3925\u001b[0m \u001b[0;34m\u001b[0m\u001b[0m\n",
            "\u001b[0;32m/usr/local/lib/python3.7/dist-packages/pandas/core/indexes/base.py\u001b[0m in \u001b[0;36mdrop\u001b[0;34m(self, labels, errors)\u001b[0m\n\u001b[1;32m   5285\u001b[0m         \u001b[0;32mif\u001b[0m \u001b[0mmask\u001b[0m\u001b[0;34m.\u001b[0m\u001b[0many\u001b[0m\u001b[0;34m(\u001b[0m\u001b[0;34m)\u001b[0m\u001b[0;34m:\u001b[0m\u001b[0;34m\u001b[0m\u001b[0;34m\u001b[0m\u001b[0m\n\u001b[1;32m   5286\u001b[0m             \u001b[0;32mif\u001b[0m \u001b[0merrors\u001b[0m \u001b[0;34m!=\u001b[0m \u001b[0;34m\"ignore\"\u001b[0m\u001b[0;34m:\u001b[0m\u001b[0;34m\u001b[0m\u001b[0;34m\u001b[0m\u001b[0m\n\u001b[0;32m-> 5287\u001b[0;31m                 \u001b[0;32mraise\u001b[0m \u001b[0mKeyError\u001b[0m\u001b[0;34m(\u001b[0m\u001b[0;34mf\"{labels[mask]} not found in axis\"\u001b[0m\u001b[0;34m)\u001b[0m\u001b[0;34m\u001b[0m\u001b[0;34m\u001b[0m\u001b[0m\n\u001b[0m\u001b[1;32m   5288\u001b[0m             \u001b[0mindexer\u001b[0m \u001b[0;34m=\u001b[0m \u001b[0mindexer\u001b[0m\u001b[0;34m[\u001b[0m\u001b[0;34m~\u001b[0m\u001b[0mmask\u001b[0m\u001b[0;34m]\u001b[0m\u001b[0;34m\u001b[0m\u001b[0;34m\u001b[0m\u001b[0m\n\u001b[1;32m   5289\u001b[0m         \u001b[0;32mreturn\u001b[0m \u001b[0mself\u001b[0m\u001b[0;34m.\u001b[0m\u001b[0mdelete\u001b[0m\u001b[0;34m(\u001b[0m\u001b[0mindexer\u001b[0m\u001b[0;34m)\u001b[0m\u001b[0;34m\u001b[0m\u001b[0;34m\u001b[0m\u001b[0m\n",
            "\u001b[0;31mKeyError\u001b[0m: \"['business_id' 'date' 'review_id' 'user_id' 'cool' 'funny' 'useful'] not found in axis\""
          ]
        }
      ]
    },
    {
      "cell_type": "code",
      "metadata": {
        "colab": {
          "base_uri": "https://localhost:8080/",
          "height": 424
        },
        "id": "ws3JhEUn9b60",
        "outputId": "0d51bec5-e357-4547-ead6-aa5dbfbac73d"
      },
      "source": [
        "df"
      ],
      "execution_count": null,
      "outputs": [
        {
          "output_type": "execute_result",
          "data": {
            "text/html": [
              "<div>\n",
              "<style scoped>\n",
              "    .dataframe tbody tr th:only-of-type {\n",
              "        vertical-align: middle;\n",
              "    }\n",
              "\n",
              "    .dataframe tbody tr th {\n",
              "        vertical-align: top;\n",
              "    }\n",
              "\n",
              "    .dataframe thead th {\n",
              "        text-align: right;\n",
              "    }\n",
              "</style>\n",
              "<table border=\"1\" class=\"dataframe\">\n",
              "  <thead>\n",
              "    <tr style=\"text-align: right;\">\n",
              "      <th></th>\n",
              "      <th>stars</th>\n",
              "      <th>text</th>\n",
              "      <th>ReviewLabel</th>\n",
              "      <th>ReviewCode</th>\n",
              "    </tr>\n",
              "  </thead>\n",
              "  <tbody>\n",
              "    <tr>\n",
              "      <th>0</th>\n",
              "      <td>5.000</td>\n",
              "      <td>best dim sum in the city their cart service is...</td>\n",
              "      <td>Positivo</td>\n",
              "      <td>1</td>\n",
              "    </tr>\n",
              "    <tr>\n",
              "      <th>1</th>\n",
              "      <td>5.000</td>\n",
              "      <td>how how did i not head down here sooner for re...</td>\n",
              "      <td>Positivo</td>\n",
              "      <td>1</td>\n",
              "    </tr>\n",
              "    <tr>\n",
              "      <th>2</th>\n",
              "      <td>4.000</td>\n",
              "      <td>carnitas were wonderful first time there and t...</td>\n",
              "      <td>Positivo</td>\n",
              "      <td>1</td>\n",
              "    </tr>\n",
              "    <tr>\n",
              "      <th>3</th>\n",
              "      <td>5.000</td>\n",
              "      <td>great staff who are always willing to help i h...</td>\n",
              "      <td>Positivo</td>\n",
              "      <td>1</td>\n",
              "    </tr>\n",
              "    <tr>\n",
              "      <th>4</th>\n",
              "      <td>3.000</td>\n",
              "      <td>this place is bigger brighter new so it's clea...</td>\n",
              "      <td>Negativo</td>\n",
              "      <td>0</td>\n",
              "    </tr>\n",
              "    <tr>\n",
              "      <th>...</th>\n",
              "      <td>...</td>\n",
              "      <td>...</td>\n",
              "      <td>...</td>\n",
              "      <td>...</td>\n",
              "    </tr>\n",
              "    <tr>\n",
              "      <th>3338465</th>\n",
              "      <td>2.000</td>\n",
              "      <td>slow service to seat and then to serve left wa...</td>\n",
              "      <td>Negativo</td>\n",
              "      <td>0</td>\n",
              "    </tr>\n",
              "    <tr>\n",
              "      <th>3338466</th>\n",
              "      <td>4.000</td>\n",
              "      <td>i stayed at the bellagio for nights this month...</td>\n",
              "      <td>Positivo</td>\n",
              "      <td>1</td>\n",
              "    </tr>\n",
              "    <tr>\n",
              "      <th>3338467</th>\n",
              "      <td>5.000</td>\n",
              "      <td>book an appointment you get to walk past all t...</td>\n",
              "      <td>Positivo</td>\n",
              "      <td>1</td>\n",
              "    </tr>\n",
              "    <tr>\n",
              "      <th>3338468</th>\n",
              "      <td>1.000</td>\n",
              "      <td>this review is based on quality of pricing not...</td>\n",
              "      <td>Negativo</td>\n",
              "      <td>0</td>\n",
              "    </tr>\n",
              "    <tr>\n",
              "      <th>3338469</th>\n",
              "      <td>2.000</td>\n",
              "      <td>i posted and review earlier that was removed y...</td>\n",
              "      <td>Negativo</td>\n",
              "      <td>0</td>\n",
              "    </tr>\n",
              "  </tbody>\n",
              "</table>\n",
              "<p>3338470 rows × 4 columns</p>\n",
              "</div>"
            ],
            "text/plain": [
              "         stars  ... ReviewCode\n",
              "0        5.000  ...          1\n",
              "1        5.000  ...          1\n",
              "2        4.000  ...          1\n",
              "3        5.000  ...          1\n",
              "4        3.000  ...          0\n",
              "...        ...  ...        ...\n",
              "3338465  2.000  ...          0\n",
              "3338466  4.000  ...          1\n",
              "3338467  5.000  ...          1\n",
              "3338468  1.000  ...          0\n",
              "3338469  2.000  ...          0\n",
              "\n",
              "[3338470 rows x 4 columns]"
            ]
          },
          "metadata": {},
          "execution_count": 6
        }
      ]
    },
    {
      "cell_type": "markdown",
      "metadata": {
        "id": "hSKaOO0XYWGK"
      },
      "source": [
        "#mapeamos target\n"
      ]
    },
    {
      "cell_type": "markdown",
      "metadata": {
        "id": "K1XlEINPqSeb"
      },
      "source": [
        "## División Dataset en entrenamiento y testeo\n"
      ]
    },
    {
      "cell_type": "code",
      "metadata": {
        "id": "G5zYAK-IlSM3"
      },
      "source": [
        "X = df.text\n",
        "y = df.ReviewCode"
      ],
      "execution_count": null,
      "outputs": []
    },
    {
      "cell_type": "code",
      "metadata": {
        "id": "ZPfF4P_Lwk0e"
      },
      "source": [
        "print(X.head())\n",
        "print(y.head())"
      ],
      "execution_count": null,
      "outputs": []
    },
    {
      "cell_type": "code",
      "metadata": {
        "id": "txDi5afZqSec"
      },
      "source": [
        "X_train, X_test, y_train, y_test = train_test_split(X, y, test_size=0.2, random_state=42)"
      ],
      "execution_count": null,
      "outputs": []
    },
    {
      "cell_type": "code",
      "metadata": {
        "id": "ERkQbg4tSfH6"
      },
      "source": [
        "stop_words = stopwords.words('english') "
      ],
      "execution_count": null,
      "outputs": []
    },
    {
      "cell_type": "markdown",
      "metadata": {
        "id": "rhcYpfuf_MPQ"
      },
      "source": [
        "##Count Vectorizer"
      ]
    },
    {
      "cell_type": "code",
      "metadata": {
        "id": "qrYVwqvNab3U"
      },
      "source": [
        "X_train=X_train.dropna()"
      ],
      "execution_count": null,
      "outputs": []
    },
    {
      "cell_type": "code",
      "metadata": {
        "id": "xpIgFfq4aYFN"
      },
      "source": [
        " from sklearn.feature_extraction.text import CountVectorizer"
      ],
      "execution_count": null,
      "outputs": []
    },
    {
      "cell_type": "code",
      "metadata": {
        "id": "yvPoxMvOaKFS"
      },
      "source": [
        "vectorizer  = CountVectorizer(stop_words=stop_words)"
      ],
      "execution_count": null,
      "outputs": []
    },
    {
      "cell_type": "code",
      "metadata": {
        "id": "uJs6XYFYflrn"
      },
      "source": [
        "training_data = vectorizer.fit_transform(X_train)"
      ],
      "execution_count": null,
      "outputs": []
    },
    {
      "cell_type": "code",
      "metadata": {
        "id": "CKe6NyLcE43F"
      },
      "source": [
        "from scipy import sparse"
      ],
      "execution_count": null,
      "outputs": []
    },
    {
      "cell_type": "code",
      "metadata": {
        "colab": {
          "base_uri": "https://localhost:8080/"
        },
        "id": "U0uN-6XxDSx4",
        "outputId": "72028c43-184d-4616-81bc-e41e86af173c"
      },
      "source": [
        "training_data"
      ],
      "execution_count": null,
      "outputs": [
        {
          "output_type": "execute_result",
          "data": {
            "text/plain": [
              "<2670776x403003 sparse matrix of type '<class 'numpy.int64'>'\n",
              "\twith 123960607 stored elements in Compressed Sparse Row format>"
            ]
          },
          "metadata": {},
          "execution_count": 17
        }
      ]
    },
    {
      "cell_type": "code",
      "metadata": {
        "id": "7J6Zt2oNFChC"
      },
      "source": [
        "sparse.save_npz(\"/content/drive/Shareddrives/Diplo DS -Grupo 01/TP5/yourmatrix.npz\", training_data)"
      ],
      "execution_count": null,
      "outputs": []
    },
    {
      "cell_type": "code",
      "metadata": {
        "id": "k-EVVGFJE7_p"
      },
      "source": [
        "your_matrix_back = sparse.load_npz(\"/content/drive/Shareddrives/Diplo DS -Grupo 01/TP5/yourmatrix.npz\")"
      ],
      "execution_count": null,
      "outputs": []
    },
    {
      "cell_type": "code",
      "metadata": {
        "colab": {
          "base_uri": "https://localhost:8080/"
        },
        "id": "VXbYXgQ3GJKv",
        "outputId": "bc6a08eb-f677-4463-b13d-c9e4ac578c88"
      },
      "source": [
        "your_matrix_back"
      ],
      "execution_count": null,
      "outputs": [
        {
          "output_type": "execute_result",
          "data": {
            "text/plain": [
              "<2670776x403003 sparse matrix of type '<class 'numpy.int64'>'\n",
              "\twith 123960607 stored elements in Compressed Sparse Row format>"
            ]
          },
          "metadata": {},
          "execution_count": 20
        }
      ]
    },
    {
      "cell_type": "code",
      "metadata": {
        "id": "N0Roj1YJDITy"
      },
      "source": [
        "df.to_csv('/content/drive/Shareddrives/Diplo DS -Grupo 01/TP5/data.csv',index=False, encoding='utf-8-sig')"
      ],
      "execution_count": null,
      "outputs": []
    },
    {
      "cell_type": "code",
      "metadata": {
        "id": "f6yBLt9KaQoD"
      },
      "source": [
        "testing_data = vectorizer.transform(X_test)"
      ],
      "execution_count": null,
      "outputs": []
    },
    {
      "cell_type": "code",
      "metadata": {
        "id": "8JQ95cp6GSy2"
      },
      "source": [
        "sparse.save_npz(\"/content/drive/Shareddrives/Diplo DS -Grupo 01/TP5/yourmatrix1.npz\", testing_data)"
      ],
      "execution_count": null,
      "outputs": []
    },
    {
      "cell_type": "code",
      "metadata": {
        "id": "i_kLOn8DGTyz"
      },
      "source": [
        "your_matrix_back1 = sparse.load_npz(\"/content/drive/Shareddrives/Diplo DS -Grupo 01/TP5/yourmatrix1.npz\")"
      ],
      "execution_count": null,
      "outputs": []
    },
    {
      "cell_type": "code",
      "metadata": {
        "colab": {
          "base_uri": "https://localhost:8080/"
        },
        "id": "2baBriQagGb9",
        "outputId": "7e3d257e-76c4-4fd4-93cf-ebf95684e9b9"
      },
      "source": [
        "vectorizer.vocabulary_ "
      ],
      "execution_count": null,
      "outputs": [
        {
          "output_type": "execute_result",
          "data": {
            "text/plain": [
              "{'toughest': 355458,\n",
              " 'time': 351532,\n",
              " 'finding': 127009,\n",
              " 'good': 146015,\n",
              " 'slice': 319600,\n",
              " 'look': 204337,\n",
              " 'like': 201040,\n",
              " 'sitting': 318005,\n",
              " 'hours': 164583,\n",
              " 'tried': 357974,\n",
              " 'avoid': 24412,\n",
              " 'chains': 60514,\n",
              " 'city': 68432,\n",
              " 'sometimes': 323673,\n",
              " 'want': 377681,\n",
              " 'pie': 263261,\n",
              " 'easy': 107262,\n",
              " 'choice': 65845,\n",
              " 'seems': 308602,\n",
              " 'something': 323636,\n",
              " 'odd': 243535,\n",
              " 'toronto': 354730,\n",
              " 'rockies': 295372,\n",
              " 'prairies': 270994,\n",
              " 'land': 195818,\n",
              " 'stand': 330078,\n",
              " 'way': 378906,\n",
              " 'vancouver': 369742,\n",
              " 'happened': 155181,\n",
              " 'pizza': 265012,\n",
              " 'world': 385741,\n",
              " 'oh': 244344,\n",
              " 'miss': 224266,\n",
              " 'crazy': 81337,\n",
              " 'varieties': 370167,\n",
              " 'available': 23919,\n",
              " 'west': 380515,\n",
              " 'potatoe': 270018,\n",
              " 'trend': 357605,\n",
              " 'really': 283743,\n",
              " 'except': 118738,\n",
              " 'fine': 127034,\n",
              " 'establishment': 116388,\n",
              " 'wanted': 377694,\n",
              " 'try': 359201,\n",
              " 'version': 372540,\n",
              " 'looks': 204396,\n",
              " 'chips': 65181,\n",
              " 'appetizing': 16376,\n",
              " 'place': 265349,\n",
              " 'offers': 243941,\n",
              " 'variety': 370168,\n",
              " 'point': 267432,\n",
              " 'pay': 257335,\n",
              " 'selection': 309024,\n",
              " 'bad': 26677,\n",
              " 'paying': 257398,\n",
              " 'two': 361089,\n",
              " 'slices': 319612,\n",
              " 'accounts': 2673,\n",
              " 'price': 273013,\n",
              " 'take': 341850,\n",
              " 'half': 153838,\n",
              " 'home': 162388,\n",
              " 'tasted': 343699,\n",
              " 'freshly': 134106,\n",
              " 'made': 208679,\n",
              " 'mmmmmmmmmm': 225266,\n",
              " 'bread': 45122,\n",
              " 'reminded': 288471,\n",
              " 'baked': 27452,\n",
              " 'perhaps': 259864,\n",
              " 'came': 53709,\n",
              " 'around': 18853,\n",
              " 'would': 386014,\n",
              " 'definitely': 90208,\n",
              " 'go': 145011,\n",
              " 'back': 26286,\n",
              " 'thing': 349545,\n",
              " 'wish': 383990,\n",
              " 'could': 79503,\n",
              " 'order': 247912,\n",
              " 'regular': 287207,\n",
              " 'size': 318177,\n",
              " 'piece': 263268,\n",
              " 'love': 205428,\n",
              " 'outlets': 250060,\n",
              " 'vegas': 370824,\n",
              " 'looking': 204378,\n",
              " 'killer': 189234,\n",
              " 'great': 148397,\n",
              " 'high': 160042,\n",
              " 'end': 112506,\n",
              " 'outlet': 250056,\n",
              " 'deals': 88567,\n",
              " 'huge': 165452,\n",
              " 'tons': 354011,\n",
              " 'stores': 332701,\n",
              " 'places': 265415,\n",
              " 'eat': 107293,\n",
              " 'enough': 113370,\n",
              " 'kitschy': 190125,\n",
              " 'kiosks': 189818,\n",
              " 'fun': 136432,\n",
              " 'without': 384201,\n",
              " 'top': 354329,\n",
              " 'parking': 255189,\n",
              " 'spent': 326950,\n",
              " 'walking': 377320,\n",
              " 'shopping': 314719,\n",
              " 'left': 198548,\n",
              " 'coach': 70548,\n",
              " 'calvin': 53541,\n",
              " 'klein': 190400,\n",
              " 'steals': 331045,\n",
              " 'mother': 228744,\n",
              " 'picked': 262989,\n",
              " 'awesome': 24703,\n",
              " 'stuff': 334199,\n",
              " 'layne': 197652,\n",
              " 'bryant': 47892,\n",
              " 'absolutely': 1738,\n",
              " 'going': 145494,\n",
              " 'next': 237053,\n",
              " 'minus': 223417,\n",
              " 'one': 246032,\n",
              " 'star': 330253,\n",
              " 'kate': 186367,\n",
              " 'spade': 325834,\n",
              " 'yet': 389749,\n",
              " 'frequently': 133992,\n",
              " 'went': 380333,\n",
              " 'lived': 202499,\n",
              " 'area': 17918,\n",
              " 'nice': 237365,\n",
              " 'location': 203400,\n",
              " 'drinks': 103262,\n",
              " 'poor': 268626,\n",
              " 'pharmacy': 261607,\n",
              " 'service': 310411,\n",
              " 'advised': 5062,\n",
              " 'minutes': 223452,\n",
              " 'turned': 360417,\n",
              " 'stay': 330848,\n",
              " 'away': 24608,\n",
              " 'total': 355205,\n",
              " 'circus': 68201,\n",
              " 'food': 130861,\n",
              " 'people': 259054,\n",
              " 'alert': 8734,\n",
              " 'super': 336973,\n",
              " 'clean': 69181,\n",
              " 'well': 380100,\n",
              " 'coming': 72809,\n",
              " 'chilaquiles': 64398,\n",
              " 'first': 127640,\n",
              " 'since': 317294,\n",
              " 'rusty': 298769,\n",
              " 'rudder': 298023,\n",
              " 'decor': 89379,\n",
              " 'different': 95737,\n",
              " 'deck': 89228,\n",
              " 'disappointing': 97358,\n",
              " 'salty': 301447,\n",
              " 'overpriced': 251090,\n",
              " 'watermelon': 378620,\n",
              " 'five': 128035,\n",
              " 'hush': 166419,\n",
              " 'puppies': 277364,\n",
              " 'hope': 163389,\n",
              " 'adapt': 3881,\n",
              " 'clientele': 69605,\n",
              " 'soon': 324147,\n",
              " 'couple': 79809,\n",
              " 'weeks': 379629,\n",
              " 'get': 141914,\n",
              " 'nails': 233335,\n",
              " 'done': 100834,\n",
              " 'guy': 151941,\n",
              " 'put': 277898,\n",
              " 'real': 283578,\n",
              " 'effort': 108945,\n",
              " 'shape': 312070,\n",
              " 'right': 293801,\n",
              " 'picture': 263182,\n",
              " 'continuously': 76887,\n",
              " 'ask': 20365,\n",
              " 'kept': 187801,\n",
              " 'saying': 304372,\n",
              " 'got': 146832,\n",
              " 'hour': 164555,\n",
              " 'trying': 359225,\n",
              " 'decided': 89135,\n",
              " 'let': 199632,\n",
              " 'finish': 127177,\n",
              " 'fill': 126653,\n",
              " 'reasons': 284006,\n",
              " 'gave': 139873,\n",
              " 'stars': 330481,\n",
              " 'reiterating': 287660,\n",
              " 'difficult': 95804,\n",
              " 'keep': 187134,\n",
              " 'remind': 288469,\n",
              " 'much': 229991,\n",
              " 'spending': 326922,\n",
              " 'nail': 233287,\n",
              " 'color': 72197,\n",
              " 'design': 93470,\n",
              " 'even': 117570,\n",
              " 'give': 143774,\n",
              " 'another': 14391,\n",
              " 'shot': 314903,\n",
              " 'pricey': 273087,\n",
              " 'expensive': 119759,\n",
              " 'always': 10643,\n",
              " 'typically': 361337,\n",
              " 'salad': 300787,\n",
              " 'bar': 28845,\n",
              " 'fresh': 134035,\n",
              " 'plethora': 266501,\n",
              " 'choices': 65853,\n",
              " 'addition': 4071,\n",
              " 'also': 10290,\n",
              " 'endless': 112589,\n",
              " 'enjoy': 113144,\n",
              " 'although': 10466,\n",
              " 'writing': 386492,\n",
              " 'review': 292315,\n",
              " 'based': 30049,\n",
              " 'past': 256348,\n",
              " 'sunday': 336616,\n",
              " 'manager': 210992,\n",
              " 'approached': 16900,\n",
              " 'us': 368205,\n",
              " 'saw': 304232,\n",
              " 'menu': 219489,\n",
              " 'displayed': 98451,\n",
              " 'wall': 377366,\n",
              " 'asked': 20378,\n",
              " 'menus': 219518,\n",
              " 'hand': 154530,\n",
              " 'description': 93245,\n",
              " 'additional': 4073,\n",
              " 'ordered': 247925,\n",
              " 'fast': 123593,\n",
              " 'delivered': 91445,\n",
              " 'table': 340896,\n",
              " 'town': 355791,\n",
              " 'visiting': 374544,\n",
              " 'friends': 134461,\n",
              " 'taking': 341944,\n",
              " 'someone': 323576,\n",
              " 'cleared': 69296,\n",
              " 'plates': 265888,\n",
              " 'rushing': 298657,\n",
              " 'space': 325749,\n",
              " 'meal': 217197,\n",
              " 'catching': 57955,\n",
              " 'flight': 129207,\n",
              " 'boston': 42993,\n",
              " 'rush': 298641,\n",
              " 'purse': 277724,\n",
              " 'small': 320567,\n",
              " 'wristlet': 386466,\n",
              " 'sized': 318180,\n",
              " 'car': 55535,\n",
              " 'panicked': 253762,\n",
              " 'called': 53302,\n",
              " 'sure': 337966,\n",
              " 'found': 132415,\n",
              " 'returned': 291997,\n",
              " 'grab': 147341,\n",
              " 'locked': 203470,\n",
              " 'office': 243983,\n",
              " 'everything': 117920,\n",
              " 'experience': 119847,\n",
              " 'feel': 124706,\n",
              " 'mattered': 215184,\n",
              " 'truly': 359032,\n",
              " 'appreciated': 16799,\n",
              " 'business': 50573,\n",
              " 'husband': 166387,\n",
              " 'stopped': 332630,\n",
              " 'last': 196782,\n",
              " 'night': 237740,\n",
              " 'hair': 153476,\n",
              " 'cut': 85172,\n",
              " 'stanley': 330199,\n",
              " 'loved': 205450,\n",
              " 'never': 236690,\n",
              " 'met': 220276,\n",
              " 'nicer': 237396,\n",
              " 'barber': 29034,\n",
              " 'said': 300505,\n",
              " 'atmosphere': 21875,\n",
              " 'thanks': 347863,\n",
              " 'sultans': 336243,\n",
              " 'best': 35108,\n",
              " 'samosas': 301910,\n",
              " 'ever': 117667,\n",
              " 'tip': 351971,\n",
              " 'chicken': 64036,\n",
              " 'beef': 32415,\n",
              " 'potato': 270016,\n",
              " 'cents': 59678,\n",
              " 'samosa': 301907,\n",
              " 'sell': 309137,\n",
              " 'frozen': 135252,\n",
              " 'cook': 77552,\n",
              " 'incredible': 171418,\n",
              " 'highly': 160155,\n",
              " 'recommend': 285081,\n",
              " 'thief': 349435,\n",
              " 'seating': 308084,\n",
              " 'takeout': 341894,\n",
              " 'dips': 96944,\n",
              " 'work': 385572,\n",
              " 'orders': 247983,\n",
              " 'batches': 30424,\n",
              " 'treat': 357323,\n",
              " 'must': 231528,\n",
              " 'scarbrough': 304884,\n",
              " 'vic': 373163,\n",
              " 'park': 255149,\n",
              " 'list': 202140,\n",
              " 'know': 190952,\n",
              " 'say': 304332,\n",
              " 'care': 56050,\n",
              " 'spectacular': 326637,\n",
              " 'better': 35468,\n",
              " 'pho': 262106,\n",
              " 'la': 194350,\n",
              " 'guess': 150972,\n",
              " 'break': 45224,\n",
              " 'eats': 107429,\n",
              " 'vermicelli': 372310,\n",
              " 'noodles': 239669,\n",
              " 'bbq': 31184,\n",
              " 'pork': 269067,\n",
              " 'egg': 109073,\n",
              " 'rolls': 295996,\n",
              " 'nothing': 240529,\n",
              " 'amazing': 11143,\n",
              " 'appetizers': 16364,\n",
              " 'little': 202386,\n",
              " 'expect': 119609,\n",
              " 'asian': 20265,\n",
              " 'restaurant': 291020,\n",
              " 'impersonal': 170052,\n",
              " 'waiters': 376962,\n",
              " 'attention': 22329,\n",
              " 'automatically': 23605,\n",
              " 'charge': 61576,\n",
              " 'gratuity': 148147,\n",
              " 'parties': 255841,\n",
              " 'lot': 205075,\n",
              " 'party': 255918,\n",
              " 'deserve': 93374,\n",
              " 'serve': 310323,\n",
              " 'refill': 286454,\n",
              " 'water': 378503,\n",
              " 'tend': 346109,\n",
              " 'ignore': 168612,\n",
              " 'giving': 143825,\n",
              " 'management': 210977,\n",
              " 'sucks': 335444,\n",
              " 'exchange': 118821,\n",
              " 'yesterday': 389732,\n",
              " 'pair': 252748,\n",
              " 'panties': 253995,\n",
              " 'wrong': 386523,\n",
              " 'pink': 264106,\n",
              " 'section': 308346,\n",
              " 'leggings': 198656,\n",
              " 'somewhere': 323700,\n",
              " 'claims': 68701,\n",
              " 'basically': 30117,\n",
              " 'paid': 252608,\n",
              " 'underwear': 364275,\n",
              " 'angel': 13421,\n",
              " 'card': 55912,\n",
              " 'holder': 161991,\n",
              " 'closing': 69997,\n",
              " 'account': 2654,\n",
              " 'cuz': 85372,\n",
              " 'bras': 44748,\n",
              " 'customer': 85060,\n",
              " 'salon': 301251,\n",
              " 'nw': 242048,\n",
              " 'ladies': 194902,\n",
              " 'wonderful': 384873,\n",
              " 'job': 181920,\n",
              " 'every': 117804,\n",
              " 'provide': 275647,\n",
              " 'beyond': 35765,\n",
              " 'months': 227438,\n",
              " 'tonight': 353868,\n",
              " 'witnessed': 384265,\n",
              " 'multiple': 230677,\n",
              " 'customers': 85084,\n",
              " 'rude': 298030,\n",
              " 'reason': 283960,\n",
              " 'handled': 154669,\n",
              " 'situations': 318047,\n",
              " 'professionally': 274291,\n",
              " 'gracefully': 147390,\n",
              " 'hug': 165448,\n",
              " 'thank': 347836,\n",
              " 'hard': 155408,\n",
              " 'apologize': 15960,\n",
              " 'lack': 194717,\n",
              " 'compassion': 73522,\n",
              " 'part': 255654,\n",
              " 'patrons': 256975,\n",
              " 'tails': 341708,\n",
              " 'everyday': 117823,\n",
              " 'respect': 290636,\n",
              " 'everyone': 117865,\n",
              " 'takes': 341906,\n",
              " 'ensures': 113576,\n",
              " 'happy': 155254,\n",
              " 'pride': 273149,\n",
              " 'disappointed': 97330,\n",
              " 'located': 203384,\n",
              " 'north': 240116,\n",
              " 'las': 196579,\n",
              " 'lvac': 207218,\n",
              " 'blazed': 38996,\n",
              " 'spacious': 325810,\n",
              " 'staff': 329761,\n",
              " 'attentive': 22349,\n",
              " 'friendly': 134436,\n",
              " 'decide': 89134,\n",
              " 'red': 285551,\n",
              " 'vine': 373970,\n",
              " 'white': 381930,\n",
              " 'specialty': 326515,\n",
              " 'pizzas': 265108,\n",
              " 'worker': 385602,\n",
              " 'mentioned': 219444,\n",
              " 'side': 316100,\n",
              " 'finished': 127182,\n",
              " 'setting': 310776,\n",
              " 'ingredients': 172820,\n",
              " 'vegetables': 371010,\n",
              " 'meats': 217446,\n",
              " 'prepare': 272134,\n",
              " 'front': 135077,\n",
              " 'fire': 127386,\n",
              " 'oven': 250476,\n",
              " 'requested': 289900,\n",
              " 'pesto': 260939,\n",
              " 'request': 289897,\n",
              " 'make': 209978,\n",
              " 'speciality': 326484,\n",
              " 'kind': 189501,\n",
              " 'utilize': 368631,\n",
              " 'production': 274159,\n",
              " 'line': 201566,\n",
              " 'teamwork': 344840,\n",
              " 'subway': 335218,\n",
              " 'impressed': 170346,\n",
              " 'affordable': 5631,\n",
              " 'satisfying': 303530,\n",
              " 'taste': 343686,\n",
              " 'quality': 278937,\n",
              " 'come': 72550,\n",
              " 'already': 10213,\n",
              " 'recommended': 285096,\n",
              " 'waffle': 376632,\n",
              " 'spot': 328162,\n",
              " 'tasty': 343811,\n",
              " 'overall': 250512,\n",
              " 'mac': 207993,\n",
              " 'cheese': 62824,\n",
              " 'environment': 114262,\n",
              " 'casinos': 57499,\n",
              " 'calgary': 53081,\n",
              " 'simply': 317193,\n",
              " 'start': 330515,\n",
              " 'used': 368303,\n",
              " 'dress': 103033,\n",
              " 'black': 38459,\n",
              " 'wear': 379194,\n",
              " 'lipstick': 201938,\n",
              " 'casino': 57484,\n",
              " 'montreal': 227505,\n",
              " 'till': 351420,\n",
              " 'wee': 379482,\n",
              " 'morning': 228251,\n",
              " 'pretending': 272710,\n",
              " 'big': 36608,\n",
              " 'roller': 295895,\n",
              " 'china': 64846,\n",
              " 'afraid': 5780,\n",
              " 'may': 215579,\n",
              " 'obsession': 242925,\n",
              " 'wow': 386101,\n",
              " 'blocks': 39534,\n",
              " 'free': 133567,\n",
              " 'together': 353109,\n",
              " 'seduction': 308464,\n",
              " 'tactic': 341259,\n",
              " 'imagine': 169380,\n",
              " 'getting': 142048,\n",
              " 'leaving': 198196,\n",
              " 'underground': 363950,\n",
              " 'heated': 157490,\n",
              " 'sauntering': 303853,\n",
              " 'directly': 97013,\n",
              " 'slot': 320150,\n",
              " 'machine': 208328,\n",
              " 'given': 143793,\n",
              " 'took': 354113,\n",
              " 'coat': 70633,\n",
              " 'lobby': 203188,\n",
              " 'able': 1271,\n",
              " 'circulate': 68152,\n",
              " 'venture': 371858,\n",
              " 'intervals': 175179,\n",
              " 'checking': 62560,\n",
              " 'obviously': 243062,\n",
              " 'long': 204060,\n",
              " 'perplexed': 260292,\n",
              " 'slots': 320166,\n",
              " 'change': 61064,\n",
              " 'slip': 319793,\n",
              " 'bill': 37015,\n",
              " 'cash': 57387,\n",
              " 'computerized': 74269,\n",
              " 'stub': 334073,\n",
              " 'reinsert': 287554,\n",
              " 'tantalized': 342853,\n",
              " 'realised': 283630,\n",
              " 'play': 266012,\n",
              " 'honey': 162823,\n",
              " 'green': 148622,\n",
              " 'nickel': 237469,\n",
              " 'entertained': 113730,\n",
              " 'enthusiasm': 113811,\n",
              " 'squeals': 328893,\n",
              " 'delight': 91244,\n",
              " 'winning': 383699,\n",
              " 'ten': 346065,\n",
              " 'credits': 81630,\n",
              " 'earning': 107021,\n",
              " 'tormented': 354677,\n",
              " 'sounds': 325149,\n",
              " 'losing': 205033,\n",
              " 'dollars': 100442,\n",
              " 'aimlessly': 7319,\n",
              " 'cent': 59515,\n",
              " 'vouture': 375754,\n",
              " 'find': 126991,\n",
              " 'lucky': 206283,\n",
              " 'serious': 310130,\n",
              " 'situation': 318042,\n",
              " 'funny': 136709,\n",
              " 'level': 199871,\n",
              " 'kindly': 189555,\n",
              " 'photos': 262446,\n",
              " 'taken': 341881,\n",
              " 'fairly': 122112,\n",
              " 'elegant': 110285,\n",
              " 'plus': 266896,\n",
              " 'buffet': 48716,\n",
              " 'soda': 322677,\n",
              " 'pop': 268675,\n",
              " 'seats': 308107,\n",
              " 'comfortable': 72709,\n",
              " 'actually': 3667,\n",
              " 'plans': 265694,\n",
              " 'return': 291992,\n",
              " 'evening': 117590,\n",
              " 'idea': 168101,\n",
              " 'makes': 210026,\n",
              " 'slowly': 320238,\n",
              " 'makeup': 210041,\n",
              " 'kit': 190018,\n",
              " 'aside': 20310,\n",
              " 'special': 326460,\n",
              " 'outings': 250025,\n",
              " 'suggest': 335864,\n",
              " 'new': 236794,\n",
              " 'dentist': 92343,\n",
              " 'family': 122652,\n",
              " 'need': 235368,\n",
              " 'dedicated': 89530,\n",
              " 'move': 229383,\n",
              " 'entire': 113853,\n",
              " 'sinick': 317497,\n",
              " 'believe': 33487,\n",
              " 'self': 309084,\n",
              " 'call': 53267,\n",
              " 'schedule': 305312,\n",
              " 'appointment': 16625,\n",
              " 'horrible': 163806,\n",
              " 'parents': 254994,\n",
              " 'year': 388959,\n",
              " 'wedding': 379410,\n",
              " 'anniversary': 14134,\n",
              " 'dad': 86086,\n",
              " 'recovering': 285362,\n",
              " 'alcoholic': 8508,\n",
              " 'starbucks': 330298,\n",
              " 'coffee': 71261,\n",
              " 'drink': 103211,\n",
              " 'due': 104352,\n",
              " 'argument': 18203,\n",
              " 'holding': 161998,\n",
              " 'rum': 298325,\n",
              " 'problem': 273828,\n",
              " 'think': 349606,\n",
              " 'discriminating': 97776,\n",
              " 'recovery': 285366,\n",
              " 'mind': 222855,\n",
              " 'disown': 98317,\n",
              " 'life': 200646,\n",
              " 'knows': 191104,\n",
              " 'trader': 356104,\n",
              " 'joes': 182072,\n",
              " 'things': 349581,\n",
              " 'routinely': 297380,\n",
              " 'basket': 30189,\n",
              " 'fridge': 134334,\n",
              " 'pantry': 254014,\n",
              " 'seem': 308569,\n",
              " 'surprised': 338231,\n",
              " 'joke': 182279,\n",
              " 'talk': 342138,\n",
              " 'almost': 9956,\n",
              " 'bothering': 43077,\n",
              " 'today': 352945,\n",
              " 'finally': 126916,\n",
              " 'prompted': 274826,\n",
              " 'write': 386473,\n",
              " 'son': 323869,\n",
              " 'picking': 263032,\n",
              " 'prize': 273683,\n",
              " 'moved': 229387,\n",
              " 'employee': 111893,\n",
              " 'sorry': 324717,\n",
              " 'seriously': 310139,\n",
              " 'needs': 235429,\n",
              " 'meeting': 218224,\n",
              " 'pays': 257446,\n",
              " 'wages': 376706,\n",
              " 'cares': 56137,\n",
              " 'products': 274169,\n",
              " 'hotel': 164243,\n",
              " 'anticipate': 14750,\n",
              " 'nearby': 235079,\n",
              " 'conveniently': 77217,\n",
              " 'lots': 205118,\n",
              " 'amenities': 11567,\n",
              " 'accommodating': 2469,\n",
              " 'stayed': 330866,\n",
              " 'four': 132486,\n",
              " 'times': 351602,\n",
              " 'fan': 122720,\n",
              " 'resort': 290568,\n",
              " 'fee': 124641,\n",
              " 'managed': 210968,\n",
              " 'ayce': 25147,\n",
              " 'vents': 371853,\n",
              " 'smell': 320848,\n",
              " 'meat': 217332,\n",
              " 'though': 350075,\n",
              " 'marinated': 213175,\n",
              " 'seasoned': 308014,\n",
              " 'especially': 115966,\n",
              " 'korean': 192061,\n",
              " 'ones': 246106,\n",
              " 'reviewers': 292333,\n",
              " 'sushi': 338467,\n",
              " 'ordering': 247964,\n",
              " 'reluctantly': 288203,\n",
              " 'willing': 383172,\n",
              " 'haha': 153262,\n",
              " 'delicious': 91117,\n",
              " 'wine': 383471,\n",
              " 'lcbo': 197832,\n",
              " 'terms': 346845,\n",
              " 'ok': 244792,\n",
              " 'prosciutto': 275240,\n",
              " 'croquettes': 82689,\n",
              " 'date': 87610,\n",
              " 'manchego': 211152,\n",
              " 'extremely': 120843,\n",
              " 'liked': 201052,\n",
              " 'tapas': 342962,\n",
              " 'dish': 98015,\n",
              " 'cracker': 80696,\n",
              " 'ricotta': 293381,\n",
              " 'peaches': 257732,\n",
              " 'sage': 300347,\n",
              " 'breakfast': 45263,\n",
              " 'american': 11630,\n",
              " 'toast': 352731,\n",
              " 'yummy': 391573,\n",
              " 'eggs': 109208,\n",
              " 'hash': 156029,\n",
              " 'elderly': 110116,\n",
              " 'dine': 96543,\n",
              " 'strip': 333634,\n",
              " 'mall': 210523,\n",
              " 'type': 361302,\n",
              " 'franchise': 132955,\n",
              " 'twice': 360921,\n",
              " 'quite': 280085,\n",
              " 'possibly': 269770,\n",
              " 'favorite': 124106,\n",
              " 'smoke': 321100,\n",
              " 'flavor': 128790,\n",
              " 'moist': 226127,\n",
              " 'slaw': 319398,\n",
              " 'homemade': 162501,\n",
              " 'grocery': 149609,\n",
              " 'store': 332667,\n",
              " 'sauce': 303705,\n",
              " 'worth': 385914,\n",
              " 'lunch': 206719,\n",
              " 'breaks': 45324,\n",
              " 'pick': 262980,\n",
              " 'grilled': 149235,\n",
              " 'chop': 66126,\n",
              " 'phenomenal': 261743,\n",
              " 'portion': 269415,\n",
              " 'spring': 328373,\n",
              " 'roll': 295852,\n",
              " 'working': 385635,\n",
              " 'dance': 86858,\n",
              " 'studio': 334154,\n",
              " 'wearing': 379217,\n",
              " 'lululemon': 206550,\n",
              " 'day': 87926,\n",
              " 'clothing': 70045,\n",
              " 'highest': 160078,\n",
              " 'worn': 385798,\n",
              " 'wunder': 386813,\n",
              " 'unders': 364095,\n",
              " 'least': 198109,\n",
              " 'week': 379573,\n",
              " 'years': 388991,\n",
              " 'still': 331966,\n",
              " 'afford': 5625,\n",
              " 'anyway': 15304,\n",
              " 'honest': 162799,\n",
              " 'days': 88040,\n",
              " 'pool': 268502,\n",
              " 'far': 123087,\n",
              " 'enjoyed': 113156,\n",
              " 'afternoon': 5904,\n",
              " 'encore': 112404,\n",
              " 'beach': 31388,\n",
              " 'club': 70161,\n",
              " 'despite': 93690,\n",
              " 'wait': 376935,\n",
              " 'minimal': 223110,\n",
              " 'bag': 26943,\n",
              " 'check': 62516,\n",
              " 'bathroom': 30496,\n",
              " 'issues': 177141,\n",
              " 'anything': 15256,\n",
              " 'anybody': 15145,\n",
              " 'male': 210356,\n",
              " 'hosts': 164180,\n",
              " 'interaction': 174670,\n",
              " 'cocktail': 70960,\n",
              " 'waitresses': 377049,\n",
              " 'helped': 158499,\n",
              " 'sweet': 339425,\n",
              " 'whole': 382189,\n",
              " 'vibe': 373113,\n",
              " 'upscale': 367747,\n",
              " 'however': 164836,\n",
              " 'money': 226793,\n",
              " 'command': 72868,\n",
              " 'cabana': 51939,\n",
              " 'dinner': 96696,\n",
              " 'prime': 273257,\n",
              " 'eating': 107380,\n",
              " 'foods': 131060,\n",
              " 'control': 77080,\n",
              " 'portions': 269429,\n",
              " 'contest': 76753,\n",
              " 'bali': 27783,\n",
              " 'ago': 6448,\n",
              " 'tested': 347229,\n",
              " 'elasticity': 110050,\n",
              " 'stomach': 332430,\n",
              " 'conclusion': 74657,\n",
              " 'might': 221939,\n",
              " 'iron': 176445,\n",
              " 'latest': 196941,\n",
              " 'hana': 154479,\n",
              " 'wise': 383961,\n",
              " 'gracious': 147426,\n",
              " 'thought': 350100,\n",
              " 'prices': 273067,\n",
              " 'stampeder': 330036,\n",
              " 'veggie': 371130,\n",
              " 'yam': 388316,\n",
              " 'tempura': 346035,\n",
              " 'plenty': 266459,\n",
              " 'gentleman': 141221,\n",
              " 'large': 196424,\n",
              " 'consumed': 76525,\n",
              " 'chu': 66808,\n",
              " 'toro': 354706,\n",
              " 'uni': 365198,\n",
              " 'tea': 344673,\n",
              " 'damn': 86744,\n",
              " 'pot': 269968,\n",
              " 'tapping': 343090,\n",
              " 'sheer': 312785,\n",
              " 'madness': 208803,\n",
              " 'pieces': 263279,\n",
              " 'likely': 201078,\n",
              " 'less': 199568,\n",
              " 'noisy': 239024,\n",
              " 'tables': 340931,\n",
              " 'annoyingly': 14242,\n",
              " 'loud': 205203,\n",
              " 'obnoxious': 242823,\n",
              " 'hardly': 155494,\n",
              " 'fault': 123941,\n",
              " 'decent': 89065,\n",
              " 'generous': 140992,\n",
              " 'trendy': 357637,\n",
              " 'expected': 119636,\n",
              " 'hostess': 164141,\n",
              " 'bit': 38013,\n",
              " 'stickler': 331844,\n",
              " 'rules': 298306,\n",
              " 'killed': 189228,\n",
              " 'kindness': 189557,\n",
              " 'warmed': 377908,\n",
              " 'group': 149924,\n",
              " 'add': 3952,\n",
              " 'protein': 275438,\n",
              " 'watch': 378452,\n",
              " 'inflat': 172413,\n",
              " 'cup': 84470,\n",
              " 'pozole': 270728,\n",
              " 'wished': 383993,\n",
              " 'gotten': 146929,\n",
              " 'bowl': 43918,\n",
              " 'hibachi': 159793,\n",
              " 'bought': 43377,\n",
              " 'amount': 12195,\n",
              " 'reasonable': 283970,\n",
              " 'display': 98449,\n",
              " 'tricks': 357928,\n",
              " 'chef': 63062,\n",
              " 'okay': 244838,\n",
              " 'irish': 176393,\n",
              " 'wolfhound': 384706,\n",
              " 'sleazy': 319452,\n",
              " 'ways': 378970,\n",
              " 'selective': 309038,\n",
              " 'discrimination': 97777,\n",
              " 'unbelievable': 363157,\n",
              " 'continue': 76853,\n",
              " 'patronize': 256967,\n",
              " 'appreciate': 16798,\n",
              " 'women': 384802,\n",
              " 'golfed': 145748,\n",
              " 'quote': 280218,\n",
              " 'phone': 262233,\n",
              " 'debt': 88873,\n",
              " 'added': 3972,\n",
              " 'chart': 61876,\n",
              " 'girl': 143546,\n",
              " 'golfers': 145751,\n",
              " 'worked': 385599,\n",
              " 'industry': 172058,\n",
              " 'yes': 389634,\n",
              " 'sucked': 335393,\n",
              " 'course': 79929,\n",
              " 'usual': 368467,\n",
              " 'staying': 330880,\n",
              " 'venetian': 371635,\n",
              " 'joana': 181901,\n",
              " 'server': 310350,\n",
              " 'rigatoni': 293754,\n",
              " 'vodka': 375096,\n",
              " 'local': 203305,\n",
              " 'guys': 151983,\n",
              " 'keeping': 187146,\n",
              " 'stupid': 334346,\n",
              " 'shit': 313980,\n",
              " 'chain': 60490,\n",
              " 'full': 136282,\n",
              " 'skate': 318344,\n",
              " 'shop': 314632,\n",
              " 'knowledagable': 191025,\n",
              " 'shoe': 314414,\n",
              " 'shirts': 313888,\n",
              " 'buy': 51274,\n",
              " 'decks': 89247,\n",
              " 'wheels': 381362,\n",
              " 'skateboard': 318345,\n",
              " 'concerned': 74542,\n",
              " 'cool': 77646,\n",
              " 'walked': 377297,\n",
              " 'heard': 157340,\n",
              " 'early': 106980,\n",
              " 'stooges': 332575,\n",
              " 'cranking': 80996,\n",
              " 'speakers': 326372,\n",
              " 'snottsdale': 322150,\n",
              " 'scum': 307525,\n",
              " 'arcadia': 17699,\n",
              " 'bitches': 38034,\n",
              " 'relate': 287844,\n",
              " 'truck': 358845,\n",
              " 'fajita': 122202,\n",
              " 'burrito': 50310,\n",
              " 'incredibly': 171432,\n",
              " 'spicy': 327141,\n",
              " 'cry': 83476,\n",
              " 'willingly': 383175,\n",
              " 'embraced': 111282,\n",
              " 'challenge': 60685,\n",
              " 'succeeded': 335250,\n",
              " 'extra': 120686,\n",
              " 'dashes': 87549,\n",
              " 'tabasco': 340813,\n",
              " 'possible': 269755,\n",
              " 'deal': 88488,\n",
              " 'sweated': 339322,\n",
              " 'cried': 82057,\n",
              " 'single': 317445,\n",
              " 'bite': 38069,\n",
              " 'blast': 38931,\n",
              " 'humorous': 165930,\n",
              " 'helpful': 158511,\n",
              " 'polite': 267821,\n",
              " 'tell': 345724,\n",
              " 'heat': 157485,\n",
              " 'comic': 72769,\n",
              " 'book': 42044,\n",
              " 'geek': 140365,\n",
              " 'upon': 367639,\n",
              " 'hearing': 157353,\n",
              " 'themed': 348580,\n",
              " 'birthday': 37745,\n",
              " 'reservation': 290262,\n",
              " 'friday': 134320,\n",
              " 'empty': 112017,\n",
              " 'started': 330524,\n",
              " 'filling': 126704,\n",
              " 'entrance': 113939,\n",
              " 'hidden': 159914,\n",
              " 'outside': 250227,\n",
              " 'walls': 377458,\n",
              " 'plastered': 265792,\n",
              " 'strips': 333684,\n",
              " 'collectibles': 71924,\n",
              " 'sale': 300956,\n",
              " 'realize': 283667,\n",
              " 'secret': 308306,\n",
              " 'hoping': 163449,\n",
              " 'hallway': 154071,\n",
              " 'stairway': 329928,\n",
              " 'walk': 377281,\n",
              " 'allowed': 9704,\n",
              " 'videos': 373350,\n",
              " 'preserve': 272458,\n",
              " 'mystery': 232381,\n",
              " 'cute': 85188,\n",
              " 'mirror': 223716,\n",
              " 'near': 235077,\n",
              " 'washrooms': 378215,\n",
              " 'selfies': 309099,\n",
              " 'catch': 57940,\n",
              " 'situated': 318037,\n",
              " 'foot': 131253,\n",
              " 'traffic': 356228,\n",
              " 'washroom': 378214,\n",
              " 'servers': 310370,\n",
              " 'kitchen': 190037,\n",
              " 'seated': 308064,\n",
              " 'instaworthy': 174177,\n",
              " 'johnny': 182181,\n",
              " 'blaze': 38995,\n",
              " 'maleficent': 210369,\n",
              " 'rarely': 282271,\n",
              " 'target': 343305,\n",
              " 'tag': 341416,\n",
              " 'rather': 282616,\n",
              " 'barchef': 29166,\n",
              " 'figures': 126441,\n",
              " 'style': 334459,\n",
              " 'settled': 310781,\n",
              " 'several': 310887,\n",
              " 'dishes': 98044,\n",
              " 'share': 312140,\n",
              " 'house': 164601,\n",
              " ...}"
            ]
          },
          "metadata": {},
          "execution_count": 25
        }
      ]
    },
    {
      "cell_type": "code",
      "metadata": {
        "colab": {
          "base_uri": "https://localhost:8080/"
        },
        "id": "2FmEVRgKgZLR",
        "outputId": "39a9d8e6-568c-4c32-b0ff-dcc64764df2b"
      },
      "source": [
        "len(vectorizer.vocabulary_)"
      ],
      "execution_count": null,
      "outputs": [
        {
          "output_type": "execute_result",
          "data": {
            "text/plain": [
              "403003"
            ]
          },
          "metadata": {},
          "execution_count": 27
        }
      ]
    },
    {
      "cell_type": "markdown",
      "metadata": {
        "id": "8czH9Ev8_1P0"
      },
      "source": [
        "###Implementación Naive Bayes"
      ]
    },
    {
      "cell_type": "code",
      "metadata": {
        "colab": {
          "base_uri": "https://localhost:8080/"
        },
        "id": "9AeLXTo4dbaj",
        "outputId": "78634a2b-6275-49e2-acf3-90237df17302"
      },
      "source": [
        "naive_bayes = MultinomialNB()\n",
        "naive_bayes.fit(your_matrix_back, y_train)"
      ],
      "execution_count": null,
      "outputs": [
        {
          "output_type": "execute_result",
          "data": {
            "text/plain": [
              "MultinomialNB(alpha=1.0, class_prior=None, fit_prior=True)"
            ]
          },
          "metadata": {},
          "execution_count": 20
        }
      ]
    },
    {
      "cell_type": "code",
      "metadata": {
        "id": "VIMlPCdY_A2V"
      },
      "source": [
        "predictions = naive_bayes.predict(your_matrix_back1)"
      ],
      "execution_count": null,
      "outputs": []
    },
    {
      "cell_type": "markdown",
      "metadata": {
        "id": "3ntPPQsEA8pG"
      },
      "source": [
        "###Implementación XGBOOST"
      ]
    },
    {
      "cell_type": "code",
      "metadata": {
        "id": "97Z2fAoBk_hL"
      },
      "source": [
        "xgb=XGBClassifier()\n",
        "xgb.fit(your_matrix_back,y_train)\n",
        "predxgb = xgb.predict(your_matrix_back1)"
      ],
      "execution_count": null,
      "outputs": []
    },
    {
      "cell_type": "markdown",
      "metadata": {
        "id": "qjBPt2OmBblJ"
      },
      "source": [
        "## Métricas"
      ]
    },
    {
      "cell_type": "code",
      "metadata": {
        "id": "ftwy_ZxHUwhd"
      },
      "source": [
        "def plot_roc_curve(fpr, tpr):\n",
        "    plt.figure(figsize=(13,7))\n",
        "    lw = 2\n",
        "    plt.plot([0,1], [0, 1])\n",
        "    plt.plot(fpr, tpr)\n",
        "    plt.xlabel('False Positive Rate')\n",
        "    plt.ylabel('True Positive Rate')\n",
        "    plt.title('ROC')\n",
        "    plt.show()"
      ],
      "execution_count": null,
      "outputs": []
    },
    {
      "cell_type": "markdown",
      "metadata": {
        "id": "TqicCxYA7viJ"
      },
      "source": [
        "### METRICAS NAIVE BAYES CON CV"
      ]
    },
    {
      "cell_type": "code",
      "metadata": {
        "id": "YJOjww5bEyUo",
        "colab": {
          "base_uri": "https://localhost:8080/"
        },
        "outputId": "2bb86639-7249-40cd-dc26-2a6e75054d2c"
      },
      "source": [
        "accuracy_nb_cv = accuracy_score(y_test, predictions)\n",
        "precision_nb_cv = precision_score(y_test, predictions)\n",
        "recall_nb_cv = recall_score(y_test, predictions)\n",
        "f1_nb_cv = f1_score(y_test, predictions)\n",
        "print('Resultados:')\n",
        "print('Accuracy score NB con CV  : {:.2f}'.format(accuracy_nb_cv))\n",
        "print('Precisión score NB con CV : {:.2f}'.format(precision_nb_cv))\n",
        "print('Recall score NB con CV    : {:.2f}'.format(recall_nb_cv))\n",
        "print('F1 score NB con CV        : {:.2f}'.format(f1_nb_cv))"
      ],
      "execution_count": null,
      "outputs": [
        {
          "output_type": "stream",
          "name": "stdout",
          "text": [
            "Resultados:\n",
            "Accuracy score NB con CV  : 0.86\n",
            "Precisión score NB con CV : 0.88\n",
            "Recall score NB con CV    : 0.91\n",
            "F1 score NB con CV        : 0.89\n"
          ]
        }
      ]
    },
    {
      "cell_type": "code",
      "metadata": {
        "id": "BQvtY4XNU-Bm"
      },
      "source": [
        "probs=naive_bayes.predict_proba(your_matrix_back1)\n",
        "probs=probs[:,1]\n",
        "roc_auc_score(y_test, probs)\n",
        "fpr, tpr, umbral= roc_curve(y_test, probs)"
      ],
      "execution_count": null,
      "outputs": []
    },
    {
      "cell_type": "code",
      "metadata": {
        "id": "AswQ21FTVuwn",
        "colab": {
          "base_uri": "https://localhost:8080/",
          "height": 458
        },
        "outputId": "a38e53bc-c8bd-401c-c160-fc5bc2695977"
      },
      "source": [
        "plot_roc_curve(fpr, tpr)"
      ],
      "execution_count": null,
      "outputs": [
        {
          "output_type": "display_data",
          "data": {
            "image/png": "[encoded data removed]",
            "text/plain": [
              "<Figure size 936x504 with 1 Axes>"
            ]
          },
          "metadata": {
            "needs_background": "light"
          }
        }
      ]
    },
    {
      "cell_type": "markdown",
      "metadata": {
        "id": "IUki3HdM7q9F"
      },
      "source": [
        "### MÉTRICAS XGBOOST CON CV"
      ]
    },
    {
      "cell_type": "code",
      "metadata": {
        "id": "Ip5VWn7oWI_Q",
        "colab": {
          "base_uri": "https://localhost:8080/"
        },
        "outputId": "f7a7a212-9247-4ef1-bcb9-af194189c267"
      },
      "source": [
        "accuracy_xgb_cv = accuracy_score(y_test, predxgb)\n",
        "precision_xgb_cv = precision_score(y_test, predxgb)\n",
        "recall_xgb_cv = recall_score(y_test, predxgb)\n",
        "f1_xgb_cv = f1_score(y_test, predxgb)\n",
        "print('Resultados:')\n",
        "print('Accuracy score xgb con CV  : {:.2f}'.format(accuracy_xgb_cv))\n",
        "print('Precisión score xgb con CV : {:.2f}'.format(precision_xgb_cv))\n",
        "print('Recall score xgb con CV    : {:.2f}'.format(recall_xgb_cv))\n",
        "print('F1 score xgb con CV        : {:.2f}'.format(f1_xgb_cv))"
      ],
      "execution_count": null,
      "outputs": [
        {
          "output_type": "stream",
          "name": "stdout",
          "text": [
            "Resultados:\n",
            "Accuracy score xgb con CV  : 0.83\n",
            "Precisión score xgb con CV : 0.81\n",
            "Recall score xgb con CV    : 0.96\n",
            "F1 score xgb con CV        : 0.88\n"
          ]
        }
      ]
    },
    {
      "cell_type": "code",
      "metadata": {
        "id": "hLKMZxAp6Ts1"
      },
      "source": [
        "probs=xgb.predict_proba(your_matrix_back1)\n",
        "probs=probs[:,1]\n",
        "roc_auc_score(y_test, probs)\n",
        "fpr, tpr, umbral= roc_curve(y_test, probs)"
      ],
      "execution_count": null,
      "outputs": []
    },
    {
      "cell_type": "code",
      "metadata": {
        "colab": {
          "base_uri": "https://localhost:8080/",
          "height": 458
        },
        "id": "OoXqA1w46dh0",
        "outputId": "31b355a3-ead7-4a5d-f165-699dc056412f"
      },
      "source": [
        "plot_roc_curve(fpr, tpr)"
      ],
      "execution_count": null,
      "outputs": [
        {
          "output_type": "display_data",
          "data": {
            "image/png": "[encoded data removed]",
            "text/plain": [
              "<Figure size 936x504 with 1 Axes>"
            ]
          },
          "metadata": {
            "needs_background": "light"
          }
        }
      ]
    },
    {
      "cell_type": "markdown",
      "metadata": {
        "id": "xDUExQgcCiqM"
      },
      "source": [
        "## TF-IDF Vectorizer"
      ]
    },
    {
      "cell_type": "code",
      "metadata": {
        "id": "EOLyKnk2D16I"
      },
      "source": [
        "tfidf_vectorizer = TfidfVectorizer(stop_words=stop_words)"
      ],
      "execution_count": null,
      "outputs": []
    },
    {
      "cell_type": "code",
      "metadata": {
        "id": "H6mn_oFND6pa"
      },
      "source": [
        "training_data_tfidfVectorizer = tfidf_vectorizer.fit_transform(X_train)\n",
        "testing_data_tfidfVectorizer  = tfidf_vectorizer.transform(X_test)"
      ],
      "execution_count": null,
      "outputs": []
    },
    {
      "cell_type": "code",
      "metadata": {
        "id": "m0tfQRyf89h2"
      },
      "source": [
        "sparse.save_npz(\"/content/drive/Shareddrives/Diplo DS -Grupo 01/TP5/yourmatrix3.npz\", training_data_tfidfVectorizer)\n",
        "sparse.save_npz(\"/content/drive/Shareddrives/Diplo DS -Grupo 01/TP5/yourmatrix4.npz\", testing_data_tfidfVectorizer)"
      ],
      "execution_count": null,
      "outputs": []
    },
    {
      "cell_type": "code",
      "metadata": {
        "id": "40b8g-60_Uvl"
      },
      "source": [
        "yourmatrix3 = sparse.load_npz(\"/content/drive/Shareddrives/Diplo DS -Grupo 01/TP5/yourmatrix3.npz\")\n",
        "yourmatrix4 = sparse.load_npz(\"/content/drive/Shareddrives/Diplo DS -Grupo 01/TP5/yourmatrix4.npz\")"
      ],
      "execution_count": null,
      "outputs": []
    },
    {
      "cell_type": "markdown",
      "metadata": {
        "id": "lVya_nMcC0z4"
      },
      "source": [
        "###Implementación Naive Bayes"
      ]
    },
    {
      "cell_type": "code",
      "metadata": {
        "id": "2thuY3NlirYL",
        "colab": {
          "base_uri": "https://localhost:8080/"
        },
        "outputId": "f4f9d7f6-b11a-429e-d42a-748ad95402e0"
      },
      "source": [
        "naive_bayes = MultinomialNB()\n",
        "naive_bayes.fit(yourmatrix3, y_train)"
      ],
      "execution_count": null,
      "outputs": [
        {
          "output_type": "execute_result",
          "data": {
            "text/plain": [
              "MultinomialNB(alpha=1.0, class_prior=None, fit_prior=True)"
            ]
          },
          "metadata": {},
          "execution_count": 12
        }
      ]
    },
    {
      "cell_type": "code",
      "metadata": {
        "id": "VRZ8_3YeirYL"
      },
      "source": [
        "predictions = naive_bayes.predict(yourmatrix4)"
      ],
      "execution_count": null,
      "outputs": []
    },
    {
      "cell_type": "markdown",
      "metadata": {
        "id": "0ZfCl5gwQb-y"
      },
      "source": [
        "## Implementacion XGBOOST"
      ]
    },
    {
      "cell_type": "code",
      "metadata": {
        "id": "bYv0vqjT0zkX",
        "colab": {
          "base_uri": "https://localhost:8080/"
        },
        "outputId": "9c96062c-5228-4821-c906-ddd1214789e4"
      },
      "source": [
        "xgb=XGBClassifier()\n",
        "xgb.fit(yourmatrix3,y_train)"
      ],
      "execution_count": null,
      "outputs": [
        {
          "output_type": "execute_result",
          "data": {
            "text/plain": [
              "XGBClassifier(base_score=0.5, booster='gbtree', colsample_bylevel=1,\n",
              "              colsample_bynode=1, colsample_bytree=1, gamma=0,\n",
              "              learning_rate=0.1, max_delta_step=0, max_depth=3,\n",
              "              min_child_weight=1, missing=None, n_estimators=100, n_jobs=1,\n",
              "              nthread=None, objective='binary:logistic', random_state=0,\n",
              "              reg_alpha=0, reg_lambda=1, scale_pos_weight=1, seed=None,\n",
              "              silent=None, subsample=1, verbosity=1)"
            ]
          },
          "metadata": {},
          "execution_count": 20
        }
      ]
    },
    {
      "cell_type": "code",
      "metadata": {
        "id": "utmNfm9s1GeX"
      },
      "source": [
        "predxgb = xgb.predict(yourmatrix4)"
      ],
      "execution_count": null,
      "outputs": []
    },
    {
      "cell_type": "markdown",
      "metadata": {
        "id": "DVcuwhKxC0z6"
      },
      "source": [
        "### Métricas"
      ]
    },
    {
      "cell_type": "markdown",
      "metadata": {
        "id": "C3wF-BfNBEmX"
      },
      "source": [
        "### Metricas de NAIVE BAYES CON TD-IDF"
      ]
    },
    {
      "cell_type": "code",
      "metadata": {
        "id": "SwXhZlF5EMUd"
      },
      "source": [
        "predictions = naive_bayes.predict(yourmatrix4)"
      ],
      "execution_count": null,
      "outputs": []
    },
    {
      "cell_type": "code",
      "metadata": {
        "id": "kiW1-WsFWwDx",
        "colab": {
          "base_uri": "https://localhost:8080/"
        },
        "outputId": "64af4ab4-5d8d-43d9-854f-24d7d5eb92b1"
      },
      "source": [
        "accuracy_nb_tv = accuracy_score(y_test, predictions)\n",
        "precision_nb_tv = precision_score(y_test, predictions)\n",
        "recall_nb_tv = recall_score(y_test, predictions)\n",
        "f1_nb_tv = f1_score(y_test, predictions)\n",
        "print('Resultados Naive Bayes:')\n",
        "print('Accuracy score NB con TV : {:.2f}'.format(accuracy_nb_tv))\n",
        "print('Precisión score NB con TV: {:.2f}'.format(precision_nb_tv))\n",
        "print('Recall score NB con TV   : {:.2f}'.format(recall_nb_tv))\n",
        "print('F1 score NB con TV       : {:.2f}'.format(f1_nb_tv))"
      ],
      "execution_count": null,
      "outputs": [
        {
          "output_type": "stream",
          "name": "stdout",
          "text": [
            "Resultados Naive Bayes:\n",
            "Accuracy score NB con TV : 0.86\n",
            "Precisión score NB con TV: 0.84\n",
            "Recall score NB con TV   : 0.96\n",
            "F1 score NB con TV       : 0.90\n"
          ]
        }
      ]
    },
    {
      "cell_type": "code",
      "metadata": {
        "id": "8qEsp877irYM",
        "colab": {
          "base_uri": "https://localhost:8080/",
          "height": 458
        },
        "outputId": "0cbf8c2e-1553-469d-9d1b-1c34ee11c63e"
      },
      "source": [
        "probs=naive_bayes.predict_proba(yourmatrix4)\n",
        "probs=probs[:,1]\n",
        "roc_auc_score(y_test, probs)\n",
        "fpr, tpr, umbral= roc_curve(y_test, probs)\n",
        "plot_roc_curve(fpr, tpr)"
      ],
      "execution_count": null,
      "outputs": [
        {
          "output_type": "display_data",
          "data": {
            "image/png": "[encoded data removed]",
            "text/plain": [
              "<Figure size 936x504 with 1 Axes>"
            ]
          },
          "metadata": {
            "needs_background": "light"
          }
        }
      ]
    },
    {
      "cell_type": "markdown",
      "metadata": {
        "id": "jdb9kazhBque"
      },
      "source": [
        "### Metricas de XGBOOST CON TD-IDF"
      ]
    },
    {
      "cell_type": "code",
      "metadata": {
        "id": "c8coRAzfBy8W"
      },
      "source": [
        "predictions = xgb.predict(yourmatrix4)"
      ],
      "execution_count": null,
      "outputs": []
    },
    {
      "cell_type": "code",
      "metadata": {
        "id": "UqCdL1lSXsQw",
        "colab": {
          "base_uri": "https://localhost:8080/"
        },
        "outputId": "df437a35-2e03-46e4-9677-b74035d3f6bd"
      },
      "source": [
        "accuracy_xgb_tv = accuracy_score(y_test, predxgb)\n",
        "precision_xgb_tv = precision_score(y_test, predxgb)\n",
        "recall_xgb_tv = recall_score(y_test, predxgb)\n",
        "f1_xgb_tv = f1_score(y_test, predxgb)\n",
        "print('Resultados xgb:')\n",
        "print('Accuracy score xgb con TV : {:.2f}'.format(accuracy_xgb_tv))\n",
        "print('Precisión score xgb con TV: {:.2f}'.format(precision_xgb_tv))\n",
        "print('Recall score xgb con TV   : {:.2f}'.format(recall_xgb_tv))\n",
        "print('F1 score xgb con TV       : {:.2f}'.format(f1_xgb_tv))"
      ],
      "execution_count": null,
      "outputs": [
        {
          "output_type": "stream",
          "name": "stdout",
          "text": [
            "Resultados xgb:\n",
            "Accuracy score xgb con TV : 0.83\n",
            "Precisión score xgb con TV: 0.82\n",
            "Recall score xgb con TV   : 0.95\n",
            "F1 score xgb con TV       : 0.88\n"
          ]
        }
      ]
    },
    {
      "cell_type": "code",
      "metadata": {
        "id": "XQssykeyJK_J",
        "colab": {
          "base_uri": "https://localhost:8080/",
          "height": 458
        },
        "outputId": "2316acbd-5ab4-4a93-bf29-4fe5cc8fbb9d"
      },
      "source": [
        "probs=xgb.predict_proba(yourmatrix4)\n",
        "probs=probs[:,1]\n",
        "roc_auc_score(y_test, probs)\n",
        "fpr, tpr, umbral= roc_curve(y_test, probs)\n",
        "plot_roc_curve(fpr, tpr)"
      ],
      "execution_count": null,
      "outputs": [
        {
          "output_type": "display_data",
          "data": {
            "image/png": "[encoded data removed]",
            "text/plain": [
              "<Figure size 936x504 with 1 Axes>"
            ]
          },
          "metadata": {
            "needs_background": "light"
          }
        }
      ]
    },
    {
      "cell_type": "markdown",
      "metadata": {
        "id": "SihmBD2LFIeH"
      },
      "source": [
        "##Conclusiones"
      ]
    },
    {
      "cell_type": "code",
      "metadata": {
        "id": "naQf7Sdheugq"
      },
      "source": [
        "print('Tabla comparativa')\n",
        "d = [ [\"Accuracy score\", accuracy_nb_cv, accuracy_knn_cv , accuracy_nb_tv, accuracy_knn_tv],\n",
        "     [\"Precisión score\", precision_nb_cv, precision_knn_cv, precision_nb_tv, precision_knn_tv],\n",
        "     [\"Recall score\", recall_nb_cv, recall_knn_cv, recall_nb_tv, recall_knn_tv],\n",
        "     [\"F1 score\", f1_nb_cv, f1_knn_cv, f1_nb_tv, f1_knn_tv]]\n",
        "\n",
        "print(tabulate(d, headers=[\"Metrica\", \"NB con TV\", \"NB con CV\", \"RN 1\"]))"
      ],
      "execution_count": null,
      "outputs": []
    }
  ]
}